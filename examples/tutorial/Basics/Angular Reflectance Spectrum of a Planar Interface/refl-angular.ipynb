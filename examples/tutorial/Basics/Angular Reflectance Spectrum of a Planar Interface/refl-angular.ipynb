{
 "cells": [
  {
   "cell_type": "code",
   "execution_count": 1,
   "metadata": {},
   "outputs": [
    {
     "name": "stdout",
     "output_type": "stream",
     "text": [
      "Using MPI version 4.0, 1 processes\n"
     ]
    }
   ],
   "source": [
    "import meep as mp\n",
    "import math"
   ]
  },
  {
   "cell_type": "code",
   "execution_count": 2,
   "metadata": {},
   "outputs": [],
   "source": [
    "resolution = 200\n",
    "theta = 5"
   ]
  },
  {
   "cell_type": "code",
   "execution_count": 3,
   "metadata": {},
   "outputs": [],
   "source": [
    "dpml = 1.0              # PML thickness\n",
    "sz = 10 + 2*dpml        # size of cell (without PMLs)\n",
    "cell_size = mp.Vector3(0,0,sz)\n",
    "pml_layers = [mp.PML(dpml)]\n",
    "\n",
    "wvl_min = 0.4           # min wavelength\n",
    "wvl_max = 0.8           # max wavelength\n",
    "fmin = 1/wvl_max        # min frequency\n",
    "fmax = 1/wvl_min        # max frequency\n",
    "fcen = 0.5*(fmin+fmax)  # center frequency\n",
    "df = fmax-fmin          # frequency width\n",
    "nfreq = 50              # number of frequency bins\n",
    "\n",
    "# rotation angle (in degrees) of source: CCW around Y axis, 0 degrees along +Z axis\n",
    "theta_r = math.radians(theta)\n",
    "\n",
    "# plane of incidence is xz\n",
    "k = mp.Vector3(math.sin(theta_r),0,math.cos(theta_r)).scale(fmin)\n",
    "\n",
    "# if normal incidence, force number of dimensions to be 1\n",
    "if theta_r == 0:\n",
    "    dimensions = 1\n",
    "else:\n",
    "    dimensions = 3\n",
    "\n",
    "sources = [mp.Source(mp.GaussianSource(fcen,fwidth=df),\n",
    "                        component=mp.Ex,\n",
    "                        center=mp.Vector3(0,0,-0.5*sz+dpml))]\n",
    "\n",
    "sim = mp.Simulation(cell_size=cell_size,\n",
    "                    boundary_layers=pml_layers,\n",
    "                    sources=sources,\n",
    "                    k_point=k,\n",
    "                    dimensions=dimensions,\n",
    "                    resolution=resolution)\n",
    "\n",
    "refl_fr = mp.FluxRegion(center=mp.Vector3(0,0,-0.25*sz))\n",
    "refl = sim.add_flux(fcen, df, nfreq, refl_fr)"
   ]
  },
  {
   "cell_type": "code",
   "execution_count": 4,
   "metadata": {},
   "outputs": [
    {
     "name": "stderr",
     "output_type": "stream",
     "text": [
      "/home/gridsan/mcomella/.conda/envs/pmp/lib/python3.10/site-packages/numpy/core/getlimits.py:500: UserWarning: The value of the smallest subnormal for <class 'numpy.float64'> type is zero.\n",
      "  setattr(self, word, getattr(machar, word).flat[0])\n",
      "/home/gridsan/mcomella/.conda/envs/pmp/lib/python3.10/site-packages/numpy/core/getlimits.py:89: UserWarning: The value of the smallest subnormal for <class 'numpy.float64'> type is zero.\n",
      "  return self._float_to_str(self.smallest_subnormal)\n",
      "/home/gridsan/mcomella/.conda/envs/pmp/lib/python3.10/site-packages/meep/visualization.py:216: UserWarning: The specified user volume is larger than the simulation domain and has been truncated.\n",
      "  warnings.warn('The specified user volume is larger than the simulation domain and has been truncated.')\n"
     ]
    },
    {
     "ename": "ValueError",
     "evalue": "Axes=(0, 1) out of range for array of ndim=0.",
     "output_type": "error",
     "traceback": [
      "\u001b[0;31m---------------------------------------------------------------------------\u001b[0m",
      "\u001b[0;31mValueError\u001b[0m                                Traceback (most recent call last)",
      "\u001b[1;32m/home/gridsan/mcomella/metamaterials/examples/tutorial/Basics/Angular Reflectance Spectrum of a Planar Interface/refl-angular.ipynb Cell 4\u001b[0m in \u001b[0;36m<cell line: 1>\u001b[0;34m()\u001b[0m\n\u001b[0;32m----> <a href='vscode-notebook-cell://ssh-remote%2B7b22686f73744e616d65223a224d4954205375706572636c6f7564227d/home/gridsan/mcomella/metamaterials/examples/tutorial/Basics/Angular%20Reflectance%20Spectrum%20of%20a%20Planar%20Interface/refl-angular.ipynb#W3sdnNjb2RlLXJlbW90ZQ%3D%3D?line=0'>1</a>\u001b[0m sim\u001b[39m.\u001b[39;49mplot2D(output_plane\u001b[39m=\u001b[39;49mmp\u001b[39m.\u001b[39;49mVolume(center\u001b[39m=\u001b[39;49mmp\u001b[39m.\u001b[39;49mVector3(\u001b[39m0\u001b[39;49m,\u001b[39m0\u001b[39;49m,\u001b[39m0\u001b[39;49m), size\u001b[39m=\u001b[39;49mmp\u001b[39m.\u001b[39;49mVector3(sz,sz)))\n",
      "File \u001b[0;32m~/.conda/envs/pmp/lib/python3.10/site-packages/meep/simulation.py:4188\u001b[0m, in \u001b[0;36mSimulation.plot2D\u001b[0;34m(self, ax, output_plane, fields, labels, eps_parameters, boundary_parameters, source_parameters, monitor_parameters, field_parameters, frequency, plot_eps_flag, plot_sources_flag, plot_monitors_flag, plot_boundaries_flag, **kwargs)\u001b[0m\n\u001b[1;32m   4093\u001b[0m \u001b[39mdef\u001b[39;00m \u001b[39mplot2D\u001b[39m(\u001b[39mself\u001b[39m, ax\u001b[39m=\u001b[39m\u001b[39mNone\u001b[39;00m, output_plane\u001b[39m=\u001b[39m\u001b[39mNone\u001b[39;00m, fields\u001b[39m=\u001b[39m\u001b[39mNone\u001b[39;00m, labels\u001b[39m=\u001b[39m\u001b[39mFalse\u001b[39;00m,\n\u001b[1;32m   4094\u001b[0m            eps_parameters\u001b[39m=\u001b[39m\u001b[39mNone\u001b[39;00m, boundary_parameters\u001b[39m=\u001b[39m\u001b[39mNone\u001b[39;00m,\n\u001b[1;32m   4095\u001b[0m            source_parameters\u001b[39m=\u001b[39m\u001b[39mNone\u001b[39;00m, monitor_parameters\u001b[39m=\u001b[39m\u001b[39mNone\u001b[39;00m,\n\u001b[0;32m   (...)\u001b[0m\n\u001b[1;32m   4098\u001b[0m            plot_monitors_flag\u001b[39m=\u001b[39m\u001b[39mTrue\u001b[39;00m, plot_boundaries_flag\u001b[39m=\u001b[39m\u001b[39mTrue\u001b[39;00m,\n\u001b[1;32m   4099\u001b[0m            \u001b[39m*\u001b[39m\u001b[39m*\u001b[39mkwargs):\n\u001b[1;32m   4100\u001b[0m     \u001b[39m\"\"\"\u001b[39;00m\n\u001b[1;32m   4101\u001b[0m \u001b[39m    Plots a 2D cross section of the simulation domain using `matplotlib`. The plot\u001b[39;00m\n\u001b[1;32m   4102\u001b[0m \u001b[39m    includes the geometry, boundary layers, sources, and monitors. Fields can also be\u001b[39;00m\n\u001b[0;32m   (...)\u001b[0m\n\u001b[1;32m   4186\u001b[0m \u001b[39m          a function object)\u001b[39;00m\n\u001b[1;32m   4187\u001b[0m \u001b[39m    \"\"\"\u001b[39;00m\n\u001b[0;32m-> 4188\u001b[0m     \u001b[39mreturn\u001b[39;00m vis\u001b[39m.\u001b[39;49mplot2D(\u001b[39mself\u001b[39;49m,\n\u001b[1;32m   4189\u001b[0m                       ax\u001b[39m=\u001b[39;49max,\n\u001b[1;32m   4190\u001b[0m                       output_plane\u001b[39m=\u001b[39;49moutput_plane,\n\u001b[1;32m   4191\u001b[0m                       fields\u001b[39m=\u001b[39;49mfields,\n\u001b[1;32m   4192\u001b[0m                       labels\u001b[39m=\u001b[39;49mlabels,\n\u001b[1;32m   4193\u001b[0m                       eps_parameters\u001b[39m=\u001b[39;49meps_parameters,\n\u001b[1;32m   4194\u001b[0m                       boundary_parameters\u001b[39m=\u001b[39;49mboundary_parameters,\n\u001b[1;32m   4195\u001b[0m                       source_parameters\u001b[39m=\u001b[39;49msource_parameters,\n\u001b[1;32m   4196\u001b[0m                       monitor_parameters\u001b[39m=\u001b[39;49mmonitor_parameters,\n\u001b[1;32m   4197\u001b[0m                       field_parameters\u001b[39m=\u001b[39;49mfield_parameters,\n\u001b[1;32m   4198\u001b[0m                       frequency\u001b[39m=\u001b[39;49mfrequency,\n\u001b[1;32m   4199\u001b[0m                       plot_eps_flag\u001b[39m=\u001b[39;49mplot_eps_flag,\n\u001b[1;32m   4200\u001b[0m                       plot_sources_flag\u001b[39m=\u001b[39;49mplot_sources_flag,\n\u001b[1;32m   4201\u001b[0m                       plot_monitors_flag\u001b[39m=\u001b[39;49mplot_monitors_flag,\n\u001b[1;32m   4202\u001b[0m                       plot_boundaries_flag\u001b[39m=\u001b[39;49mplot_boundaries_flag,\n\u001b[1;32m   4203\u001b[0m                       \u001b[39m*\u001b[39;49m\u001b[39m*\u001b[39;49mkwargs)\n",
      "File \u001b[0;32m~/.conda/envs/pmp/lib/python3.10/site-packages/meep/visualization.py:655\u001b[0m, in \u001b[0;36mplot2D\u001b[0;34m(sim, ax, output_plane, fields, labels, eps_parameters, boundary_parameters, source_parameters, monitor_parameters, field_parameters, frequency, plot_eps_flag, plot_sources_flag, plot_monitors_flag, plot_boundaries_flag)\u001b[0m\n\u001b[1;32m    653\u001b[0m \u001b[39m# Plot geometry\u001b[39;00m\n\u001b[1;32m    654\u001b[0m \u001b[39mif\u001b[39;00m plot_eps_flag:\n\u001b[0;32m--> 655\u001b[0m     ax \u001b[39m=\u001b[39m plot_eps(sim, ax, output_plane\u001b[39m=\u001b[39;49moutput_plane,\n\u001b[1;32m    656\u001b[0m                   eps_parameters\u001b[39m=\u001b[39;49meps_parameters, frequency\u001b[39m=\u001b[39;49mfrequency)\n\u001b[1;32m    658\u001b[0m \u001b[39m# Plot boundaries\u001b[39;00m\n\u001b[1;32m    659\u001b[0m \u001b[39mif\u001b[39;00m plot_boundaries_flag:\n",
      "File \u001b[0;32m~/.conda/envs/pmp/lib/python3.10/site-packages/meep/visualization.py:431\u001b[0m, in \u001b[0;36mplot_eps\u001b[0;34m(sim, ax, output_plane, eps_parameters, frequency)\u001b[0m\n\u001b[1;32m    428\u001b[0m \u001b[39melse\u001b[39;00m:\n\u001b[1;32m    429\u001b[0m     \u001b[39mraise\u001b[39;00m \u001b[39mValueError\u001b[39;00m(\u001b[39m\"\u001b[39m\u001b[39mA 2D plane has not been specified...\u001b[39m\u001b[39m\"\u001b[39m)\n\u001b[0;32m--> 431\u001b[0m eps_data \u001b[39m=\u001b[39m np\u001b[39m.\u001b[39;49mrot90(np\u001b[39m.\u001b[39;49mreal(sim\u001b[39m.\u001b[39;49mget_epsilon_grid(xtics, ytics, ztics, eps_parameters[\u001b[39m'\u001b[39;49m\u001b[39mfrequency\u001b[39;49m\u001b[39m'\u001b[39;49m])))\n\u001b[1;32m    433\u001b[0m \u001b[39mif\u001b[39;00m mp\u001b[39m.\u001b[39mam_master():\n\u001b[1;32m    434\u001b[0m     \u001b[39mif\u001b[39;00m eps_parameters[\u001b[39m'\u001b[39m\u001b[39mcontour\u001b[39m\u001b[39m'\u001b[39m]:\n",
      "File \u001b[0;32m<__array_function__ internals>:180\u001b[0m, in \u001b[0;36mrot90\u001b[0;34m(*args, **kwargs)\u001b[0m\n",
      "File \u001b[0;32m~/.conda/envs/pmp/lib/python3.10/site-packages/numpy/lib/function_base.py:227\u001b[0m, in \u001b[0;36mrot90\u001b[0;34m(m, k, axes)\u001b[0m\n\u001b[1;32m    223\u001b[0m     \u001b[39mraise\u001b[39;00m \u001b[39mValueError\u001b[39;00m(\u001b[39m\"\u001b[39m\u001b[39mAxes must be different.\u001b[39m\u001b[39m\"\u001b[39m)\n\u001b[1;32m    225\u001b[0m \u001b[39mif\u001b[39;00m (axes[\u001b[39m0\u001b[39m] \u001b[39m>\u001b[39m\u001b[39m=\u001b[39m m\u001b[39m.\u001b[39mndim \u001b[39mor\u001b[39;00m axes[\u001b[39m0\u001b[39m] \u001b[39m<\u001b[39m \u001b[39m-\u001b[39mm\u001b[39m.\u001b[39mndim\n\u001b[1;32m    226\u001b[0m     \u001b[39mor\u001b[39;00m axes[\u001b[39m1\u001b[39m] \u001b[39m>\u001b[39m\u001b[39m=\u001b[39m m\u001b[39m.\u001b[39mndim \u001b[39mor\u001b[39;00m axes[\u001b[39m1\u001b[39m] \u001b[39m<\u001b[39m \u001b[39m-\u001b[39mm\u001b[39m.\u001b[39mndim):\n\u001b[0;32m--> 227\u001b[0m     \u001b[39mraise\u001b[39;00m \u001b[39mValueError\u001b[39;00m(\u001b[39m\"\u001b[39m\u001b[39mAxes=\u001b[39m\u001b[39m{}\u001b[39;00m\u001b[39m out of range for array of ndim=\u001b[39m\u001b[39m{}\u001b[39;00m\u001b[39m.\u001b[39m\u001b[39m\"\u001b[39m\n\u001b[1;32m    228\u001b[0m         \u001b[39m.\u001b[39mformat(axes, m\u001b[39m.\u001b[39mndim))\n\u001b[1;32m    230\u001b[0m k \u001b[39m%\u001b[39m\u001b[39m=\u001b[39m \u001b[39m4\u001b[39m\n\u001b[1;32m    232\u001b[0m \u001b[39mif\u001b[39;00m k \u001b[39m==\u001b[39m \u001b[39m0\u001b[39m:\n",
      "\u001b[0;31mValueError\u001b[0m: Axes=(0, 1) out of range for array of ndim=0."
     ]
    },
    {
     "data": {
      "image/png": "[encoded data removed]",
      "text/plain": [
       "<Figure size 640x480 with 1 Axes>"
      ]
     },
     "metadata": {},
     "output_type": "display_data"
    }
   ],
   "source": [
    "sim.plot2D(output_plane=mp.Volume(center=mp.Vector3(0,0,0), size=mp.Vector3(sz,sz)))"
   ]
  },
  {
   "cell_type": "code",
   "execution_count": null,
   "metadata": {},
   "outputs": [
    {
     "ename": "ValueError",
     "evalue": "Axes must be different.",
     "output_type": "error",
     "traceback": [
      "\u001b[0;31m---------------------------------------------------------------------------\u001b[0m",
      "\u001b[0;31mValueError\u001b[0m                                Traceback (most recent call last)",
      "\u001b[1;32m/home/gridsan/mcomella/metamaterials/examples/tutorial/Basics/Angular Reflectance Spectrum of a Planar Interface/refl-angular.ipynb Cell 4\u001b[0m in \u001b[0;36m<cell line: 1>\u001b[0;34m()\u001b[0m\n\u001b[0;32m----> <a href='vscode-notebook-cell://ssh-remote%2B7b22686f73744e616d65223a224d4954205375706572636c6f7564227d/home/gridsan/mcomella/metamaterials/examples/tutorial/Basics/Angular%20Reflectance%20Spectrum%20of%20a%20Planar%20Interface/refl-angular.ipynb#X11sdnNjb2RlLXJlbW90ZQ%3D%3D?line=0'>1</a>\u001b[0m sim\u001b[39m.\u001b[39;49mplot2D()\n",
      "File \u001b[0;32m~/.conda/envs/pmp/lib/python3.10/site-packages/meep/simulation.py:4188\u001b[0m, in \u001b[0;36mSimulation.plot2D\u001b[0;34m(self, ax, output_plane, fields, labels, eps_parameters, boundary_parameters, source_parameters, monitor_parameters, field_parameters, frequency, plot_eps_flag, plot_sources_flag, plot_monitors_flag, plot_boundaries_flag, **kwargs)\u001b[0m\n\u001b[1;32m   4093\u001b[0m \u001b[39mdef\u001b[39;00m \u001b[39mplot2D\u001b[39m(\u001b[39mself\u001b[39m, ax\u001b[39m=\u001b[39m\u001b[39mNone\u001b[39;00m, output_plane\u001b[39m=\u001b[39m\u001b[39mNone\u001b[39;00m, fields\u001b[39m=\u001b[39m\u001b[39mNone\u001b[39;00m, labels\u001b[39m=\u001b[39m\u001b[39mFalse\u001b[39;00m,\n\u001b[1;32m   4094\u001b[0m            eps_parameters\u001b[39m=\u001b[39m\u001b[39mNone\u001b[39;00m, boundary_parameters\u001b[39m=\u001b[39m\u001b[39mNone\u001b[39;00m,\n\u001b[1;32m   4095\u001b[0m            source_parameters\u001b[39m=\u001b[39m\u001b[39mNone\u001b[39;00m, monitor_parameters\u001b[39m=\u001b[39m\u001b[39mNone\u001b[39;00m,\n\u001b[0;32m   (...)\u001b[0m\n\u001b[1;32m   4098\u001b[0m            plot_monitors_flag\u001b[39m=\u001b[39m\u001b[39mTrue\u001b[39;00m, plot_boundaries_flag\u001b[39m=\u001b[39m\u001b[39mTrue\u001b[39;00m,\n\u001b[1;32m   4099\u001b[0m            \u001b[39m*\u001b[39m\u001b[39m*\u001b[39mkwargs):\n\u001b[1;32m   4100\u001b[0m     \u001b[39m\"\"\"\u001b[39;00m\n\u001b[1;32m   4101\u001b[0m \u001b[39m    Plots a 2D cross section of the simulation domain using `matplotlib`. The plot\u001b[39;00m\n\u001b[1;32m   4102\u001b[0m \u001b[39m    includes the geometry, boundary layers, sources, and monitors. Fields can also be\u001b[39;00m\n\u001b[0;32m   (...)\u001b[0m\n\u001b[1;32m   4186\u001b[0m \u001b[39m          a function object)\u001b[39;00m\n\u001b[1;32m   4187\u001b[0m \u001b[39m    \"\"\"\u001b[39;00m\n\u001b[0;32m-> 4188\u001b[0m     \u001b[39mreturn\u001b[39;00m vis\u001b[39m.\u001b[39;49mplot2D(\u001b[39mself\u001b[39;49m,\n\u001b[1;32m   4189\u001b[0m                       ax\u001b[39m=\u001b[39;49max,\n\u001b[1;32m   4190\u001b[0m                       output_plane\u001b[39m=\u001b[39;49moutput_plane,\n\u001b[1;32m   4191\u001b[0m                       fields\u001b[39m=\u001b[39;49mfields,\n\u001b[1;32m   4192\u001b[0m                       labels\u001b[39m=\u001b[39;49mlabels,\n\u001b[1;32m   4193\u001b[0m                       eps_parameters\u001b[39m=\u001b[39;49meps_parameters,\n\u001b[1;32m   4194\u001b[0m                       boundary_parameters\u001b[39m=\u001b[39;49mboundary_parameters,\n\u001b[1;32m   4195\u001b[0m                       source_parameters\u001b[39m=\u001b[39;49msource_parameters,\n\u001b[1;32m   4196\u001b[0m                       monitor_parameters\u001b[39m=\u001b[39;49mmonitor_parameters,\n\u001b[1;32m   4197\u001b[0m                       field_parameters\u001b[39m=\u001b[39;49mfield_parameters,\n\u001b[1;32m   4198\u001b[0m                       frequency\u001b[39m=\u001b[39;49mfrequency,\n\u001b[1;32m   4199\u001b[0m                       plot_eps_flag\u001b[39m=\u001b[39;49mplot_eps_flag,\n\u001b[1;32m   4200\u001b[0m                       plot_sources_flag\u001b[39m=\u001b[39;49mplot_sources_flag,\n\u001b[1;32m   4201\u001b[0m                       plot_monitors_flag\u001b[39m=\u001b[39;49mplot_monitors_flag,\n\u001b[1;32m   4202\u001b[0m                       plot_boundaries_flag\u001b[39m=\u001b[39;49mplot_boundaries_flag,\n\u001b[1;32m   4203\u001b[0m                       \u001b[39m*\u001b[39;49m\u001b[39m*\u001b[39;49mkwargs)\n",
      "File \u001b[0;32m~/.conda/envs/pmp/lib/python3.10/site-packages/meep/visualization.py:655\u001b[0m, in \u001b[0;36mplot2D\u001b[0;34m(sim, ax, output_plane, fields, labels, eps_parameters, boundary_parameters, source_parameters, monitor_parameters, field_parameters, frequency, plot_eps_flag, plot_sources_flag, plot_monitors_flag, plot_boundaries_flag)\u001b[0m\n\u001b[1;32m    653\u001b[0m \u001b[39m# Plot geometry\u001b[39;00m\n\u001b[1;32m    654\u001b[0m \u001b[39mif\u001b[39;00m plot_eps_flag:\n\u001b[0;32m--> 655\u001b[0m     ax \u001b[39m=\u001b[39m plot_eps(sim, ax, output_plane\u001b[39m=\u001b[39;49moutput_plane,\n\u001b[1;32m    656\u001b[0m                   eps_parameters\u001b[39m=\u001b[39;49meps_parameters, frequency\u001b[39m=\u001b[39;49mfrequency)\n\u001b[1;32m    658\u001b[0m \u001b[39m# Plot boundaries\u001b[39;00m\n\u001b[1;32m    659\u001b[0m \u001b[39mif\u001b[39;00m plot_boundaries_flag:\n",
      "File \u001b[0;32m~/.conda/envs/pmp/lib/python3.10/site-packages/meep/visualization.py:431\u001b[0m, in \u001b[0;36mplot_eps\u001b[0;34m(sim, ax, output_plane, eps_parameters, frequency)\u001b[0m\n\u001b[1;32m    428\u001b[0m \u001b[39melse\u001b[39;00m:\n\u001b[1;32m    429\u001b[0m     \u001b[39mraise\u001b[39;00m \u001b[39mValueError\u001b[39;00m(\u001b[39m\"\u001b[39m\u001b[39mA 2D plane has not been specified...\u001b[39m\u001b[39m\"\u001b[39m)\n\u001b[0;32m--> 431\u001b[0m eps_data \u001b[39m=\u001b[39m np\u001b[39m.\u001b[39;49mrot90(np\u001b[39m.\u001b[39;49mreal(sim\u001b[39m.\u001b[39;49mget_epsilon_grid(xtics, ytics, ztics, eps_parameters[\u001b[39m'\u001b[39;49m\u001b[39mfrequency\u001b[39;49m\u001b[39m'\u001b[39;49m])))\n\u001b[1;32m    433\u001b[0m \u001b[39mif\u001b[39;00m mp\u001b[39m.\u001b[39mam_master():\n\u001b[1;32m    434\u001b[0m     \u001b[39mif\u001b[39;00m eps_parameters[\u001b[39m'\u001b[39m\u001b[39mcontour\u001b[39m\u001b[39m'\u001b[39m]:\n",
      "File \u001b[0;32m<__array_function__ internals>:180\u001b[0m, in \u001b[0;36mrot90\u001b[0;34m(*args, **kwargs)\u001b[0m\n",
      "File \u001b[0;32m~/.conda/envs/pmp/lib/python3.10/site-packages/numpy/lib/function_base.py:223\u001b[0m, in \u001b[0;36mrot90\u001b[0;34m(m, k, axes)\u001b[0m\n\u001b[1;32m    220\u001b[0m m \u001b[39m=\u001b[39m asanyarray(m)\n\u001b[1;32m    222\u001b[0m \u001b[39mif\u001b[39;00m axes[\u001b[39m0\u001b[39m] \u001b[39m==\u001b[39m axes[\u001b[39m1\u001b[39m] \u001b[39mor\u001b[39;00m absolute(axes[\u001b[39m0\u001b[39m] \u001b[39m-\u001b[39m axes[\u001b[39m1\u001b[39m]) \u001b[39m==\u001b[39m m\u001b[39m.\u001b[39mndim:\n\u001b[0;32m--> 223\u001b[0m     \u001b[39mraise\u001b[39;00m \u001b[39mValueError\u001b[39;00m(\u001b[39m\"\u001b[39m\u001b[39mAxes must be different.\u001b[39m\u001b[39m\"\u001b[39m)\n\u001b[1;32m    225\u001b[0m \u001b[39mif\u001b[39;00m (axes[\u001b[39m0\u001b[39m] \u001b[39m>\u001b[39m\u001b[39m=\u001b[39m m\u001b[39m.\u001b[39mndim \u001b[39mor\u001b[39;00m axes[\u001b[39m0\u001b[39m] \u001b[39m<\u001b[39m \u001b[39m-\u001b[39mm\u001b[39m.\u001b[39mndim\n\u001b[1;32m    226\u001b[0m     \u001b[39mor\u001b[39;00m axes[\u001b[39m1\u001b[39m] \u001b[39m>\u001b[39m\u001b[39m=\u001b[39m m\u001b[39m.\u001b[39mndim \u001b[39mor\u001b[39;00m axes[\u001b[39m1\u001b[39m] \u001b[39m<\u001b[39m \u001b[39m-\u001b[39mm\u001b[39m.\u001b[39mndim):\n\u001b[1;32m    227\u001b[0m     \u001b[39mraise\u001b[39;00m \u001b[39mValueError\u001b[39;00m(\u001b[39m\"\u001b[39m\u001b[39mAxes=\u001b[39m\u001b[39m{}\u001b[39;00m\u001b[39m out of range for array of ndim=\u001b[39m\u001b[39m{}\u001b[39;00m\u001b[39m.\u001b[39m\u001b[39m\"\u001b[39m\n\u001b[1;32m    228\u001b[0m         \u001b[39m.\u001b[39mformat(axes, m\u001b[39m.\u001b[39mndim))\n",
      "\u001b[0;31mValueError\u001b[0m: Axes must be different."
     ]
    },
    {
     "data": {
      "image/png": "[encoded data removed]",
      "text/plain": [
       "<Figure size 640x480 with 1 Axes>"
      ]
     },
     "metadata": {},
     "output_type": "display_data"
    }
   ],
   "source": [
    "sim.plot2D()"
   ]
  },
  {
   "cell_type": "code",
   "execution_count": null,
   "metadata": {},
   "outputs": [
    {
     "name": "stdout",
     "output_type": "stream",
     "text": [
      "-----------\n",
      "Initializing structure...\n",
      "time for choose_chunkdivision = 0.00303078 s\n",
      "Working in 3D dimensions.\n",
      "Computational cell is 0.005 x 0.005 x 12 with resolution 200\n",
      "time for set_epsilon = 0.0202432 s\n",
      "-----------\n",
      "Meep: using complex fields.\n",
      "on time step 10003 (time=25.0075), 0.000399909 s/step\n",
      "field decay(t = 50.0025): 0.2493482491697244 / 0.2493482491697244 = 1.0\n",
      "on time step 20591 (time=51.4775), 0.000377814 s/step\n",
      "on time step 30980 (time=77.45), 0.000385057 s/step\n",
      "field decay(t = 100.0025): 4.464698828605439e-14 / 0.2493482491697244 = 1.7905474947074695e-13\n",
      "run 0 finished at t = 100.0025 (40001 timesteps)\n"
     ]
    }
   ],
   "source": [
    "sim.run(until_after_sources=mp.stop_when_fields_decayed(50, mp.Ex, mp.Vector3(0,0,-0.5*sz+dpml), 1e-9))\n",
    "\n",
    "empty_flux = mp.get_fluxes(refl)\n",
    "empty_data = sim.get_flux_data(refl)\n",
    "sim.reset_meep()"
   ]
  },
  {
   "cell_type": "code",
   "execution_count": null,
   "metadata": {},
   "outputs": [
    {
     "name": "stdout",
     "output_type": "stream",
     "text": [
      "-----------\n",
      "Initializing structure...\n",
      "time for choose_chunkdivision = 0.00274205 s\n",
      "Working in 3D dimensions.\n",
      "Computational cell is 0.005 x 0.005 x 12 with resolution 200\n",
      "     block, center = (0,0,3)\n",
      "          size (1e+20,1e+20,6)\n",
      "          axes (1,0,0), (0,1,0), (0,0,1)\n",
      "          dielectric constant epsilon diagonal = (12.25,12.25,12.25)\n",
      "time for set_epsilon = 0.0348768 s\n",
      "-----------\n",
      "Meep: using complex fields.\n"
     ]
    }
   ],
   "source": [
    "# add a block with n=3.5 for the air-dielectric interface\n",
    "geometry = [mp.Block(size=mp.Vector3(mp.inf,mp.inf,0.5*sz),\n",
    "                        center=mp.Vector3(0,0,0.25*sz),\n",
    "                        material=mp.Medium(index=3.5))]\n",
    "\n",
    "sim = mp.Simulation(cell_size=cell_size,\n",
    "                    geometry=geometry,\n",
    "                    boundary_layers=pml_layers,\n",
    "                    sources=sources,\n",
    "                    k_point=k,\n",
    "                    dimensions=dimensions,\n",
    "                    resolution=resolution)\n",
    "\n",
    "refl = sim.add_flux(fcen, df, nfreq, refl_fr)\n",
    "sim.load_minus_flux_data(refl, empty_data)\n"
   ]
  },
  {
   "cell_type": "code",
   "execution_count": null,
   "metadata": {},
   "outputs": [
    {
     "name": "stdout",
     "output_type": "stream",
     "text": [
      "on time step 9368 (time=23.42), 0.000427015 s/step\n",
      "on time step 19478 (time=48.695), 0.000395672 s/step\n",
      "field decay(t = 50.0025): 0.24934824909392067 / 0.24934824909392067 = 1.0\n",
      "on time step 29443 (time=73.6075), 0.000401443 s/step\n",
      "on time step 39331 (time=98.3275), 0.000404537 s/step\n",
      "field decay(t = 100.0025): 4.0715782407411667e-13 / 0.24934824909392067 = 1.6328882418611037e-12\n",
      "run 0 finished at t = 100.0025 (40001 timesteps)\n"
     ]
    }
   ],
   "source": [
    "sim.run(until_after_sources=mp.stop_when_fields_decayed(50, mp.Ex, mp.Vector3(0,0,-0.5*sz+dpml), 1e-9))\n",
    "\n",
    "refl_flux = mp.get_fluxes(refl)\n",
    "freqs = mp.get_flux_freqs(refl)"
   ]
  },
  {
   "cell_type": "code",
   "execution_count": null,
   "metadata": {},
   "outputs": [
    {
     "ename": "FileNotFoundError",
     "evalue": "flux_t0.dat not found.",
     "output_type": "error",
     "traceback": [
      "\u001b[0;31m---------------------------------------------------------------------------\u001b[0m",
      "\u001b[0;31mFileNotFoundError\u001b[0m                         Traceback (most recent call last)",
      "\u001b[1;32m/home/gridsan/mcomella/metamaterials/examples/tutorial/Basics/Angular Reflectance Spectrum of a Planar Interface/refl-angular.ipynb Cell 7\u001b[0m in \u001b[0;36m<cell line: 11>\u001b[0;34m()\u001b[0m\n\u001b[1;32m      <a href='vscode-notebook-cell://ssh-remote%2B7b22686f73744e616d65223a224d4954205375706572636c6f7564227d/home/gridsan/mcomella/metamaterials/examples/tutorial/Basics/Angular%20Reflectance%20Spectrum%20of%20a%20Planar%20Interface/refl-angular.ipynb#X10sdnNjb2RlLXJlbW90ZQ%3D%3D?line=8'>9</a>\u001b[0m Rmeep \u001b[39m=\u001b[39m np\u001b[39m.\u001b[39mempty((\u001b[39m50\u001b[39m,theta_in\u001b[39m.\u001b[39msize))\n\u001b[1;32m     <a href='vscode-notebook-cell://ssh-remote%2B7b22686f73744e616d65223a224d4954205375706572636c6f7564227d/home/gridsan/mcomella/metamaterials/examples/tutorial/Basics/Angular%20Reflectance%20Spectrum%20of%20a%20Planar%20Interface/refl-angular.ipynb#X10sdnNjb2RlLXJlbW90ZQ%3D%3D?line=10'>11</a>\u001b[0m \u001b[39mfor\u001b[39;00m j \u001b[39min\u001b[39;00m \u001b[39mrange\u001b[39m(theta_in\u001b[39m.\u001b[39msize):\n\u001b[0;32m---> <a href='vscode-notebook-cell://ssh-remote%2B7b22686f73744e616d65223a224d4954205375706572636c6f7564227d/home/gridsan/mcomella/metamaterials/examples/tutorial/Basics/Angular%20Reflectance%20Spectrum%20of%20a%20Planar%20Interface/refl-angular.ipynb#X10sdnNjb2RlLXJlbW90ZQ%3D%3D?line=11'>12</a>\u001b[0m   f \u001b[39m=\u001b[39m np\u001b[39m.\u001b[39;49mgenfromtxt(\u001b[39m\"\u001b[39;49m\u001b[39mflux_t\u001b[39;49m\u001b[39m{}\u001b[39;49;00m\u001b[39m.dat\u001b[39;49m\u001b[39m\"\u001b[39;49m\u001b[39m.\u001b[39;49mformat(theta_in[j]), delimiter\u001b[39m=\u001b[39;49m\u001b[39m\"\u001b[39;49m\u001b[39m,\u001b[39;49m\u001b[39m\"\u001b[39;49m)\n\u001b[1;32m     <a href='vscode-notebook-cell://ssh-remote%2B7b22686f73744e616d65223a224d4954205375706572636c6f7564227d/home/gridsan/mcomella/metamaterials/examples/tutorial/Basics/Angular%20Reflectance%20Spectrum%20of%20a%20Planar%20Interface/refl-angular.ipynb#X10sdnNjb2RlLXJlbW90ZQ%3D%3D?line=12'>13</a>\u001b[0m   kxs[:,j] \u001b[39m=\u001b[39m f[:,\u001b[39m0\u001b[39m]\n\u001b[1;32m     <a href='vscode-notebook-cell://ssh-remote%2B7b22686f73744e616d65223a224d4954205375706572636c6f7564227d/home/gridsan/mcomella/metamaterials/examples/tutorial/Basics/Angular%20Reflectance%20Spectrum%20of%20a%20Planar%20Interface/refl-angular.ipynb#X10sdnNjb2RlLXJlbW90ZQ%3D%3D?line=13'>14</a>\u001b[0m   thetas[:,j] \u001b[39m=\u001b[39m f[:,\u001b[39m2\u001b[39m]\n",
      "File \u001b[0;32m~/.conda/envs/pmp/lib/python3.10/site-packages/numpy/lib/npyio.py:1934\u001b[0m, in \u001b[0;36mgenfromtxt\u001b[0;34m(fname, dtype, comments, delimiter, skip_header, skip_footer, converters, missing_values, filling_values, usecols, names, excludelist, deletechars, replace_space, autostrip, case_sensitive, defaultfmt, unpack, usemask, loose, invalid_raise, max_rows, encoding, ndmin, like)\u001b[0m\n\u001b[1;32m   1932\u001b[0m     fname \u001b[39m=\u001b[39m os_fspath(fname)\n\u001b[1;32m   1933\u001b[0m \u001b[39mif\u001b[39;00m \u001b[39misinstance\u001b[39m(fname, \u001b[39mstr\u001b[39m):\n\u001b[0;32m-> 1934\u001b[0m     fid \u001b[39m=\u001b[39m np\u001b[39m.\u001b[39;49mlib\u001b[39m.\u001b[39;49m_datasource\u001b[39m.\u001b[39;49mopen(fname, \u001b[39m'\u001b[39;49m\u001b[39mrt\u001b[39;49m\u001b[39m'\u001b[39;49m, encoding\u001b[39m=\u001b[39;49mencoding)\n\u001b[1;32m   1935\u001b[0m     fid_ctx \u001b[39m=\u001b[39m contextlib\u001b[39m.\u001b[39mclosing(fid)\n\u001b[1;32m   1936\u001b[0m \u001b[39melse\u001b[39;00m:\n",
      "File \u001b[0;32m~/.conda/envs/pmp/lib/python3.10/site-packages/numpy/lib/_datasource.py:193\u001b[0m, in \u001b[0;36mopen\u001b[0;34m(path, mode, destpath, encoding, newline)\u001b[0m\n\u001b[1;32m    156\u001b[0m \u001b[39m\"\"\"\u001b[39;00m\n\u001b[1;32m    157\u001b[0m \u001b[39mOpen `path` with `mode` and return the file object.\u001b[39;00m\n\u001b[1;32m    158\u001b[0m \n\u001b[0;32m   (...)\u001b[0m\n\u001b[1;32m    189\u001b[0m \n\u001b[1;32m    190\u001b[0m \u001b[39m\"\"\"\u001b[39;00m\n\u001b[1;32m    192\u001b[0m ds \u001b[39m=\u001b[39m DataSource(destpath)\n\u001b[0;32m--> 193\u001b[0m \u001b[39mreturn\u001b[39;00m ds\u001b[39m.\u001b[39;49mopen(path, mode, encoding\u001b[39m=\u001b[39;49mencoding, newline\u001b[39m=\u001b[39;49mnewline)\n",
      "File \u001b[0;32m~/.conda/envs/pmp/lib/python3.10/site-packages/numpy/lib/_datasource.py:533\u001b[0m, in \u001b[0;36mDataSource.open\u001b[0;34m(self, path, mode, encoding, newline)\u001b[0m\n\u001b[1;32m    530\u001b[0m     \u001b[39mreturn\u001b[39;00m _file_openers[ext](found, mode\u001b[39m=\u001b[39mmode,\n\u001b[1;32m    531\u001b[0m                               encoding\u001b[39m=\u001b[39mencoding, newline\u001b[39m=\u001b[39mnewline)\n\u001b[1;32m    532\u001b[0m \u001b[39melse\u001b[39;00m:\n\u001b[0;32m--> 533\u001b[0m     \u001b[39mraise\u001b[39;00m \u001b[39mFileNotFoundError\u001b[39;00m(\u001b[39mf\u001b[39m\u001b[39m\"\u001b[39m\u001b[39m{\u001b[39;00mpath\u001b[39m}\u001b[39;00m\u001b[39m not found.\u001b[39m\u001b[39m\"\u001b[39m)\n",
      "\u001b[0;31mFileNotFoundError\u001b[0m: flux_t0.dat not found."
     ]
    }
   ],
   "source": [
    "import matplotlib.pyplot as plt\n",
    "import numpy as np\n",
    "import numpy.matlib\n",
    "import math\n",
    "\n",
    "theta_in = np.arange(0,85,5)\n",
    "kxs = np.empty((50,theta_in.size))\n",
    "thetas = np.empty((50,theta_in.size))\n",
    "Rmeep = np.empty((50,theta_in.size))\n",
    "\n",
    "for j in range(theta_in.size):\n",
    "  f = np.genfromtxt(\"flux_t{}.dat\".format(theta_in[j]), delimiter=\",\")\n",
    "  kxs[:,j] = f[:,0]\n",
    "  thetas[:,j] = f[:,2]\n",
    "  Rmeep[:,j] = f[:,3]\n",
    "\n",
    "wvl = f[:,1]\n",
    "# create a 2d matrix for the wavelength by repeating the column vector for each angle\n",
    "wvls = np.matlib.repmat(np.reshape(wvl, (wvl.size,1)),1,theta_in.size)\n",
    "\n",
    "plt.figure()\n",
    "plt.pcolormesh(kxs, wvls, Rmeep, cmap='hot', shading='gouraud', vmin=0, vmax=Rmeep.max())\n",
    "plt.axis([kxs[0,0], kxs[0,-1], wvl[-1], wvl[0]])\n",
    "plt.yticks([t for t in np.arange(0.4,0.9,0.1)])\n",
    "plt.xlabel(\"Bloch-periodic wavevector ($k_x/2π$)\")\n",
    "plt.ylabel(\"wavelength (μm)\")\n",
    "plt.title(\"reflectance (meep)\")\n",
    "cbar = plt.colorbar()\n",
    "cbar.set_ticks([t for t in np.arange(0,0.4,0.1)])\n",
    "cbar.set_ticklabels([\"{:.1f}\".format(t) for t in np.arange(0,0.4,0.1)])\n",
    "plt.show()\n",
    "\n",
    "plt.figure()\n",
    "plt.pcolormesh(thetas, wvls, Rmeep, cmap='hot', shading='gouraud', vmin=0, vmax=Rmeep.max())\n",
    "plt.axis([thetas.min(), thetas.max(), wvl[-1], wvl[0]])\n",
    "plt.xticks([t for t in range(0,100,20)])\n",
    "plt.yticks([t for t in np.arange(0.4,0.9,0.1)])\n",
    "plt.xlabel(\"angle of incident planewave (degrees)\")\n",
    "plt.ylabel(\"wavelength (μm)\")\n",
    "plt.title(\"reflectance (meep)\")\n",
    "cbar = plt.colorbar()\n",
    "cbar.set_ticks([t for t in np.arange(0,0.4,0.1)])\n",
    "cbar.set_ticklabels([\"{:.1f}\".format(t) for t in np.arange(0,0.4,0.1)])\n",
    "plt.show()\n",
    "\n",
    "n1=1\n",
    "n2=3.5\n",
    "\n",
    "# compute angle of refracted planewave in medium n2\n",
    "# for incident planewave in medium n1 at angle theta_in\n",
    "theta_out = lambda theta_in: math.asin(n1*math.sin(theta_in)/n2)\n",
    "\n",
    "# compute Fresnel reflectance for P-polarization in medium n2\n",
    "# for incident planewave in medium n1 at angle theta_in\n",
    "Rfresnel = lambda theta_in: math.fabs((n1*math.cos(theta_out(theta_in))-n2*math.cos(theta_in))/(n1*math.cos(theta_out(theta_in))+n2*math.cos(theta_in)))**2\n",
    "\n",
    "Ranalytic = np.empty((50, theta_in.size))\n",
    "for m in range(wvl.size):\n",
    "    for n in range(theta_in.size):\n",
    "        Ranalytic[m,n] = Rfresnel(math.radians(thetas[m,n]))\n",
    "\n",
    "plt.figure()\n",
    "plt.pcolormesh(thetas, wvls, Ranalytic, cmap='hot', shading='gouraud', vmin=0, vmax=Ranalytic.max())\n",
    "plt.axis([thetas.min(), thetas.max(), wvl[-1], wvl[0]])\n",
    "plt.xticks([t for t in range(0,100,20)])\n",
    "plt.yticks([t for t in np.arange(0.4,0.9,0.1)])\n",
    "plt.xlabel(\"angle of incident planewave (degrees)\")\n",
    "plt.ylabel(\"wavelength (μm)\")\n",
    "plt.title(\"reflectance (analytic)\")\n",
    "cbar = plt.colorbar()\n",
    "cbar.set_ticks([t for t in np.arange(0,0.4,0.1)])\n",
    "cbar.set_ticklabels([\"{:.1f}\".format(t) for t in np.arange(0,0.4,0.1)])\n",
    "plt.show()"
   ]
  },
  {
   "cell_type": "markdown",
   "metadata": {},
   "source": [
    "---"
   ]
  },
  {
   "cell_type": "code",
   "execution_count": 5,
   "metadata": {},
   "outputs": [],
   "source": [
    "import meep as mp\n",
    "import math\n",
    "import numpy as np\n",
    "import numpy.matlib\n",
    "import matplotlib.pyplot as plt\n",
    "\n",
    "resolution = 50  # pixels/um\n",
    "\n",
    "dpml = 1.0  # PML thickness\n",
    "sz = 10 + 2 * dpml\n",
    "cell_size = mp.Vector3(z=sz)\n",
    "pml_layers = [mp.PML(dpml)]\n",
    "\n",
    "wvl_min = 0.4  # min wavelength\n",
    "wvl_max = 0.8  # max wavelength\n",
    "fmin = 1 / wvl_max  # min frequency\n",
    "fmax = 1 / wvl_min  # max frequency\n",
    "fcen = 0.5 * (fmin + fmax)  # center frequency\n",
    "df = fmax - fmin  # frequency width\n",
    "nfreq = 50  # number of frequency bins\n",
    "\n",
    "\n",
    "def planar_reflectance(theta):\n",
    "    # rotation angle (in degrees) of source: CCW around Y axis, 0 degrees along +Z axis\n",
    "    theta_r = math.radians(theta)\n",
    "\n",
    "    # plane of incidence is XZ; rotate counter clockwise (CCW) about y-axis\n",
    "    k = mp.Vector3(z=fmin).rotate(mp.Vector3(y=1), theta_r)\n",
    "\n",
    "    # if normal incidence, force number of dimensions to be 1\n",
    "    if theta_r == 0:\n",
    "        dimensions = 1\n",
    "    else:\n",
    "        dimensions = 3\n",
    "\n",
    "    sources = [\n",
    "        mp.Source(\n",
    "            mp.GaussianSource(fcen, fwidth=df),\n",
    "            component=mp.Ex,\n",
    "            center=mp.Vector3(z=-0.5 * sz + dpml),\n",
    "        )\n",
    "    ]\n",
    "\n",
    "    sim = mp.Simulation(\n",
    "        cell_size=cell_size,\n",
    "        boundary_layers=pml_layers,\n",
    "        sources=sources,\n",
    "        k_point=k,\n",
    "        dimensions=dimensions,\n",
    "        resolution=resolution,\n",
    "    )\n",
    "\n",
    "    refl_fr = mp.FluxRegion(center=mp.Vector3(z=-0.25 * sz))\n",
    "    refl = sim.add_flux(fcen, df, nfreq, refl_fr)\n",
    "\n",
    "    sim.run(\n",
    "        until_after_sources=mp.stop_when_fields_decayed(\n",
    "            50, mp.Ex, mp.Vector3(z=-0.5 * sz + dpml), 1e-9\n",
    "        )\n",
    "    )\n",
    "\n",
    "    empty_flux = mp.get_fluxes(refl)\n",
    "    empty_data = sim.get_flux_data(refl)\n",
    "\n",
    "    sim.reset_meep()\n",
    "\n",
    "    # add a block with n=3.5 for the air-dielectric interface\n",
    "    geometry = [\n",
    "        mp.Block(\n",
    "            mp.Vector3(mp.inf, mp.inf, 0.5 * sz),\n",
    "            center=mp.Vector3(z=0.25 * sz),\n",
    "            material=mp.Medium(index=3.5),\n",
    "        )\n",
    "    ]\n",
    "\n",
    "    sim = mp.Simulation(\n",
    "        cell_size=cell_size,\n",
    "        geometry=geometry,\n",
    "        boundary_layers=pml_layers,\n",
    "        sources=sources,\n",
    "        k_point=k,\n",
    "        dimensions=dimensions,\n",
    "        resolution=resolution,\n",
    "    )\n",
    "\n",
    "    refl = sim.add_flux(fcen, df, nfreq, refl_fr)\n",
    "    sim.load_minus_flux_data(refl, empty_data)\n",
    "\n",
    "    sim.run(\n",
    "        until_after_sources=mp.stop_when_fields_decayed(\n",
    "            50, mp.Ex, mp.Vector3(z=-0.5 * sz + dpml), 1e-9\n",
    "        )\n",
    "    )\n",
    "\n",
    "    refl_flux = mp.get_fluxes(refl)\n",
    "    freqs = mp.get_flux_freqs(refl)\n",
    "\n",
    "    wvls = np.empty(nfreq)\n",
    "    theta_out = np.empty(nfreq)\n",
    "    R = np.empty(nfreq)\n",
    "    for i in range(nfreq):\n",
    "        wvls[i] = 1 / freqs[i]\n",
    "        theta_out[i] = math.degrees(math.asin(k.x / freqs[i]))\n",
    "        R[i] = -refl_flux[i] / empty_flux[i]\n",
    "        print(\"refl:, {}, {}, {}, {}\".format(k.x, wvls[i], theta_out[i], R[i]))\n",
    "\n",
    "    return k.x * np.ones(nfreq), wvls, theta_out, R\n"
   ]
  }
 ],
 "metadata": {
  "kernelspec": {
   "display_name": "Python 3.10.6 ('pmp')",
   "language": "python",
   "name": "python3"
  },
  "language_info": {
   "codemirror_mode": {
    "name": "ipython",
    "version": 3
   },
   "file_extension": ".py",
   "mimetype": "text/x-python",
   "name": "python",
   "nbconvert_exporter": "python",
   "pygments_lexer": "ipython3",
   "version": "3.10.6"
  },
  "orig_nbformat": 4,
  "vscode": {
   "interpreter": {
    "hash": "6d9189529467c46d6b7d7277835c1c7553c439175bd27f5d598d58373f0b02c0"
   }
  }
 },
 "nbformat": 4,
 "nbformat_minor": 2
}
