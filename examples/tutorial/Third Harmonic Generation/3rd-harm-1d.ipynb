{
 "cells": [
  {
   "cell_type": "code",
   "execution_count": 10,
   "metadata": {},
   "outputs": [],
   "source": [
    "import meep as mp"
   ]
  },
  {
   "cell_type": "code",
   "execution_count": 11,
   "metadata": {},
   "outputs": [],
   "source": [
    "sz = 100  # size of cell in z direction\n",
    "fcen = 1 / 3.0  # center frequency of source\n",
    "df = fcen / 20.0  # frequency width of source\n",
    "amp = 1  # amplitude of source\n",
    "k = 1  # Kerr susceptibility\n",
    "dpml = 1.0  # PML thickness\n",
    "\n",
    "# We'll use an explicitly 1d simulation.  Setting dimensions=1 will actually\n",
    "# result in faster execution than just using two no-size dimensions.  However,\n",
    "# in this case Meep requires us to use E in the x direction (and H in y),\n",
    "# and our one no-size dimension must be z.\n",
    "dimensions = 1\n",
    "cell = mp.Vector3(0, 0, sz)\n",
    "pml_layers = mp.PML(dpml)\n",
    "resolution = 20\n",
    "\n",
    "# to put the same material in all space, we can just set the default material\n",
    "# and pass it to the Simulation constructor\n",
    "default_material = mp.Medium(index=1, chi3=k)\n",
    "\n",
    "sources = mp.Source(\n",
    "    mp.GaussianSource(fcen, fwidth=df),\n",
    "    component=mp.Ex,\n",
    "    center=mp.Vector3(0, 0, -0.5 * sz + dpml),\n",
    "    amplitude=amp,\n",
    ")\n",
    "\n",
    "# frequency range for flux calculation\n",
    "nfreq = 400\n",
    "fmin = fcen / 2.0\n",
    "fmax = fcen * 4\n",
    "\n",
    "sim = mp.Simulation(\n",
    "    cell_size=cell,\n",
    "    geometry=[],\n",
    "    sources=[sources],\n",
    "    boundary_layers=[pml_layers],\n",
    "    default_material=default_material,\n",
    "    resolution=resolution,\n",
    "    dimensions=dimensions,\n",
    ")"
   ]
  },
  {
   "cell_type": "code",
   "execution_count": 12,
   "metadata": {},
   "outputs": [],
   "source": [
    "trans = sim.add_flux(0.5 * (fmin + fmax), fmax - fmin, nfreq,\n",
    "                     mp.FluxRegion(mp.Vector3(0, 0, 0.5*sz - dpml - 0.5)))"
   ]
  },
  {
   "cell_type": "code",
   "execution_count": 13,
   "metadata": {},
   "outputs": [],
   "source": [
    "trans1 = sim.add_flux(\n",
    "    fcen, 0, 1, mp.FluxRegion(mp.Vector3(0, 0, 0.5 * sz - dpml - 0.5))\n",
    ")\n",
    "trans3 = sim.add_flux(\n",
    "    3 * fcen, 0, 1, mp.FluxRegion(mp.Vector3(0, 0, 0.5 * sz - dpml - 0.5))\n",
    ")"
   ]
  },
  {
   "cell_type": "code",
   "execution_count": 14,
   "metadata": {},
   "outputs": [
    {
     "name": "stdout",
     "output_type": "stream",
     "text": [
      "-----------\n",
      "Initializing structure...\n",
      "time for choose_chunkdivision = 0.000117064 s\n",
      "Working in 1D dimensions.\n",
      "Computational cell is 0 x 0 x 100 with resolution 20\n",
      "time for set_epsilon = 0.000487089 s\n",
      "-----------\n",
      "field decay(t = 100.05000000000001): 4.16910083472711e-12 / 4.16910083472711e-12 = 1.0\n",
      "field decay(t = 150.07500000000002): 1.0165409834939727e-08 / 1.0165409834939727e-08 = 1.0\n",
      "field decay(t = 200.10000000000002): 4.648720329217848e-06 / 4.648720329217848e-06 = 1.0\n",
      "on time step 9032 (time=225.8), 0.000442918 s/step\n",
      "field decay(t = 250.125): 0.0005182735319569608 / 0.0005182735319569608 = 1.0\n",
      "field decay(t = 300.15000000000003): 0.013974697322011658 / 0.013974697322011658 = 1.0\n",
      "field decay(t = 350.175): 0.0799528900203271 / 0.0799528900203271 = 1.0\n",
      "field decay(t = 400.20000000000005): 0.1786722946747773 / 0.1786722946747773 = 1.0\n",
      "field decay(t = 450.225): 0.2324165476954817 / 0.2324165476954817 = 1.0\n",
      "on time step 18089 (time=452.225), 0.000441672 s/step\n",
      "field decay(t = 500.25): 0.18817882350660978 / 0.2324165476954817 = 0.8096618996043545\n",
      "field decay(t = 550.275): 0.014319414613175666 / 0.2324165476954817 = 0.06161099437694661\n",
      "field decay(t = 600.3000000000001): 0.0003754598154438382 / 0.2324165476954817 = 0.0016154607714755989\n",
      "field decay(t = 650.325): 2.931270810045344e-06 / 0.2324165476954817 = 1.261214332245384e-05\n",
      "on time step 27106 (time=677.65), 0.000443653 s/step\n",
      "field decay(t = 700.35): 1.859987353905111e-07 / 0.2324165476954817 = 8.002818096851329e-07\n",
      "run 0 finished at t = 700.35 (28014 timesteps)\n"
     ]
    }
   ],
   "source": [
    "sim.run(\n",
    "    until_after_sources=mp.stop_when_fields_decayed(\n",
    "        50, mp.Ex, mp.Vector3(0, 0, 0.5 * sz - dpml - 0.5), 1e-6\n",
    "    )\n",
    ")"
   ]
  },
  {
   "cell_type": "code",
   "execution_count": 17,
   "metadata": {},
   "outputs": [
    {
     "ename": "ValueError",
     "evalue": "x and y must have same first dimension, but have shapes (400,) and (2, 800)",
     "output_type": "error",
     "traceback": [
      "\u001b[0;31m---------------------------------------------------------------------------\u001b[0m",
      "\u001b[0;31mValueError\u001b[0m                                Traceback (most recent call last)",
      "\u001b[1;32m/home/gridsan/mcomella/metamaterials/examples/tutorial/Third Harmonic Generation/3rd-harm-1d.ipynb Cell 6\u001b[0m in \u001b[0;36m<cell line: 4>\u001b[0;34m()\u001b[0m\n\u001b[1;32m      <a href='vscode-notebook-cell://ssh-remote%2B7b22686f73744e616d65223a224d4954205375706572636c6f7564227d/home/gridsan/mcomella/metamaterials/examples/tutorial/Third%20Harmonic%20Generation/3rd-harm-1d.ipynb#W6sdnNjb2RlLXJlbW90ZQ%3D%3D?line=1'>2</a>\u001b[0m \u001b[39mimport\u001b[39;00m \u001b[39mmatplotlib\u001b[39;00m\u001b[39m.\u001b[39;00m\u001b[39mpyplot\u001b[39;00m \u001b[39mas\u001b[39;00m \u001b[39mplt\u001b[39;00m\n\u001b[1;32m      <a href='vscode-notebook-cell://ssh-remote%2B7b22686f73744e616d65223a224d4954205375706572636c6f7564227d/home/gridsan/mcomella/metamaterials/examples/tutorial/Third%20Harmonic%20Generation/3rd-harm-1d.ipynb#W6sdnNjb2RlLXJlbW90ZQ%3D%3D?line=2'>3</a>\u001b[0m \u001b[39mimport\u001b[39;00m \u001b[39mnumpy\u001b[39;00m \u001b[39mas\u001b[39;00m \u001b[39mnp\u001b[39;00m\n\u001b[0;32m----> <a href='vscode-notebook-cell://ssh-remote%2B7b22686f73744e616d65223a224d4954205375706572636c6f7564227d/home/gridsan/mcomella/metamaterials/examples/tutorial/Third%20Harmonic%20Generation/3rd-harm-1d.ipynb#W6sdnNjb2RlLXJlbW90ZQ%3D%3D?line=3'>4</a>\u001b[0m plt\u001b[39m.\u001b[39;49mplot(np\u001b[39m.\u001b[39;49mlinspace(fmin, fmax, nfreq), a)\n",
      "File \u001b[0;32m~/.local/lib/python3.10/site-packages/matplotlib/pyplot.py:2767\u001b[0m, in \u001b[0;36mplot\u001b[0;34m(scalex, scaley, data, *args, **kwargs)\u001b[0m\n\u001b[1;32m   2765\u001b[0m \u001b[39m@_copy_docstring_and_deprecators\u001b[39m(Axes\u001b[39m.\u001b[39mplot)\n\u001b[1;32m   2766\u001b[0m \u001b[39mdef\u001b[39;00m \u001b[39mplot\u001b[39m(\u001b[39m*\u001b[39margs, scalex\u001b[39m=\u001b[39m\u001b[39mTrue\u001b[39;00m, scaley\u001b[39m=\u001b[39m\u001b[39mTrue\u001b[39;00m, data\u001b[39m=\u001b[39m\u001b[39mNone\u001b[39;00m, \u001b[39m*\u001b[39m\u001b[39m*\u001b[39mkwargs):\n\u001b[0;32m-> 2767\u001b[0m     \u001b[39mreturn\u001b[39;00m gca()\u001b[39m.\u001b[39;49mplot(\n\u001b[1;32m   2768\u001b[0m         \u001b[39m*\u001b[39;49margs, scalex\u001b[39m=\u001b[39;49mscalex, scaley\u001b[39m=\u001b[39;49mscaley,\n\u001b[1;32m   2769\u001b[0m         \u001b[39m*\u001b[39;49m\u001b[39m*\u001b[39;49m({\u001b[39m\"\u001b[39;49m\u001b[39mdata\u001b[39;49m\u001b[39m\"\u001b[39;49m: data} \u001b[39mif\u001b[39;49;00m data \u001b[39mis\u001b[39;49;00m \u001b[39mnot\u001b[39;49;00m \u001b[39mNone\u001b[39;49;00m \u001b[39melse\u001b[39;49;00m {}), \u001b[39m*\u001b[39;49m\u001b[39m*\u001b[39;49mkwargs)\n",
      "File \u001b[0;32m~/.local/lib/python3.10/site-packages/matplotlib/axes/_axes.py:1635\u001b[0m, in \u001b[0;36mAxes.plot\u001b[0;34m(self, scalex, scaley, data, *args, **kwargs)\u001b[0m\n\u001b[1;32m   1393\u001b[0m \u001b[39m\"\"\"\u001b[39;00m\n\u001b[1;32m   1394\u001b[0m \u001b[39mPlot y versus x as lines and/or markers.\u001b[39;00m\n\u001b[1;32m   1395\u001b[0m \n\u001b[0;32m   (...)\u001b[0m\n\u001b[1;32m   1632\u001b[0m \u001b[39m(``'green'``) or hex strings (``'#008000'``).\u001b[39;00m\n\u001b[1;32m   1633\u001b[0m \u001b[39m\"\"\"\u001b[39;00m\n\u001b[1;32m   1634\u001b[0m kwargs \u001b[39m=\u001b[39m cbook\u001b[39m.\u001b[39mnormalize_kwargs(kwargs, mlines\u001b[39m.\u001b[39mLine2D)\n\u001b[0;32m-> 1635\u001b[0m lines \u001b[39m=\u001b[39m [\u001b[39m*\u001b[39m\u001b[39mself\u001b[39m\u001b[39m.\u001b[39m_get_lines(\u001b[39m*\u001b[39margs, data\u001b[39m=\u001b[39mdata, \u001b[39m*\u001b[39m\u001b[39m*\u001b[39mkwargs)]\n\u001b[1;32m   1636\u001b[0m \u001b[39mfor\u001b[39;00m line \u001b[39min\u001b[39;00m lines:\n\u001b[1;32m   1637\u001b[0m     \u001b[39mself\u001b[39m\u001b[39m.\u001b[39madd_line(line)\n",
      "File \u001b[0;32m~/.local/lib/python3.10/site-packages/matplotlib/axes/_base.py:312\u001b[0m, in \u001b[0;36m_process_plot_var_args.__call__\u001b[0;34m(self, data, *args, **kwargs)\u001b[0m\n\u001b[1;32m    310\u001b[0m     this \u001b[39m+\u001b[39m\u001b[39m=\u001b[39m args[\u001b[39m0\u001b[39m],\n\u001b[1;32m    311\u001b[0m     args \u001b[39m=\u001b[39m args[\u001b[39m1\u001b[39m:]\n\u001b[0;32m--> 312\u001b[0m \u001b[39myield from\u001b[39;00m \u001b[39mself\u001b[39;49m\u001b[39m.\u001b[39;49m_plot_args(this, kwargs)\n",
      "File \u001b[0;32m~/.local/lib/python3.10/site-packages/matplotlib/axes/_base.py:498\u001b[0m, in \u001b[0;36m_process_plot_var_args._plot_args\u001b[0;34m(self, tup, kwargs, return_kwargs)\u001b[0m\n\u001b[1;32m    495\u001b[0m     \u001b[39mself\u001b[39m\u001b[39m.\u001b[39maxes\u001b[39m.\u001b[39myaxis\u001b[39m.\u001b[39mupdate_units(y)\n\u001b[1;32m    497\u001b[0m \u001b[39mif\u001b[39;00m x\u001b[39m.\u001b[39mshape[\u001b[39m0\u001b[39m] \u001b[39m!=\u001b[39m y\u001b[39m.\u001b[39mshape[\u001b[39m0\u001b[39m]:\n\u001b[0;32m--> 498\u001b[0m     \u001b[39mraise\u001b[39;00m \u001b[39mValueError\u001b[39;00m(\u001b[39mf\u001b[39m\u001b[39m\"\u001b[39m\u001b[39mx and y must have same first dimension, but \u001b[39m\u001b[39m\"\u001b[39m\n\u001b[1;32m    499\u001b[0m                      \u001b[39mf\u001b[39m\u001b[39m\"\u001b[39m\u001b[39mhave shapes \u001b[39m\u001b[39m{\u001b[39;00mx\u001b[39m.\u001b[39mshape\u001b[39m}\u001b[39;00m\u001b[39m and \u001b[39m\u001b[39m{\u001b[39;00my\u001b[39m.\u001b[39mshape\u001b[39m}\u001b[39;00m\u001b[39m\"\u001b[39m)\n\u001b[1;32m    500\u001b[0m \u001b[39mif\u001b[39;00m x\u001b[39m.\u001b[39mndim \u001b[39m>\u001b[39m \u001b[39m2\u001b[39m \u001b[39mor\u001b[39;00m y\u001b[39m.\u001b[39mndim \u001b[39m>\u001b[39m \u001b[39m2\u001b[39m:\n\u001b[1;32m    501\u001b[0m     \u001b[39mraise\u001b[39;00m \u001b[39mValueError\u001b[39;00m(\u001b[39mf\u001b[39m\u001b[39m\"\u001b[39m\u001b[39mx and y can be no greater than 2D, but have \u001b[39m\u001b[39m\"\u001b[39m\n\u001b[1;32m    502\u001b[0m                      \u001b[39mf\u001b[39m\u001b[39m\"\u001b[39m\u001b[39mshapes \u001b[39m\u001b[39m{\u001b[39;00mx\u001b[39m.\u001b[39mshape\u001b[39m}\u001b[39;00m\u001b[39m and \u001b[39m\u001b[39m{\u001b[39;00my\u001b[39m.\u001b[39mshape\u001b[39m}\u001b[39;00m\u001b[39m\"\u001b[39m)\n",
      "\u001b[0;31mValueError\u001b[0m: x and y must have same first dimension, but have shapes (400,) and (2, 800)"
     ]
    },
    {
     "data": {
      "image/png": "[encoded data removed]",
      "text/plain": [
       "<Figure size 640x480 with 1 Axes>"
      ]
     },
     "metadata": {},
     "output_type": "display_data"
    }
   ],
   "source": [
    "a = sim.get_flux_data(trans)\n",
    "import matplotlib.pyplot as plt\n",
    "import numpy as np\n",
    "plt.plot(np.linspace(fmin, fmax, nfreq), a[0])"
   ]
  },
  {
   "cell_type": "code",
   "execution_count": 16,
   "metadata": {},
   "outputs": [
    {
     "name": "stdout",
     "output_type": "stream",
     "text": [
      "harmonics:, 1, 1, 10.259830877929327, 0.757479945752147\n"
     ]
    }
   ],
   "source": [
    "print(\n",
    "        f\"harmonics:, {k}, {amp}, {mp.get_fluxes(trans1)[0]}, {mp.get_fluxes(trans3)[0]}\"\n",
    "    )"
   ]
  }
 ],
 "metadata": {
  "kernelspec": {
   "display_name": "pmp",
   "language": "python",
   "name": "python3"
  },
  "language_info": {
   "codemirror_mode": {
    "name": "ipython",
    "version": 3
   },
   "file_extension": ".py",
   "mimetype": "text/x-python",
   "name": "python",
   "nbconvert_exporter": "python",
   "pygments_lexer": "ipython3",
   "version": "3.10.6"
  },
  "orig_nbformat": 4,
  "vscode": {
   "interpreter": {
    "hash": "6d9189529467c46d6b7d7277835c1c7553c439175bd27f5d598d58373f0b02c0"
   }
  }
 },
 "nbformat": 4,
 "nbformat_minor": 2
}
