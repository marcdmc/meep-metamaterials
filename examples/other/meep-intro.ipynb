{
 "cells": [
  {
   "cell_type": "code",
   "execution_count": 1,
   "metadata": {},
   "outputs": [
    {
     "name": "stdout",
     "output_type": "stream",
     "text": [
      "Using MPI version 4.0, 1 processes\n"
     ]
    }
   ],
   "source": [
    "import meep as mp\n",
    "resolution = 50 # 50 pixels per unit a.\n",
    "cell = mp.Vector3(20, 20, 0) # just work in 2D for this"
   ]
  },
  {
   "cell_type": "code",
   "execution_count": 2,
   "metadata": {},
   "outputs": [],
   "source": [
    "freq = 0.66713\n",
    "\n",
    "sources = [mp.Source(src=mp.ContinuousSource(freq),\n",
    "                     center=mp.Vector3(x=xi, y=0, z=0),\n",
    "                     component=mp.Ez, \n",
    "                     amplitude=1.0) for xi in (2.0, 1.0, 0.0, -1.0)] # 1mA source"
   ]
  },
  {
   "cell_type": "code",
   "execution_count": 3,
   "metadata": {},
   "outputs": [],
   "source": [
    "geometry = [mp.Block(mp.Vector3(mp.inf, mp.inf, mp.inf), # define an infinite block\n",
    "                     center=mp.Vector3(0, 0, 0), # centered at the origin\n",
    "                     material=mp.Medium(epsilon=1))] # that is a vacuum\n",
    "pml_layers = [mp.PML(1.0)]"
   ]
  },
  {
   "cell_type": "code",
   "execution_count": 4,
   "metadata": {},
   "outputs": [],
   "source": [
    "sim = mp.Simulation(cell_size=cell,\n",
    "                    boundary_layers=pml_layers,\n",
    "                    geometry=geometry,\n",
    "                    sources=sources,\n",
    "                    resolution=resolution)\n"
   ]
  },
  {
   "cell_type": "code",
   "execution_count": 5,
   "metadata": {},
   "outputs": [
    {
     "name": "stdout",
     "output_type": "stream",
     "text": [
      "-----------\n",
      "Initializing structure...\n",
      "time for choose_chunkdivision = 0.000564098 s\n",
      "Working in 2D dimensions.\n",
      "Computational cell is 20 x 20 x 0 with resolution 50\n",
      "     block, center = (0,0,0)\n",
      "          size (1e+20,1e+20,1e+20)\n",
      "          axes (1,0,0), (0,1,0), (0,0,1)\n",
      "          dielectric constant epsilon diagonal = (1,1,1)\n",
      "time for set_epsilon = 2.22223 s\n",
      "-----------\n",
      "Meep progress: 6.25/35.0 = 17.9% done in 4.0s, 18.4s to go\n",
      "on time step 625 (time=6.25), 0.00640899 s/step\n",
      "Meep progress: 12.8/35.0 = 36.6% done in 8.0s, 13.9s to go\n",
      "on time step 1281 (time=12.81), 0.00610656 s/step\n",
      "Meep progress: 19.17/35.0 = 54.8% done in 12.0s, 9.9s to go\n",
      "on time step 1918 (time=19.18), 0.00628313 s/step\n",
      "Meep progress: 25.51/35.0 = 72.9% done in 16.0s, 6.0s to go\n",
      "on time step 2552 (time=25.52), 0.00631836 s/step\n",
      "Meep progress: 31.41/35.0 = 89.7% done in 20.0s, 2.3s to go\n",
      "on time step 3142 (time=31.42), 0.00678332 s/step\n",
      "run 0 finished at t = 35.0 (3500 timesteps)\n",
      "creating output file \"./ez.h5\"...\n"
     ]
    },
    {
     "ename": "",
     "evalue": "",
     "output_type": "error",
     "traceback": [
      "\u001b[1;31mCanceled future for execute_request message before replies were done"
     ]
    },
    {
     "ename": "",
     "evalue": "",
     "output_type": "error",
     "traceback": [
      "\u001b[1;31mThe Kernel crashed while executing code in the the current cell or a previous cell. Please review the code in the cell(s) to identify a possible cause of the failure. Click <a href='https://aka.ms/vscodeJupyterKernelCrash'>here</a> for more info. View Jupyter <a href='command:jupyter.viewOutput'>log</a> for further details."
     ]
    }
   ],
   "source": [
    "sim.run(until=35)\n",
    "# If we want to save the E-field z-components every 0.1 units of time,\n",
    "# then, instead of the above, we can run:\n",
    "sim.run(mp.to_appended(\"ez\", mp.at_every(0.1, mp.output_efield_z)), until=35)"
   ]
  },
  {
   "cell_type": "code",
   "execution_count": null,
   "metadata": {},
   "outputs": [],
   "source": [
    "sim.init_sim()\n",
    "sim.solve_cw()"
   ]
  },
  {
   "cell_type": "code",
   "execution_count": null,
   "metadata": {},
   "outputs": [],
   "source": [
    "import h5py\n",
    "import numpy as np\n",
    "f = h5py.File('ez.h5', 'r')\n",
    "efield_z = np.array(f.get('ez')) # a float tensor of shape (600, 600, 350)\n",
    "f.close()"
   ]
  }
 ],
 "metadata": {
  "kernelspec": {
   "display_name": "Python 3.10.6 ('pmp')",
   "language": "python",
   "name": "python3"
  },
  "language_info": {
   "codemirror_mode": {
    "name": "ipython",
    "version": 3
   },
   "file_extension": ".py",
   "mimetype": "text/x-python",
   "name": "python",
   "nbconvert_exporter": "python",
   "pygments_lexer": "ipython3",
   "version": "3.10.6"
  },
  "orig_nbformat": 4,
  "vscode": {
   "interpreter": {
    "hash": "6d9189529467c46d6b7d7277835c1c7553c439175bd27f5d598d58373f0b02c0"
   }
  }
 },
 "nbformat": 4,
 "nbformat_minor": 2
}
