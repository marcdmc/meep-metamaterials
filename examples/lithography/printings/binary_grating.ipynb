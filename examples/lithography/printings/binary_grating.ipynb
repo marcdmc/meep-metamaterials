{
 "cells": [
  {
   "cell_type": "code",
   "execution_count": 1,
   "metadata": {},
   "outputs": [
    {
     "name": "stdout",
     "output_type": "stream",
     "text": [
      "Using MPI version 4.0, 1 processes\n"
     ]
    },
    {
     "name": "stderr",
     "output_type": "stream",
     "text": [
      "/home/gridsan/mcomella/.conda/envs/pmp/lib/python3.11/site-packages/numpy/core/getlimits.py:500: UserWarning: The value of the smallest subnormal for <class 'numpy.float64'> type is zero.\n",
      "  setattr(self, word, getattr(machar, word).flat[0])\n",
      "/home/gridsan/mcomella/.conda/envs/pmp/lib/python3.11/site-packages/numpy/core/getlimits.py:89: UserWarning: The value of the smallest subnormal for <class 'numpy.float64'> type is zero.\n",
      "  return self._float_to_str(self.smallest_subnormal)\n",
      "/home/gridsan/mcomella/.conda/envs/pmp/lib/python3.11/site-packages/numpy/core/getlimits.py:500: UserWarning: The value of the smallest subnormal for <class 'numpy.float32'> type is zero.\n",
      "  setattr(self, word, getattr(machar, word).flat[0])\n",
      "/home/gridsan/mcomella/.conda/envs/pmp/lib/python3.11/site-packages/numpy/core/getlimits.py:89: UserWarning: The value of the smallest subnormal for <class 'numpy.float32'> type is zero.\n",
      "  return self._float_to_str(self.smallest_subnormal)\n"
     ]
    }
   ],
   "source": [
    "import meep as mp\n",
    "import numpy as np\n",
    "import pandas as pd\n",
    "import matplotlib.pyplot as plt\n",
    "import sys\n",
    "\n",
    "sys.path.append('../../..')\n",
    "from meep_metamaterials.lithography import lithography as lt"
   ]
  },
  {
   "cell_type": "markdown",
   "metadata": {},
   "source": [
    "We used 285 nm pixels with a dwell time of 2 us, which is a speed of 142 mm/s."
   ]
  },
  {
   "cell_type": "code",
   "execution_count": 2,
   "metadata": {},
   "outputs": [],
   "source": [
    "powers = np.linspace(0.1, 1, 8) # Range of powers\n",
    "speeds = np.linspace(50, 160, 8) # Range of speeds in mm/s\n",
    "\n",
    "pixel_size = 285e-6 # 500 nm (size in mm)\n",
    "dwell_time = 2e-6 # Dwell time in s\n",
    "dz = 1e-3 # 1 um\n",
    "\n",
    "T = 0.8 # Period in mm\n",
    "w = 0.4 # Width in mm\n",
    "t = 5e-3 # Thickness in mm\n",
    "\n",
    "gel_size = 10 # Size of gel in mm\n",
    "\n",
    "x_aspect = 0.1"
   ]
  },
  {
   "cell_type": "code",
   "execution_count": 3,
   "metadata": {},
   "outputs": [],
   "source": [
    "# Scale to match the printer window width\n",
    "w = w/x_aspect\n",
    "pixel_size = pixel_size/x_aspect"
   ]
  },
  {
   "cell_type": "code",
   "execution_count": 4,
   "metadata": {},
   "outputs": [
    {
     "name": "stderr",
     "output_type": "stream",
     "text": [
      "100%|██████████| 6/6 [00:23<00:00,  3.84s/it]\n"
     ]
    }
   ],
   "source": [
    "block = mp.Block(mp.Vector3(w,w,t))\n",
    "\n",
    "n, m = len(powers), len(speeds)\n",
    "i, j = 0, 0\n",
    "mat = lt.draw_block(block, 0, 0, speed=1, power=1, dx=pixel_size, dz=dz)"
   ]
  },
  {
   "cell_type": "code",
   "execution_count": 5,
   "metadata": {},
   "outputs": [],
   "source": [
    "M = pd.DataFrame(columns=['xi', 'yi', 'pi', 'xf', 'yf', 'pf', 't', 'X', 'Y', 'Z'])\n",
    "\n",
    "# Pmax = 0.3 # Maximum power in W\n",
    "\n",
    "n, m = len(powers), len(speeds)\n",
    "i, j = 0, 0\n",
    "for pwr in powers:\n",
    "    for speed in speeds:\n",
    "        mt = mat.copy()\n",
    "\n",
    "        mt['t'] = w*x_aspect/speed\n",
    "        mt['pi'] = pwr\n",
    "        mt['pf'] = pwr\n",
    "        x_offset = (i-n/2+1/2) * T\n",
    "        y_offset = (j-m/2+1/2) * T\n",
    "\n",
    "        mt['X'] = mt['X'] + x_offset\n",
    "        mt['Y'] = mt['Y'] + y_offset\n",
    "\n",
    "        j += 1\n",
    "        M = pd.concat([M, mt])\n",
    "        \n",
    "    j = 0\n",
    "    i += 1"
   ]
  },
  {
   "cell_type": "code",
   "execution_count": 6,
   "metadata": {},
   "outputs": [
    {
     "name": "stdout",
     "output_type": "stream",
     "text": [
      "0.6560344705565528 h\n",
      "39.362068233393174 min\n"
     ]
    }
   ],
   "source": [
    "# Total time\n",
    "print(M['t'].sum()/3600, 'h')\n",
    "print(M['t'].sum()/60, 'min')"
   ]
  },
  {
   "cell_type": "code",
   "execution_count": 46,
   "metadata": {},
   "outputs": [],
   "source": [
    "lt.save_to_matlab(M, '../instructions/dielectric_properties/substrate.mat')"
   ]
  },
  {
   "cell_type": "markdown",
   "metadata": {},
   "source": [
    "---"
   ]
  },
  {
   "cell_type": "markdown",
   "metadata": {},
   "source": [
    "Add lines on top"
   ]
  },
  {
   "cell_type": "code",
   "execution_count": 7,
   "metadata": {},
   "outputs": [
    {
     "name": "stderr",
     "output_type": "stream",
     "text": [
      "100%|██████████| 4/4 [00:00<00:00, 170.32it/s]\n",
      "100%|██████████| 30/30 [00:01<00:00, 16.62it/s]\n"
     ]
    }
   ],
   "source": [
    "sep = 1.2e-3 # Separation between lines in grating\n",
    "dc = 0.5 # Duty cycle\n",
    "t = 3e-3 # Thickness of grating\n",
    "\n",
    "geometry = [mp.Block(size=mp.Vector3(10*sep*dc, 10*sep, t))]\n",
    "\n",
    "mat = lt.draw_metamaterial(geometry, a=10*sep, nrows=30, ncols=30, dx=pixel_size, dz=dz, speed=speed)"
   ]
  },
  {
   "cell_type": "code",
   "execution_count": 48,
   "metadata": {},
   "outputs": [],
   "source": [
    "M = pd.DataFrame(columns=['xi', 'yi', 'pi', 'xf', 'yf', 'pf', 't', 'X', 'Y', 'Z'])\n",
    "\n",
    "n, m = len(powers), len(speeds)\n",
    "i, j = 0, 0\n",
    "for pwr in powers:\n",
    "    for speed in speeds:\n",
    "        mt = mat.copy()\n",
    "\n",
    "        mt['t'] = w*x_aspect/speed\n",
    "        mt['pi'] = pwr\n",
    "        mt['pf'] = pwr\n",
    "        x_offset = (i-n/2+1/2) * T\n",
    "        y_offset = (j-m/2+1/2) * T\n",
    "\n",
    "        mt['X'] = mt['X'] + x_offset\n",
    "        mt['Y'] = mt['Y'] + y_offset\n",
    "\n",
    "        mt['Z'] = mt['Z'] + t/2\n",
    "\n",
    "        j += 1\n",
    "        M = pd.concat([M, mt])\n",
    "        \n",
    "    j = 0\n",
    "    i += 1"
   ]
  },
  {
   "cell_type": "code",
   "execution_count": 49,
   "metadata": {},
   "outputs": [
    {
     "name": "stdout",
     "output_type": "stream",
     "text": [
      "0.8410698340468629 h\n",
      "50.46419004281177 min\n"
     ]
    }
   ],
   "source": [
    "# Total time\n",
    "print(M['t'].sum()/3600, 'h')\n",
    "print(M['t'].sum()/60, 'min')"
   ]
  },
  {
   "cell_type": "code",
   "execution_count": 50,
   "metadata": {},
   "outputs": [],
   "source": [
    "lt.save_to_matlab(M, '../instructions/dielectric_properties/grating.mat')"
   ]
  },
  {
   "cell_type": "markdown",
   "metadata": {},
   "source": [
    "---"
   ]
  },
  {
   "cell_type": "code",
   "execution_count": 51,
   "metadata": {},
   "outputs": [],
   "source": [
    "m1 = lt.load_from_matlab('../instructions/dielectric_properties/substrate.mat')\n",
    "m2 = lt.load_from_matlab('../instructions/dielectric_properties/grating.mat')\n",
    "\n",
    "lt.save_to_matlab(pd.concat([m1, m2]), '../instructions/dielectric_properties/substrate_grating.mat')"
   ]
  }
 ],
 "metadata": {
  "kernelspec": {
   "display_name": "pmp",
   "language": "python",
   "name": "python3"
  },
  "language_info": {
   "codemirror_mode": {
    "name": "ipython",
    "version": 3
   },
   "file_extension": ".py",
   "mimetype": "text/x-python",
   "name": "python",
   "nbconvert_exporter": "python",
   "pygments_lexer": "ipython3",
   "version": "3.11.0 | packaged by conda-forge | (main, Oct 25 2022, 06:24:40) [GCC 10.4.0]"
  },
  "orig_nbformat": 4,
  "vscode": {
   "interpreter": {
    "hash": "6d9189529467c46d6b7d7277835c1c7553c439175bd27f5d598d58373f0b02c0"
   }
  }
 },
 "nbformat": 4,
 "nbformat_minor": 2
}
