{
 "cells": [
  {
   "cell_type": "code",
   "execution_count": 2,
   "metadata": {},
   "outputs": [
    {
     "name": "stdout",
     "output_type": "stream",
     "text": [
      "Using MPI version 4.0, 1 processes\n"
     ]
    },
    {
     "name": "stderr",
     "output_type": "stream",
     "text": [
      "/home/gridsan/mcomella/.conda/envs/pmp/lib/python3.10/site-packages/numpy/core/getlimits.py:500: UserWarning: The value of the smallest subnormal for <class 'numpy.float64'> type is zero.\n",
      "  setattr(self, word, getattr(machar, word).flat[0])\n",
      "/home/gridsan/mcomella/.conda/envs/pmp/lib/python3.10/site-packages/numpy/core/getlimits.py:89: UserWarning: The value of the smallest subnormal for <class 'numpy.float64'> type is zero.\n",
      "  return self._float_to_str(self.smallest_subnormal)\n",
      "/home/gridsan/mcomella/.conda/envs/pmp/lib/python3.10/site-packages/numpy/core/getlimits.py:500: UserWarning: The value of the smallest subnormal for <class 'numpy.float32'> type is zero.\n",
      "  setattr(self, word, getattr(machar, word).flat[0])\n",
      "/home/gridsan/mcomella/.conda/envs/pmp/lib/python3.10/site-packages/numpy/core/getlimits.py:89: UserWarning: The value of the smallest subnormal for <class 'numpy.float32'> type is zero.\n",
      "  return self._float_to_str(self.smallest_subnormal)\n"
     ]
    }
   ],
   "source": [
    "import meep as mp\n",
    "import numpy as np\n",
    "import pandas as pd\n",
    "import matplotlib.pyplot as plt\n",
    "import sys\n",
    "sys.path.append('../../metamaterials')\n",
    "from metamaterials import lithography as lt"
   ]
  },
  {
   "cell_type": "code",
   "execution_count": 3,
   "metadata": {},
   "outputs": [],
   "source": [
    "powers = np.linspace(np.sqrt(0.05), np.sqrt(.2), 10)**2 # Range of powers in W\n",
    "speeds = np.linspace(np.sqrt(100), np.sqrt(300), 10)**2 # Range of speeds in mm/s\n",
    "pixel_size = 1e-3 # Pixel size in mm\n",
    "\n",
    "T = 0.8 # Period in mm\n",
    "w = 0.3 # Width in mm\n",
    "t = 0.05 # Thickness in mm\n",
    "\n",
    "gel_size = 10 # Size of gel in mm"
   ]
  },
  {
   "cell_type": "code",
   "execution_count": 4,
   "metadata": {},
   "outputs": [],
   "source": [
    "block = mp.Block(mp.Vector3(w,w,t))\n",
    "\n",
    "n, m = len(powers), len(speeds)\n",
    "i, j = 0, 0\n",
    "mat = lt.draw_block(block, 0, 0, speed=1, power=1, dx=pixel_size, lightweight=True)"
   ]
  },
  {
   "cell_type": "code",
   "execution_count": 5,
   "metadata": {},
   "outputs": [],
   "source": [
    "M = pd.DataFrame(columns=['xi', 'yi', 'pi', 'xf', 'yf', 'pf', 't', 'X', 'Y', 'Z'])\n",
    "\n",
    "Pmax = 0.3 # Maximum power in W\n",
    "\n",
    "n, m = len(powers), len(speeds)\n",
    "i, j = 0, 0\n",
    "for pwr in powers:\n",
    "    for speed in speeds:\n",
    "        mt = mat.copy()\n",
    "\n",
    "        mt['t'] = w/speed\n",
    "        mt['pi'] = pwr / Pmax\n",
    "        mt['pf'] = pwr / Pmax\n",
    "        x_offset = (i-n/2+1/2) * T\n",
    "        y_offset = (j-m/2+1/2) * T\n",
    "\n",
    "        mt['X'] = mt['X'] + x_offset\n",
    "        mt['Y'] = mt['Y'] + y_offset\n",
    "\n",
    "        j += 1\n",
    "        M = pd.concat([M, mt])\n",
    "        \n",
    "    j = 0\n",
    "    i += 1"
   ]
  },
  {
   "cell_type": "code",
   "execution_count": 6,
   "metadata": {},
   "outputs": [
    {
     "data": {
      "text/html": [
       "<div>\n",
       "<style scoped>\n",
       "    .dataframe tbody tr th:only-of-type {\n",
       "        vertical-align: middle;\n",
       "    }\n",
       "\n",
       "    .dataframe tbody tr th {\n",
       "        vertical-align: top;\n",
       "    }\n",
       "\n",
       "    .dataframe thead th {\n",
       "        text-align: right;\n",
       "    }\n",
       "</style>\n",
       "<table border=\"1\" class=\"dataframe\">\n",
       "  <thead>\n",
       "    <tr style=\"text-align: right;\">\n",
       "      <th></th>\n",
       "      <th>xi</th>\n",
       "      <th>yi</th>\n",
       "      <th>pi</th>\n",
       "      <th>xf</th>\n",
       "      <th>yf</th>\n",
       "      <th>pf</th>\n",
       "      <th>t</th>\n",
       "      <th>X</th>\n",
       "      <th>Y</th>\n",
       "      <th>Z</th>\n",
       "    </tr>\n",
       "  </thead>\n",
       "  <tbody>\n",
       "    <tr>\n",
       "      <th>0</th>\n",
       "      <td>-0.150</td>\n",
       "      <td>-0.15</td>\n",
       "      <td>0.166667</td>\n",
       "      <td>-0.150</td>\n",
       "      <td>0.15</td>\n",
       "      <td>0.166667</td>\n",
       "      <td>0.003</td>\n",
       "      <td>-3.6</td>\n",
       "      <td>-3.6</td>\n",
       "      <td>-0.025</td>\n",
       "    </tr>\n",
       "    <tr>\n",
       "      <th>0</th>\n",
       "      <td>-0.149</td>\n",
       "      <td>-0.15</td>\n",
       "      <td>0.166667</td>\n",
       "      <td>-0.149</td>\n",
       "      <td>0.15</td>\n",
       "      <td>0.166667</td>\n",
       "      <td>0.003</td>\n",
       "      <td>-3.6</td>\n",
       "      <td>-3.6</td>\n",
       "      <td>-0.025</td>\n",
       "    </tr>\n",
       "    <tr>\n",
       "      <th>0</th>\n",
       "      <td>-0.148</td>\n",
       "      <td>-0.15</td>\n",
       "      <td>0.166667</td>\n",
       "      <td>-0.148</td>\n",
       "      <td>0.15</td>\n",
       "      <td>0.166667</td>\n",
       "      <td>0.003</td>\n",
       "      <td>-3.6</td>\n",
       "      <td>-3.6</td>\n",
       "      <td>-0.025</td>\n",
       "    </tr>\n",
       "    <tr>\n",
       "      <th>0</th>\n",
       "      <td>-0.147</td>\n",
       "      <td>-0.15</td>\n",
       "      <td>0.166667</td>\n",
       "      <td>-0.147</td>\n",
       "      <td>0.15</td>\n",
       "      <td>0.166667</td>\n",
       "      <td>0.003</td>\n",
       "      <td>-3.6</td>\n",
       "      <td>-3.6</td>\n",
       "      <td>-0.025</td>\n",
       "    </tr>\n",
       "    <tr>\n",
       "      <th>0</th>\n",
       "      <td>-0.146</td>\n",
       "      <td>-0.15</td>\n",
       "      <td>0.166667</td>\n",
       "      <td>-0.146</td>\n",
       "      <td>0.15</td>\n",
       "      <td>0.166667</td>\n",
       "      <td>0.003</td>\n",
       "      <td>-3.6</td>\n",
       "      <td>-3.6</td>\n",
       "      <td>-0.025</td>\n",
       "    </tr>\n",
       "    <tr>\n",
       "      <th>...</th>\n",
       "      <td>...</td>\n",
       "      <td>...</td>\n",
       "      <td>...</td>\n",
       "      <td>...</td>\n",
       "      <td>...</td>\n",
       "      <td>...</td>\n",
       "      <td>...</td>\n",
       "      <td>...</td>\n",
       "      <td>...</td>\n",
       "      <td>...</td>\n",
       "    </tr>\n",
       "    <tr>\n",
       "      <th>0</th>\n",
       "      <td>0.144</td>\n",
       "      <td>-0.15</td>\n",
       "      <td>0.666667</td>\n",
       "      <td>0.144</td>\n",
       "      <td>0.15</td>\n",
       "      <td>0.666667</td>\n",
       "      <td>0.001</td>\n",
       "      <td>3.6</td>\n",
       "      <td>3.6</td>\n",
       "      <td>0.024</td>\n",
       "    </tr>\n",
       "    <tr>\n",
       "      <th>0</th>\n",
       "      <td>0.145</td>\n",
       "      <td>-0.15</td>\n",
       "      <td>0.666667</td>\n",
       "      <td>0.145</td>\n",
       "      <td>0.15</td>\n",
       "      <td>0.666667</td>\n",
       "      <td>0.001</td>\n",
       "      <td>3.6</td>\n",
       "      <td>3.6</td>\n",
       "      <td>0.024</td>\n",
       "    </tr>\n",
       "    <tr>\n",
       "      <th>0</th>\n",
       "      <td>0.146</td>\n",
       "      <td>-0.15</td>\n",
       "      <td>0.666667</td>\n",
       "      <td>0.146</td>\n",
       "      <td>0.15</td>\n",
       "      <td>0.666667</td>\n",
       "      <td>0.001</td>\n",
       "      <td>3.6</td>\n",
       "      <td>3.6</td>\n",
       "      <td>0.024</td>\n",
       "    </tr>\n",
       "    <tr>\n",
       "      <th>0</th>\n",
       "      <td>0.147</td>\n",
       "      <td>-0.15</td>\n",
       "      <td>0.666667</td>\n",
       "      <td>0.147</td>\n",
       "      <td>0.15</td>\n",
       "      <td>0.666667</td>\n",
       "      <td>0.001</td>\n",
       "      <td>3.6</td>\n",
       "      <td>3.6</td>\n",
       "      <td>0.024</td>\n",
       "    </tr>\n",
       "    <tr>\n",
       "      <th>0</th>\n",
       "      <td>0.148</td>\n",
       "      <td>-0.15</td>\n",
       "      <td>0.666667</td>\n",
       "      <td>0.148</td>\n",
       "      <td>0.15</td>\n",
       "      <td>0.666667</td>\n",
       "      <td>0.001</td>\n",
       "      <td>3.6</td>\n",
       "      <td>3.6</td>\n",
       "      <td>0.024</td>\n",
       "    </tr>\n",
       "  </tbody>\n",
       "</table>\n",
       "<p>1495000 rows × 10 columns</p>\n",
       "</div>"
      ],
      "text/plain": [
       "       xi    yi        pi     xf    yf        pf      t    X    Y      Z\n",
       "0  -0.150 -0.15  0.166667 -0.150  0.15  0.166667  0.003 -3.6 -3.6 -0.025\n",
       "0  -0.149 -0.15  0.166667 -0.149  0.15  0.166667  0.003 -3.6 -3.6 -0.025\n",
       "0  -0.148 -0.15  0.166667 -0.148  0.15  0.166667  0.003 -3.6 -3.6 -0.025\n",
       "0  -0.147 -0.15  0.166667 -0.147  0.15  0.166667  0.003 -3.6 -3.6 -0.025\n",
       "0  -0.146 -0.15  0.166667 -0.146  0.15  0.166667  0.003 -3.6 -3.6 -0.025\n",
       "..    ...   ...       ...    ...   ...       ...    ...  ...  ...    ...\n",
       "0   0.144 -0.15  0.666667  0.144  0.15  0.666667  0.001  3.6  3.6  0.024\n",
       "0   0.145 -0.15  0.666667  0.145  0.15  0.666667  0.001  3.6  3.6  0.024\n",
       "0   0.146 -0.15  0.666667  0.146  0.15  0.666667  0.001  3.6  3.6  0.024\n",
       "0   0.147 -0.15  0.666667  0.147  0.15  0.666667  0.001  3.6  3.6  0.024\n",
       "0   0.148 -0.15  0.666667  0.148  0.15  0.666667  0.001  3.6  3.6  0.024\n",
       "\n",
       "[1495000 rows x 10 columns]"
      ]
     },
     "execution_count": 6,
     "metadata": {},
     "output_type": "execute_result"
    }
   ],
   "source": [
    "M"
   ]
  },
  {
   "cell_type": "code",
   "execution_count": 7,
   "metadata": {},
   "outputs": [
    {
     "data": {
      "text/plain": [
       "0.7317713456617916"
      ]
     },
     "execution_count": 7,
     "metadata": {},
     "output_type": "execute_result"
    }
   ],
   "source": [
    "# Total time\n",
    "M['t'].sum()/3600"
   ]
  },
  {
   "cell_type": "code",
   "execution_count": 8,
   "metadata": {},
   "outputs": [
    {
     "data": {
      "text/plain": [
       "[<matplotlib.lines.Line2D at 0x7f2474d434f0>]"
      ]
     },
     "execution_count": 8,
     "metadata": {},
     "output_type": "execute_result"
    },
    {
     "data": {
      "image/png": "[encoded data removed]",
      "text/plain": [
       "<Figure size 640x480 with 1 Axes>"
      ]
     },
     "metadata": {},
     "output_type": "display_data"
    }
   ],
   "source": [
    "a = np.array(M['t'])\n",
    "# Accumulated values\n",
    "b = np.cumsum(a)/3600\n",
    "plt.plot(b, np.arange(len(a)))"
   ]
  },
  {
   "cell_type": "code",
   "execution_count": 9,
   "metadata": {},
   "outputs": [],
   "source": [
    "lt.save_to_matlab(M, 'pwr_test4.mat')"
   ]
  },
  {
   "cell_type": "code",
   "execution_count": 10,
   "metadata": {},
   "outputs": [
    {
     "data": {
      "text/plain": [
       "[<matplotlib.lines.Line2D at 0x7f246cca1870>]"
      ]
     },
     "execution_count": 10,
     "metadata": {},
     "output_type": "execute_result"
    },
    {
     "data": {
      "image/png": "[encoded data removed]",
      "text/plain": [
       "<Figure size 640x480 with 1 Axes>"
      ]
     },
     "metadata": {},
     "output_type": "display_data"
    }
   ],
   "source": [
    "plt.plot(np.array(M['pi']))"
   ]
  }
 ],
 "metadata": {
  "kernelspec": {
   "display_name": "Python 3.10.6 ('pmp')",
   "language": "python",
   "name": "python3"
  },
  "language_info": {
   "codemirror_mode": {
    "name": "ipython",
    "version": 3
   },
   "file_extension": ".py",
   "mimetype": "text/x-python",
   "name": "python",
   "nbconvert_exporter": "python",
   "pygments_lexer": "ipython3",
   "version": "3.10.6"
  },
  "orig_nbformat": 4,
  "vscode": {
   "interpreter": {
    "hash": "6d9189529467c46d6b7d7277835c1c7553c439175bd27f5d598d58373f0b02c0"
   }
  }
 },
 "nbformat": 4,
 "nbformat_minor": 2
}
