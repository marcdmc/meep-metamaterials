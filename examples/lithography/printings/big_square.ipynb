{
 "cells": [
  {
   "cell_type": "code",
   "execution_count": null,
   "metadata": {},
   "outputs": [],
   "source": [
    "import meep as mp\n",
    "import numpy as np\n",
    "import pandas as pd\n",
    "import matplotlib.pyplot as plt\n",
    "import sys\n",
    "sys.path.append('../../metamaterials')\n",
    "from metamaterials import lithography as lt"
   ]
  },
  {
   "cell_type": "code",
   "execution_count": null,
   "metadata": {},
   "outputs": [],
   "source": [
    "side = 1 # mm\n",
    "depth = 0.1 # mm\n",
    "block = mp.Block(mp.Vector3(side, side, depth))\n",
    "M = lt.draw_block(block, 0, 0, speed=20, power=2, dx=0.0005, lightweight=False)"
   ]
  }
 ],
 "metadata": {
  "language_info": {
   "name": "python"
  },
  "orig_nbformat": 4
 },
 "nbformat": 4,
 "nbformat_minor": 2
}
