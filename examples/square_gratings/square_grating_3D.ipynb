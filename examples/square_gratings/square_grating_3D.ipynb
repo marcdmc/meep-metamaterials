{
 "cells": [
  {
   "cell_type": "code",
   "execution_count": 10,
   "metadata": {},
   "outputs": [],
   "source": [
    "import meep as mp\n",
    "import numpy as np\n",
    "import matplotlib.pyplot as plt"
   ]
  },
  {
   "cell_type": "code",
   "execution_count": 11,
   "metadata": {},
   "outputs": [],
   "source": [
    "n = 5          # index of square grating\n",
    "a = .8            # period \n",
    "d = 0.5*a            # side of square\n",
    "t = 0.2          # thickness of grating\n",
    "dpml = 1         # PML thickness\n",
    "pad = 2          # padding between grating and PML\n",
    "\n",
    "resolution = 50  # pixels/μm\n",
    "pol = mp.Ex"
   ]
  },
  {
   "cell_type": "code",
   "execution_count": 12,
   "metadata": {},
   "outputs": [],
   "source": [
    "from meep.materials import Ag\n",
    "\n",
    "block = mp.Block(size=mp.Vector3(d,t,d), center=mp.Vector3(), material=Ag)\n",
    "# block = mp.Block(size=mp.Vector3(d,t), center=mp.Vector3(), material=mp.Medium(index=n))"
   ]
  },
  {
   "cell_type": "code",
   "execution_count": 13,
   "metadata": {},
   "outputs": [],
   "source": [
    "fcen = 1\n",
    "df = 0.8\n",
    "nfreqs = 50\n",
    "\n",
    "src = mp.Source(src=mp.GaussianSource(fcen, fwidth=df), component=pol, center=mp.Vector3(y=-t/2-pad+0.1), size=mp.Vector3(a,0,a))"
   ]
  },
  {
   "cell_type": "code",
   "execution_count": 14,
   "metadata": {},
   "outputs": [],
   "source": [
    "cell = mp.Vector3(a, 2*(t/2+pad+dpml), a)\n",
    "\n",
    "sim = mp.Simulation(cell_size=cell,\n",
    "                    default_material=mp.Medium(index=1),\n",
    "                    geometry=[block],\n",
    "                    sources=[src],\n",
    "                    resolution=resolution,\n",
    "                    boundary_layers=[mp.PML(dpml, direction=mp.Y)],\n",
    "                    k_point=mp.Vector3())\n",
    "\n",
    "refl = sim.add_mode_monitor(fcen, df, nfreqs, mp.FluxRegion(center=mp.Vector3(y=-t/2-pad+0.2), size=mp.Vector3(a,0,a)))\n",
    "tran = sim.add_mode_monitor(fcen, df, nfreqs, mp.FluxRegion(center=mp.Vector3(y=t/2+pad-0.1), size=mp.Vector3(a,0,a)))"
   ]
  },
  {
   "cell_type": "code",
   "execution_count": 15,
   "metadata": {},
   "outputs": [
    {
     "name": "stdout",
     "output_type": "stream",
     "text": [
      "     block, center = (0,0,0)\n",
      "          size (0.4,0.2,0.4)\n",
      "          axes (1,0,0), (0,1,0), (0,0,1)\n",
      "          dielectric constant epsilon diagonal = (1,1,1)\n"
     ]
    },
    {
     "data": {
      "text/plain": [
       "<AxesSubplot:xlabel='X', ylabel='Y'>"
      ]
     },
     "execution_count": 15,
     "metadata": {},
     "output_type": "execute_result"
    },
    {
     "data": {
      "image/png": "[encoded data removed]",
      "text/plain": [
       "<Figure size 640x480 with 1 Axes>"
      ]
     },
     "metadata": {},
     "output_type": "display_data"
    }
   ],
   "source": [
    "sim.plot2D(output_plane=mp.Volume(center=mp.Vector3(), size=mp.Vector3(a, 2*(t/2+pad+dpml))))"
   ]
  },
  {
   "cell_type": "code",
   "execution_count": 16,
   "metadata": {},
   "outputs": [
    {
     "name": "stdout",
     "output_type": "stream",
     "text": [
      "-----------\n",
      "Initializing structure...\n",
      "time for choose_chunkdivision = 8.79765e-05 s\n",
      "Working in 3D dimensions.\n",
      "Computational cell is 0.8 x 6.2 x 0.8 with resolution 50\n",
      "     block, center = (0,0,0)\n",
      "          size (0.4,0.2,0.4)\n",
      "          axes (1,0,0), (0,1,0), (0,0,1)\n",
      "          dielectric constant epsilon diagonal = (1,1,1)\n",
      "time for set_epsilon = 1.66476 s\n",
      "lorentzian susceptibility: frequency=16.365, gamma=1.95106\n",
      "lorentzian susceptibility: frequency=7.32593, gamma=0.738804\n",
      "lorentzian susceptibility: frequency=6.60165, gamma=0.052426\n",
      "lorentzian susceptibility: frequency=3.61417, gamma=0.364563\n",
      "lorentzian susceptibility: frequency=0.658148, gamma=3.13427\n",
      "drude susceptibility: frequency=1e-10, gamma=0.0387146\n",
      "-----------\n",
      "on time step 38 (time=0.38), 0.106008 s/step\n",
      "on time step 107 (time=1.07), 0.0581978 s/step\n",
      "on time step 176 (time=1.76), 0.0584926 s/step\n",
      "on time step 245 (time=2.45), 0.0583254 s/step\n",
      "on time step 314 (time=3.14), 0.0582043 s/step\n",
      "on time step 385 (time=3.85), 0.0570154 s/step\n",
      "on time step 456 (time=4.56), 0.05686 s/step\n",
      "on time step 527 (time=5.27), 0.0567919 s/step\n",
      "on time step 598 (time=5.98), 0.0568076 s/step\n"
     ]
    },
    {
     "ename": "RuntimeError",
     "evalue": "meep: simulation fields are NaN or Inf",
     "output_type": "error",
     "traceback": [
      "\u001b[0;31m---------------------------------------------------------------------------\u001b[0m",
      "\u001b[0;31mRuntimeError\u001b[0m                              Traceback (most recent call last)",
      "Input \u001b[0;32mIn [16]\u001b[0m, in \u001b[0;36m<cell line: 2>\u001b[0;34m()\u001b[0m\n\u001b[1;32m      1\u001b[0m pt \u001b[38;5;241m=\u001b[39m mp\u001b[38;5;241m.\u001b[39mVector3(y\u001b[38;5;241m=\u001b[39mt\u001b[38;5;241m/\u001b[39m\u001b[38;5;241m2\u001b[39m\u001b[38;5;241m+\u001b[39mpad) \u001b[38;5;66;03m# Point to check field\u001b[39;00m\n\u001b[0;32m----> 2\u001b[0m \u001b[43msim\u001b[49m\u001b[38;5;241;43m.\u001b[39;49m\u001b[43mrun\u001b[49m\u001b[43m(\u001b[49m\u001b[43muntil_after_sources\u001b[49m\u001b[38;5;241;43m=\u001b[39;49m\u001b[43mmp\u001b[49m\u001b[38;5;241;43m.\u001b[39;49m\u001b[43mstop_when_fields_decayed\u001b[49m\u001b[43m(\u001b[49m\u001b[38;5;241;43m100\u001b[39;49m\u001b[43m,\u001b[49m\u001b[43m \u001b[49m\u001b[43mpol\u001b[49m\u001b[43m,\u001b[49m\u001b[43m \u001b[49m\u001b[43mpt\u001b[49m\u001b[43m,\u001b[49m\u001b[43m \u001b[49m\u001b[38;5;241;43m1e-6\u001b[39;49m\u001b[43m)\u001b[49m\u001b[43m)\u001b[49m\n",
      "File \u001b[0;32m~/.conda/envs/pmp/lib/python3.10/site-packages/meep/simulation.py:3880\u001b[0m, in \u001b[0;36mSimulation.run\u001b[0;34m(self, *step_funcs, **kwargs)\u001b[0m\n\u001b[1;32m   3877\u001b[0m     \u001b[38;5;28;01mraise\u001b[39;00m \u001b[38;5;167;01mValueError\u001b[39;00m(\u001b[38;5;124m\"\u001b[39m\u001b[38;5;124mUnrecognized keyword arguments: \u001b[39m\u001b[38;5;132;01m{}\u001b[39;00m\u001b[38;5;124m\"\u001b[39m\u001b[38;5;241m.\u001b[39mformat(kwargs\u001b[38;5;241m.\u001b[39mkeys()))\n\u001b[1;32m   3879\u001b[0m \u001b[38;5;28;01mif\u001b[39;00m until_after_sources \u001b[38;5;129;01mis\u001b[39;00m \u001b[38;5;129;01mnot\u001b[39;00m \u001b[38;5;28;01mNone\u001b[39;00m:\n\u001b[0;32m-> 3880\u001b[0m     \u001b[38;5;28;43mself\u001b[39;49m\u001b[38;5;241;43m.\u001b[39;49m\u001b[43m_run_sources_until\u001b[49m\u001b[43m(\u001b[49m\u001b[43muntil_after_sources\u001b[49m\u001b[43m,\u001b[49m\u001b[43m \u001b[49m\u001b[43mstep_funcs\u001b[49m\u001b[43m)\u001b[49m\n\u001b[1;32m   3881\u001b[0m \u001b[38;5;28;01melif\u001b[39;00m until \u001b[38;5;129;01mis\u001b[39;00m \u001b[38;5;129;01mnot\u001b[39;00m \u001b[38;5;28;01mNone\u001b[39;00m:\n\u001b[1;32m   3882\u001b[0m     \u001b[38;5;28mself\u001b[39m\u001b[38;5;241m.\u001b[39m_run_until(until, step_funcs)\n",
      "File \u001b[0;32m~/.conda/envs/pmp/lib/python3.10/site-packages/meep/simulation.py:2376\u001b[0m, in \u001b[0;36mSimulation._run_sources_until\u001b[0;34m(self, cond, step_funcs)\u001b[0m\n\u001b[1;32m   2373\u001b[0m             \u001b[38;5;28;01mreturn\u001b[39;00m cond[i](sim) \u001b[38;5;129;01mand\u001b[39;00m sim\u001b[38;5;241m.\u001b[39mround_time() \u001b[38;5;241m>\u001b[39m\u001b[38;5;241m=\u001b[39m ts\n\u001b[1;32m   2374\u001b[0m         new_conds\u001b[38;5;241m.\u001b[39mappend(f)\n\u001b[0;32m-> 2376\u001b[0m \u001b[38;5;28;43mself\u001b[39;49m\u001b[38;5;241;43m.\u001b[39;49m\u001b[43m_run_until\u001b[49m\u001b[43m(\u001b[49m\u001b[43mnew_conds\u001b[49m\u001b[43m,\u001b[49m\u001b[43m \u001b[49m\u001b[43mstep_funcs\u001b[49m\u001b[43m)\u001b[49m\n",
      "File \u001b[0;32m~/.conda/envs/pmp/lib/python3.10/site-packages/meep/simulation.py:2340\u001b[0m, in \u001b[0;36mSimulation._run_until\u001b[0;34m(self, cond, step_funcs)\u001b[0m\n\u001b[1;32m   2338\u001b[0m     \u001b[38;5;28;01mfor\u001b[39;00m func \u001b[38;5;129;01min\u001b[39;00m step_funcs:\n\u001b[1;32m   2339\u001b[0m         _eval_step_func(\u001b[38;5;28mself\u001b[39m, func, \u001b[38;5;124m'\u001b[39m\u001b[38;5;124mstep\u001b[39m\u001b[38;5;124m'\u001b[39m)\n\u001b[0;32m-> 2340\u001b[0m     \u001b[38;5;28;43mself\u001b[39;49m\u001b[38;5;241;43m.\u001b[39;49m\u001b[43mfields\u001b[49m\u001b[38;5;241;43m.\u001b[39;49m\u001b[43mstep\u001b[49m\u001b[43m(\u001b[49m\u001b[43m)\u001b[49m\n\u001b[1;32m   2342\u001b[0m \u001b[38;5;66;03m# Translating the recursive scheme version of run-until into an iterative version\u001b[39;00m\n\u001b[1;32m   2343\u001b[0m \u001b[38;5;66;03m# (because python isn't tail-call-optimized) means we need one extra iteration to\u001b[39;00m\n\u001b[1;32m   2344\u001b[0m \u001b[38;5;66;03m# be the same as scheme.\u001b[39;00m\n\u001b[1;32m   2345\u001b[0m \u001b[38;5;28;01mfor\u001b[39;00m func \u001b[38;5;129;01min\u001b[39;00m step_funcs:\n",
      "File \u001b[0;32m~/.conda/envs/pmp/lib/python3.10/site-packages/meep/__init__.py:3066\u001b[0m, in \u001b[0;36mfields.step\u001b[0;34m(self)\u001b[0m\n\u001b[1;32m   3065\u001b[0m \u001b[38;5;28;01mdef\u001b[39;00m \u001b[38;5;21mstep\u001b[39m(\u001b[38;5;28mself\u001b[39m):\n\u001b[0;32m-> 3066\u001b[0m     \u001b[38;5;28;01mreturn\u001b[39;00m \u001b[43m_meep\u001b[49m\u001b[38;5;241;43m.\u001b[39;49m\u001b[43mfields_step\u001b[49m\u001b[43m(\u001b[49m\u001b[38;5;28;43mself\u001b[39;49m\u001b[43m)\u001b[49m\n",
      "\u001b[0;31mRuntimeError\u001b[0m: meep: simulation fields are NaN or Inf"
     ]
    }
   ],
   "source": [
    "pt = mp.Vector3(y=t/2+pad) # Point to check field\n",
    "sim.run(until_after_sources=mp.stop_when_fields_decayed(100, pol, pt, 1e-6))"
   ]
  },
  {
   "cell_type": "code",
   "execution_count": null,
   "metadata": {},
   "outputs": [],
   "source": [
    "p1_coeff = sim.get_eigenmode_coefficients(refl, [1]).alpha[0]\n",
    "p2_coeff = sim.get_eigenmode_coefficients(tran, [1]).alpha[0]\n",
    "\n",
    "c1 = np.array([coef[1] for coef in p1_coeff])\n",
    "c2 = np.array([coef[0] for coef in p2_coeff])\n",
    "c3 = np.array([coef[0] for coef in p1_coeff])"
   ]
  },
  {
   "cell_type": "code",
   "execution_count": null,
   "metadata": {},
   "outputs": [],
   "source": [
    "freqs = np.linspace(fcen-df, fcen+df, nfreqs)\n",
    "wl = 1/freqs\n",
    "R = np.abs(c1)**2 / np.abs(c3)**2\n",
    "T = np.abs(c2)**2 / np.abs(c3)**2\n",
    "\n",
    "res_freq = 0.5*(wl[np.argmax(T)]+wl[np.argmin(T)])\n",
    "\n",
    "plt.plot(wl, R, label='R')\n",
    "plt.plot(wl, T, label='T')\n",
    "plt.title('Ag grating period %.1f µm resonance at %.2f nm' % (a, res_freq))\n",
    "plt.xlabel('Wavelength (µm)')\n",
    "plt.legend()\n",
    "title = 'square_grating_%.2fum' % res_freq\n",
    "# plt.savefig('results/'+title+'.png')"
   ]
  },
  {
   "cell_type": "code",
   "execution_count": null,
   "metadata": {},
   "outputs": [],
   "source": [
    "0.5*(wl[np.argmax(T)]+wl[np.argmin(T)])"
   ]
  },
  {
   "cell_type": "code",
   "execution_count": null,
   "metadata": {},
   "outputs": [],
   "source": [
    "sim.plot2D(fields=pol, output_plane=mp.Volume(center=mp.Vector3(), size=mp.Vector3(a, 2*(t/2+pad+dpml))))"
   ]
  },
  {
   "cell_type": "code",
   "execution_count": null,
   "metadata": {},
   "outputs": [],
   "source": [
    "sim.plot2D(fields=pol, output_plane=mp.Volume(center=mp.Vector3(), size=mp.Vector3(a, 0, a)))"
   ]
  }
 ],
 "metadata": {
  "kernelspec": {
   "display_name": "Python [conda env:.conda-pmp]",
   "language": "python",
   "name": "conda-env-.conda-pmp-py"
  },
  "language_info": {
   "codemirror_mode": {
    "name": "ipython",
    "version": 3
   },
   "file_extension": ".py",
   "mimetype": "text/x-python",
   "name": "python",
   "nbconvert_exporter": "python",
   "pygments_lexer": "ipython3",
   "version": "3.10.6"
  },
  "latex_envs": {
   "LaTeX_envs_menu_present": true,
   "autoclose": false,
   "autocomplete": true,
   "bibliofile": "biblio.bib",
   "cite_by": "apalike",
   "current_citInitial": 1,
   "eqLabelWithNumbers": true,
   "eqNumInitial": 1,
   "hotkeys": {
    "equation": "Ctrl-E",
    "itemize": "Ctrl-I"
   },
   "labels_anchors": false,
   "latex_user_defs": false,
   "report_style_numbering": false,
   "user_envs_cfg": false
  },
  "toc": {
   "base_numbering": 1,
   "nav_menu": {},
   "number_sections": true,
   "sideBar": true,
   "skip_h1_title": false,
   "title_cell": "Table of Contents",
   "title_sidebar": "Contents",
   "toc_cell": false,
   "toc_position": {},
   "toc_section_display": true,
   "toc_window_display": false
  },
  "vscode": {
   "interpreter": {
    "hash": "6d9189529467c46d6b7d7277835c1c7553c439175bd27f5d598d58373f0b02c0"
   }
  }
 },
 "nbformat": 4,
 "nbformat_minor": 2
}
