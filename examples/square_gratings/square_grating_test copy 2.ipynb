{
 "cells": [
  {
   "cell_type": "code",
   "execution_count": 1,
   "metadata": {},
   "outputs": [
    {
     "name": "stdout",
     "output_type": "stream",
     "text": [
      "Using MPI version 4.0, 1 processes\n"
     ]
    }
   ],
   "source": [
    "import meep as mp\n",
    "import numpy as np\n",
    "import matplotlib.pyplot as plt"
   ]
  },
  {
   "cell_type": "code",
   "execution_count": 2,
   "metadata": {},
   "outputs": [],
   "source": [
    "n = 3          # index of square grating\n",
    "a = 1.2            # period \n",
    "d = 0.5*a            # side of square\n",
    "t = 0.3          # thickness of grating\n",
    "dpml = 1         # PML thickness\n",
    "pad = 2          # padding between grating and PML\n",
    "\n",
    "pol = mp.Ez"
   ]
  },
  {
   "cell_type": "code",
   "execution_count": 3,
   "metadata": {},
   "outputs": [],
   "source": [
    "from meep.materials import Ag\n",
    "\n",
    "block = mp.Block(mp.Vector3(d,t), center=mp.Vector3(0,0), material=mp.Medium(index=n))"
   ]
  },
  {
   "cell_type": "code",
   "execution_count": 4,
   "metadata": {},
   "outputs": [],
   "source": [
    "fcen = 1\n",
    "df = 0.3\n",
    "nfreqs = 50\n",
    "\n",
    "src = mp.Source(mp.GaussianSource(fcen, fwidth=df), component=pol, center=mp.Vector3(y=-t/2-pad+0.1), size=mp.Vector3(a))"
   ]
  },
  {
   "cell_type": "code",
   "execution_count": 5,
   "metadata": {},
   "outputs": [],
   "source": [
    "cell = mp.Vector3(a, 2*(t/2+pad+dpml), a)\n",
    "\n",
    "sim = mp.Simulation(cell_size=cell,\n",
    "                    # geometry=[gel, block],\n",
    "                    default_material=mp.Medium(index=1),\n",
    "                    geometry=[block],\n",
    "                    sources=[src],\n",
    "                    resolution=50,\n",
    "                    boundary_layers=[mp.PML(dpml,direction = mp.Y)],#[mp.PML(dpml, direction=mp.Y)],\n",
    "                    k_point=mp.Vector3()\n",
    "                    )\n",
    "\n",
    "refl = sim.add_mode_monitor(fcen, df, nfreqs, mp.FluxRegion(center=mp.Vector3(y=-t/2-pad+0.2), size=mp.Vector3(a,0,a)))\n",
    "tran = sim.add_mode_monitor(fcen, df, nfreqs, mp.FluxRegion(center=mp.Vector3(y=t/2+pad-0.1), size=mp.Vector3(a,0,a)))"
   ]
  },
  {
   "cell_type": "code",
   "execution_count": 6,
   "metadata": {},
   "outputs": [
    {
     "name": "stdout",
     "output_type": "stream",
     "text": [
      "     block, center = (0,0,0)\n",
      "          size (0.6,0.3,0)\n",
      "          axes (1,0,0), (0,1,0), (0,0,1)\n",
      "          dielectric constant epsilon diagonal = (9,9,9)\n"
     ]
    },
    {
     "name": "stderr",
     "output_type": "stream",
     "text": [
      "/home/gridsan/mcomella/.conda/envs/pmp/lib/python3.10/site-packages/numpy/core/getlimits.py:500: UserWarning: The value of the smallest subnormal for <class 'numpy.float64'> type is zero.\n",
      "  setattr(self, word, getattr(machar, word).flat[0])\n",
      "/home/gridsan/mcomella/.conda/envs/pmp/lib/python3.10/site-packages/numpy/core/getlimits.py:89: UserWarning: The value of the smallest subnormal for <class 'numpy.float64'> type is zero.\n",
      "  return self._float_to_str(self.smallest_subnormal)\n"
     ]
    },
    {
     "data": {
      "text/plain": [
       "<AxesSubplot:xlabel='X', ylabel='Y'>"
      ]
     },
     "execution_count": 6,
     "metadata": {},
     "output_type": "execute_result"
    },
    {
     "data": {
      "image/png": "[encoded data removed]",
      "text/plain": [
       "<Figure size 640x480 with 1 Axes>"
      ]
     },
     "metadata": {},
     "output_type": "display_data"
    }
   ],
   "source": [
    "sim.plot2D(output_plane=mp.Volume(center=mp.Vector3(), size=mp.Vector3(a, 2*(t/2+pad+dpml))))"
   ]
  },
  {
   "cell_type": "code",
   "execution_count": 7,
   "metadata": {
    "scrolled": false
   },
   "outputs": [
    {
     "name": "stdout",
     "output_type": "stream",
     "text": [
      "-----------\n",
      "Initializing structure...\n",
      "time for choose_chunkdivision = 9.39369e-05 s\n",
      "Working in 3D dimensions.\n",
      "Computational cell is 1.2 x 6.3 x 1.2 with resolution 50\n",
      "     block, center = (0,0,0)\n",
      "          size (0.6,0.3,0)\n",
      "          axes (1,0,0), (0,1,0), (0,0,1)\n",
      "          dielectric constant epsilon diagonal = (9,9,9)\n",
      "time for set_epsilon = 1.99152 s\n",
      "-----------\n",
      "creating output file \"./ez.h5\"...\n"
     ]
    },
    {
     "ename": "",
     "evalue": "",
     "output_type": "error",
     "traceback": [
      "\u001b[1;31mCanceled future for execute_request message before replies were done"
     ]
    },
    {
     "ename": "",
     "evalue": "",
     "output_type": "error",
     "traceback": [
      "\u001b[1;31mThe Kernel crashed while executing code in the the current cell or a previous cell. Please review the code in the cell(s) to identify a possible cause of the failure. Click <a href='https://aka.ms/vscodeJupyterKernelCrash'>here</a> for more info. View Jupyter <a href='command:jupyter.viewOutput'>log</a> for further details."
     ]
    }
   ],
   "source": [
    "pt = mp.Vector3(y=t/2+pad) # Point to check field\n",
    "sim.run(mp.to_appended(\"ez\", mp.at_every(100, mp.output_efield_z)),\n",
    "        until_after_sources=mp.stop_when_fields_decayed(100, pol, pt, 1e-6))"
   ]
  },
  {
   "cell_type": "code",
   "execution_count": null,
   "metadata": {},
   "outputs": [],
   "source": [
    "import h5py\n",
    "f = h5py.File('ez.h5', 'r')\n",
    "efield_z = np.array(f.get('ez')) # a float tensor of shape (600, 600, 350)\n",
    "f.close()"
   ]
  },
  {
   "cell_type": "code",
   "execution_count": null,
   "metadata": {},
   "outputs": [],
   "source": [
    "p1_coeff = sim.get_eigenmode_coefficients(refl, [1]).alpha[0]\n",
    "p2_coeff = sim.get_eigenmode_coefficients(tran, [1]).alpha[0]\n",
    "\n",
    "c1 = np.array([coef[1] for coef in p1_coeff])\n",
    "c2 = np.array([coef[0] for coef in p2_coeff])\n",
    "c3 = np.array([coef[0] for coef in p1_coeff])"
   ]
  },
  {
   "cell_type": "code",
   "execution_count": null,
   "metadata": {},
   "outputs": [],
   "source": [
    "freqs = np.linspace(fcen-df, fcen+df, nfreqs)\n",
    "wl = 1/freqs\n",
    "R = np.abs(c1)**2 / np.abs(c3)**2\n",
    "T = np.abs(c2)**2 / np.abs(c3)**2\n",
    "plt.plot(wl, R, label='R')\n",
    "plt.plot(wl, T, label='T')\n",
    "plt.title('Square grating of index {}, period {}, size {}, resolution {}, polarization {}'.format(n, a, d, sim.resolution, pol))\n",
    "plt.legend()\n",
    "title = 'square_grating_{}_{}_{}_{}_{}.png'.format(n, a, d, sim.resolution, pol)\n",
    "plt.savefig('results/'+title+'.png')"
   ]
  },
  {
   "cell_type": "code",
   "execution_count": null,
   "metadata": {},
   "outputs": [],
   "source": [
    "sim.plot2D(fields=pol, output_plane=mp.Volume(center=mp.Vector3(), size=mp.Vector3(a, 2*(t/2+pad+dpml))))"
   ]
  }
 ],
 "metadata": {
  "kernelspec": {
   "display_name": "Python 3.10.6 ('pmp')",
   "language": "python",
   "name": "python3"
  },
  "language_info": {
   "codemirror_mode": {
    "name": "ipython",
    "version": 3
   },
   "file_extension": ".py",
   "mimetype": "text/x-python",
   "name": "python",
   "nbconvert_exporter": "python",
   "pygments_lexer": "ipython3",
   "version": "3.10.6"
  },
  "latex_envs": {
   "LaTeX_envs_menu_present": true,
   "autoclose": false,
   "autocomplete": true,
   "bibliofile": "biblio.bib",
   "cite_by": "apalike",
   "current_citInitial": 1,
   "eqLabelWithNumbers": true,
   "eqNumInitial": 1,
   "hotkeys": {
    "equation": "Ctrl-E",
    "itemize": "Ctrl-I"
   },
   "labels_anchors": false,
   "latex_user_defs": false,
   "report_style_numbering": false,
   "user_envs_cfg": false
  },
  "toc": {
   "base_numbering": 1,
   "nav_menu": {},
   "number_sections": true,
   "sideBar": true,
   "skip_h1_title": false,
   "title_cell": "Table of Contents",
   "title_sidebar": "Contents",
   "toc_cell": false,
   "toc_position": {},
   "toc_section_display": true,
   "toc_window_display": false
  },
  "vscode": {
   "interpreter": {
    "hash": "6d9189529467c46d6b7d7277835c1c7553c439175bd27f5d598d58373f0b02c0"
   }
  }
 },
 "nbformat": 4,
 "nbformat_minor": 2
}
