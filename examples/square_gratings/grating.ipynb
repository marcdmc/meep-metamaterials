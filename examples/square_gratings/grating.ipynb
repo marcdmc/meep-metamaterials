{
 "cells": [
  {
   "cell_type": "markdown",
   "metadata": {},
   "source": [
    "Grating\n"
   ]
  },
  {
   "cell_type": "code",
   "execution_count": 1,
   "metadata": {},
   "outputs": [
    {
     "name": "stdout",
     "output_type": "stream",
     "text": [
      "Using MPI version 4.0, 1 processes\n"
     ]
    }
   ],
   "source": [
    "import meep as mp\n",
    "import numpy as np\n",
    "import matplotlib.pyplot as plt\n",
    "\n",
    "resolution = 100  # pixels/um\n",
    "\n",
    "pol = mp.Ex # Incident polarization\n",
    "\n",
    "# Dimensions in um\n",
    "l = 1.2\n",
    "w = .090\n",
    "a = 2*l # Lattice constant\n",
    "gap = .070\n",
    "\n",
    "t = 0.5 # Thickness in um\n",
    "\n",
    "# Dimensions of the cell\n",
    "sep = a - l # Sepparation between resonators\n",
    "width = l + sep\n",
    "height = l + sep\n",
    "\n",
    "st = 10*a # Substrate thickness\n",
    "depth = 2*st\n",
    "\n",
    "cell = mp.Vector3(a, a, depth) # 3D cell\n",
    "\n",
    "# PML layers\n",
    "dpml = 2 # Width of the PML\n",
    "pml = mp.PML(dpml, direction=mp.Z) # PML in the non-periodic direction\n",
    "\n",
    "# Wavelengths in um\n",
    "wmin = 1 # minimum wavelength\n",
    "wmax = 5 # maximum wavelength\n",
    "wcen = (wmax-wmin)/2 + wmin # central wavelength\n",
    "\n",
    "fmin = 1/wmax # minimum frequency\n",
    "fmax = 1/wmin # maximum frequency\n",
    "fcen = (fmax-fmin)/2 + fmin # central frequency\n",
    "nfreqs = 100 # number of frequencies calculated\n",
    "\n",
    "sources = [\n",
    "    mp.Source(mp.GaussianSource(fcen, fwidth=fmax-fmin),\n",
    "              component=pol,\n",
    "              center=mp.Vector3(0,0,-depth/2+dpml),\n",
    "              size=mp.Vector3(a, a, 0)),\n",
    "]\n",
    "\n",
    "symmetries = [mp.Mirror(mp.X)]"
   ]
  },
  {
   "cell_type": "code",
   "execution_count": 2,
   "metadata": {},
   "outputs": [],
   "source": [
    "refl_fr = mp.ModeRegion(center=mp.Vector3(0,0,-depth/2+dpml+0.2), size=mp.Vector3(width, height, 0))\n",
    "tran_fr = mp.ModeRegion(center=mp.Vector3(0,0,depth/2-dpml-0.1), size=mp.Vector3(width, height, 0))"
   ]
  },
  {
   "cell_type": "code",
   "execution_count": 3,
   "metadata": {},
   "outputs": [],
   "source": [
    "c_ = 299792458\n",
    "wp = 2.175e15/(c_*1e6) # Plasma frequency\n",
    "gamma = 6.5e12/(c_*1e6) # Collision frequency\n",
    "susc = mp.DrudeSusceptibility(frequency=wp, gamma=gamma*1.65, sigma=1)\n",
    "\n",
    "Gold = mp.Medium(epsilon=1, E_susceptibilities=[susc])"
   ]
  },
  {
   "cell_type": "code",
   "execution_count": 4,
   "metadata": {},
   "outputs": [
    {
     "name": "stdout",
     "output_type": "stream",
     "text": [
      "-----------\n",
      "Initializing structure...\n",
      "time for choose_chunkdivision = 0.000185013 s\n",
      "Working in 3D dimensions.\n",
      "Computational cell is 2.4 x 2.4 x 48 with resolution 25\n",
      "     block, center = (0,0,12)\n",
      "          size (1e+20,1e+20,1e+20)\n",
      "          axes (1,0,0), (0,1,0), (0,0,1)\n",
      "          dielectric constant epsilon diagonal = (1.97655,1.97655,1.97655)\n",
      "     block, center = (0,0,-0.25)\n",
      "          size (1.2,1.2,0.5)\n",
      "          axes (1,0,0), (0,1,0), (0,0,1)\n",
      "          dielectric constant epsilon diagonal = (1,1,1)\n",
      "subpixel-averaging is 82.8487% done, 0.828078 s remaining\n",
      "subpixel-averaging is 81.3571% done, 0.916741 s remaining\n",
      "subpixel-averaging is 83.6313% done, 0.782919 s remaining\n",
      "time for set_epsilon = 15.9208 s\n",
      "lorentzian susceptibility: frequency=16.365, gamma=1.95106\n",
      "lorentzian susceptibility: frequency=7.32593, gamma=0.738804\n",
      "lorentzian susceptibility: frequency=6.60165, gamma=0.052426\n",
      "lorentzian susceptibility: frequency=3.61417, gamma=0.364563\n",
      "lorentzian susceptibility: frequency=0.658148, gamma=3.13427\n",
      "drude susceptibility: frequency=1e-10, gamma=0.0387146\n",
      "-----------\n"
     ]
    }
   ],
   "source": [
    "from meep.materials import Au, SiO2, Ag\n",
    "\n",
    "n_SiO2 = 1.4059\n",
    "\n",
    "# substrate = SiO2\n",
    "metal = Ag\n",
    "substrate = mp.Medium(index=n_SiO2)\n",
    "\n",
    "# Define the geometry\n",
    "geometry = [\n",
    "    mp.Block(size=mp.Vector3(mp.inf, mp.inf, mp.inf), center=mp.Vector3(0,0,depth/4), material=substrate),\n",
    "    mp.Block(size=mp.Vector3(l, l, t), center=mp.Vector3(0, 0, -t/2), material=metal),\n",
    "]\n",
    "\n",
    "sim = mp.Simulation(\n",
    "    cell_size=cell,\n",
    "    boundary_layers=[pml],\n",
    "    geometry=geometry,\n",
    "    k_point=mp.Vector3(0,0,0), # Periodicity\n",
    "    sources=sources,\n",
    "    # symmetries=symmetries,\n",
    "    resolution=resolution)\n",
    "\n",
    "refl = sim.add_mode_monitor(fcen, fmax-fmin, nfreqs, refl_fr)\n",
    "tran = sim.add_mode_monitor(fcen, fmax-fmin, nfreqs, tran_fr)\n",
    "\n",
    "freqs = mp.get_flux_freqs(refl)"
   ]
  },
  {
   "cell_type": "code",
   "execution_count": 5,
   "metadata": {},
   "outputs": [
    {
     "name": "stdout",
     "output_type": "stream",
     "text": [
      "     block, center = (0,0,12)\n",
      "          size (1e+20,1e+20,1e+20)\n",
      "          axes (1,0,0), (0,1,0), (0,0,1)\n",
      "          dielectric constant epsilon diagonal = (1.97655,1.97655,1.97655)\n",
      "     block, center = (0,0,-0.25)\n",
      "          size (1.2,1.2,0.5)\n",
      "          axes (1,0,0), (0,1,0), (0,0,1)\n",
      "          dielectric constant epsilon diagonal = (1,1,1)\n"
     ]
    },
    {
     "name": "stderr",
     "output_type": "stream",
     "text": [
      "/home/gridsan/mcomella/.conda/envs/pmp/lib/python3.10/site-packages/numpy/core/getlimits.py:500: UserWarning: The value of the smallest subnormal for <class 'numpy.float64'> type is zero.\n",
      "  setattr(self, word, getattr(machar, word).flat[0])\n",
      "/home/gridsan/mcomella/.conda/envs/pmp/lib/python3.10/site-packages/numpy/core/getlimits.py:89: UserWarning: The value of the smallest subnormal for <class 'numpy.float64'> type is zero.\n",
      "  return self._float_to_str(self.smallest_subnormal)\n"
     ]
    },
    {
     "data": {
      "text/plain": [
       "<AxesSubplot:xlabel='X', ylabel='Y'>"
      ]
     },
     "execution_count": 5,
     "metadata": {},
     "output_type": "execute_result"
    },
    {
     "data": {
      "image/png": "[encoded data removed]",
      "text/plain": [
       "<Figure size 640x480 with 1 Axes>"
      ]
     },
     "metadata": {},
     "output_type": "display_data"
    }
   ],
   "source": [
    "sim.plot2D(output_plane=mp.Volume(size=mp.Vector3(width, height, 0), center=mp.Vector3(0,0,-t/2)))"
   ]
  },
  {
   "cell_type": "code",
   "execution_count": 6,
   "metadata": {},
   "outputs": [
    {
     "name": "stdout",
     "output_type": "stream",
     "text": [
      "     block, center = (0,0,12)\n",
      "          size (1e+20,1e+20,1e+20)\n",
      "          axes (1,0,0), (0,1,0), (0,0,1)\n",
      "          dielectric constant epsilon diagonal = (1.97655,1.97655,1.97655)\n",
      "     block, center = (0,0,-0.25)\n",
      "          size (1.2,1.2,0.5)\n",
      "          axes (1,0,0), (0,1,0), (0,0,1)\n",
      "          dielectric constant epsilon diagonal = (1,1,1)\n"
     ]
    },
    {
     "data": {
      "text/plain": [
       "<AxesSubplot:xlabel='X', ylabel='Z'>"
      ]
     },
     "execution_count": 6,
     "metadata": {},
     "output_type": "execute_result"
    },
    {
     "data": {
      "image/png": "[encoded data removed]",
      "text/plain": [
       "<Figure size 640x480 with 1 Axes>"
      ]
     },
     "metadata": {},
     "output_type": "display_data"
    }
   ],
   "source": [
    "sim.plot2D(output_plane=mp.Volume(size=mp.Vector3(a, 0, depth), center=mp.Vector3(0,0,0)))"
   ]
  },
  {
   "cell_type": "code",
   "execution_count": 7,
   "metadata": {},
   "outputs": [
    {
     "name": "stdout",
     "output_type": "stream",
     "text": [
      "on time step 1 (time=0.02), 6.77726 s/step\n",
      "on time step 11 (time=0.22), 0.406697 s/step\n",
      "on time step 21 (time=0.42), 0.40035 s/step\n",
      "on time step 31 (time=0.62), 0.403646 s/step\n",
      "on time step 42 (time=0.84), 0.396559 s/step\n",
      "on time step 53 (time=1.06), 0.391943 s/step\n",
      "on time step 64 (time=1.28), 0.393624 s/step\n",
      "on time step 75 (time=1.5), 0.396018 s/step\n",
      "on time step 86 (time=1.72), 0.392439 s/step\n",
      "on time step 97 (time=1.94), 0.398244 s/step\n",
      "on time step 107 (time=2.14), 0.405769 s/step\n",
      "on time step 117 (time=2.34), 0.402416 s/step\n",
      "on time step 127 (time=2.54), 0.400696 s/step\n",
      "on time step 138 (time=2.76), 0.396331 s/step\n",
      "on time step 148 (time=2.96), 0.402108 s/step\n",
      "on time step 158 (time=3.16), 0.403012 s/step\n",
      "on time step 169 (time=3.38), 0.398455 s/step\n",
      "on time step 180 (time=3.6), 0.39878 s/step\n",
      "on time step 190 (time=3.8), 0.403601 s/step\n",
      "on time step 201 (time=4.02), 0.392913 s/step\n",
      "on time step 212 (time=4.24), 0.394901 s/step\n",
      "on time step 223 (time=4.46), 0.398087 s/step\n",
      "on time step 234 (time=4.68), 0.394984 s/step\n",
      "on time step 245 (time=4.9), 0.389426 s/step\n",
      "on time step 255 (time=5.1), 0.404784 s/step\n",
      "on time step 265 (time=5.3), 0.405922 s/step\n",
      "on time step 275 (time=5.5), 0.406083 s/step\n",
      "on time step 286 (time=5.72), 0.390932 s/step\n",
      "on time step 296 (time=5.92), 0.415668 s/step\n",
      "on time step 307 (time=6.14), 0.39716 s/step\n",
      "on time step 318 (time=6.36), 0.394247 s/step\n",
      "on time step 329 (time=6.58), 0.395461 s/step\n",
      "on time step 340 (time=6.8), 0.393166 s/step\n",
      "on time step 350 (time=7), 0.401976 s/step\n",
      "on time step 360 (time=7.2), 0.444874 s/step\n",
      "on time step 370 (time=7.4), 0.404182 s/step\n",
      "on time step 381 (time=7.62), 0.392032 s/step\n",
      "on time step 392 (time=7.84), 0.393606 s/step\n",
      "on time step 403 (time=8.06), 0.385631 s/step\n",
      "on time step 414 (time=8.28), 0.389545 s/step\n",
      "on time step 425 (time=8.5), 0.38674 s/step\n",
      "on time step 435 (time=8.7), 0.411056 s/step\n",
      "on time step 445 (time=8.9), 0.404634 s/step\n",
      "on time step 455 (time=9.1), 0.400763 s/step\n",
      "on time step 466 (time=9.32), 0.386509 s/step\n",
      "on time step 477 (time=9.54), 0.384518 s/step\n",
      "on time step 488 (time=9.76), 0.395859 s/step\n",
      "on time step 499 (time=9.98), 0.393661 s/step\n",
      "on time step 510 (time=10.2), 0.391475 s/step\n",
      "on time step 521 (time=10.42), 0.390442 s/step\n",
      "on time step 532 (time=10.64), 0.395352 s/step\n",
      "on time step 543 (time=10.86), 0.395205 s/step\n",
      "on time step 554 (time=11.08), 0.393762 s/step\n",
      "on time step 565 (time=11.3), 0.394857 s/step\n",
      "on time step 576 (time=11.52), 0.393998 s/step\n",
      "on time step 587 (time=11.74), 0.394159 s/step\n",
      "on time step 598 (time=11.96), 0.389553 s/step\n",
      "on time step 609 (time=12.18), 0.39563 s/step\n",
      "on time step 619 (time=12.38), 0.440156 s/step\n",
      "on time step 629 (time=12.58), 0.407107 s/step\n",
      "on time step 640 (time=12.8), 0.397157 s/step\n",
      "on time step 650 (time=13), 0.411211 s/step\n",
      "on time step 659 (time=13.18), 0.450447 s/step\n",
      "on time step 670 (time=13.4), 0.392863 s/step\n",
      "on time step 680 (time=13.6), 0.435005 s/step\n",
      "on time step 690 (time=13.8), 0.438743 s/step\n",
      "on time step 700 (time=14), 0.42305 s/step\n",
      "on time step 710 (time=14.2), 0.421533 s/step\n",
      "on time step 721 (time=14.42), 0.393059 s/step\n",
      "on time step 732 (time=14.64), 0.39045 s/step\n",
      "on time step 742 (time=14.84), 0.416886 s/step\n",
      "on time step 752 (time=15.04), 0.414198 s/step\n",
      "on time step 763 (time=15.26), 0.388765 s/step\n",
      "on time step 774 (time=15.48), 0.386471 s/step\n",
      "on time step 785 (time=15.7), 0.394142 s/step\n",
      "on time step 795 (time=15.9), 0.403077 s/step\n",
      "on time step 805 (time=16.1), 0.400786 s/step\n",
      "on time step 816 (time=16.32), 0.398758 s/step\n",
      "on time step 826 (time=16.52), 0.400395 s/step\n",
      "on time step 837 (time=16.74), 0.38957 s/step\n",
      "on time step 848 (time=16.96), 0.401198 s/step\n",
      "on time step 858 (time=17.16), 0.405699 s/step\n",
      "on time step 868 (time=17.36), 0.405032 s/step\n",
      "on time step 878 (time=17.56), 0.401509 s/step\n",
      "on time step 888 (time=17.76), 0.431676 s/step\n",
      "on time step 898 (time=17.96), 0.413453 s/step\n",
      "on time step 909 (time=18.18), 0.399622 s/step\n",
      "on time step 919 (time=18.38), 0.400656 s/step\n",
      "on time step 929 (time=18.58), 0.406603 s/step\n",
      "on time step 939 (time=18.78), 0.406074 s/step\n",
      "on time step 950 (time=19), 0.397557 s/step\n",
      "on time step 961 (time=19.22), 0.396903 s/step\n",
      "on time step 972 (time=19.44), 0.389194 s/step\n",
      "on time step 982 (time=19.64), 0.402101 s/step\n",
      "on time step 993 (time=19.86), 0.393264 s/step\n",
      "on time step 1003 (time=20.06), 0.415756 s/step\n",
      "on time step 1013 (time=20.26), 0.401986 s/step\n",
      "on time step 1024 (time=20.48), 0.396119 s/step\n",
      "on time step 1033 (time=20.66), 0.455089 s/step\n",
      "on time step 1043 (time=20.86), 0.419811 s/step\n",
      "on time step 1053 (time=21.06), 0.417741 s/step\n",
      "on time step 1063 (time=21.26), 0.424185 s/step\n",
      "on time step 1074 (time=21.48), 0.397463 s/step\n",
      "on time step 1084 (time=21.68), 0.405814 s/step\n",
      "on time step 1094 (time=21.88), 0.433 s/step\n",
      "on time step 1105 (time=22.1), 0.399966 s/step\n",
      "on time step 1115 (time=22.3), 0.413645 s/step\n",
      "on time step 1125 (time=22.5), 0.401188 s/step\n",
      "on time step 1136 (time=22.72), 0.393385 s/step\n",
      "on time step 1147 (time=22.94), 0.390001 s/step\n",
      "on time step 1157 (time=23.14), 0.401411 s/step\n",
      "on time step 1168 (time=23.36), 0.393114 s/step\n",
      "on time step 1179 (time=23.58), 0.39275 s/step\n"
     ]
    },
    {
     "ename": "RuntimeError",
     "evalue": "meep: simulation fields are NaN or Inf",
     "output_type": "error",
     "traceback": [
      "\u001b[0;31m---------------------------------------------------------------------------\u001b[0m",
      "\u001b[0;31mRuntimeError\u001b[0m                              Traceback (most recent call last)",
      "\u001b[1;32m/home/gridsan/mcomella/metamaterials/examples/grating.ipynb Cell 8\u001b[0m in \u001b[0;36m<cell line: 4>\u001b[0;34m()\u001b[0m\n\u001b[1;32m      <a href='vscode-notebook-cell://ssh-remote%2B7b22686f73744e616d65223a224d4954205375706572636c6f7564227d/home/gridsan/mcomella/metamaterials/examples/grating.ipynb#X11sdnNjb2RlLXJlbW90ZQ%3D%3D?line=0'>1</a>\u001b[0m \u001b[39m# from playsound import playsound\u001b[39;00m\n\u001b[1;32m      <a href='vscode-notebook-cell://ssh-remote%2B7b22686f73744e616d65223a224d4954205375706572636c6f7564227d/home/gridsan/mcomella/metamaterials/examples/grating.ipynb#X11sdnNjb2RlLXJlbW90ZQ%3D%3D?line=2'>3</a>\u001b[0m pt \u001b[39m=\u001b[39m mp\u001b[39m.\u001b[39mVector3(\u001b[39m0\u001b[39m,\u001b[39m0\u001b[39m,depth\u001b[39m/\u001b[39m\u001b[39m2\u001b[39m\u001b[39m-\u001b[39mdpml\u001b[39m-\u001b[39m\u001b[39m0.1\u001b[39m)\n\u001b[0;32m----> <a href='vscode-notebook-cell://ssh-remote%2B7b22686f73744e616d65223a224d4954205375706572636c6f7564227d/home/gridsan/mcomella/metamaterials/examples/grating.ipynb#X11sdnNjb2RlLXJlbW90ZQ%3D%3D?line=3'>4</a>\u001b[0m sim\u001b[39m.\u001b[39;49mrun(until_after_sources\u001b[39m=\u001b[39;49mmp\u001b[39m.\u001b[39;49mstop_when_fields_decayed(\u001b[39m50\u001b[39;49m,pol,pt,\u001b[39m0.001\u001b[39;49m))\n\u001b[1;32m      <a href='vscode-notebook-cell://ssh-remote%2B7b22686f73744e616d65223a224d4954205375706572636c6f7564227d/home/gridsan/mcomella/metamaterials/examples/grating.ipynb#X11sdnNjb2RlLXJlbW90ZQ%3D%3D?line=5'>6</a>\u001b[0m \u001b[39m# playsound('alarm.mp3')\u001b[39;00m\n\u001b[1;32m      <a href='vscode-notebook-cell://ssh-remote%2B7b22686f73744e616d65223a224d4954205375706572636c6f7564227d/home/gridsan/mcomella/metamaterials/examples/grating.ipynb#X11sdnNjb2RlLXJlbW90ZQ%3D%3D?line=7'>8</a>\u001b[0m refl_flux \u001b[39m=\u001b[39m mp\u001b[39m.\u001b[39mget_fluxes(refl)\n",
      "File \u001b[0;32m~/.conda/envs/pmp/lib/python3.10/site-packages/meep/simulation.py:3880\u001b[0m, in \u001b[0;36mSimulation.run\u001b[0;34m(self, *step_funcs, **kwargs)\u001b[0m\n\u001b[1;32m   3877\u001b[0m     \u001b[39mraise\u001b[39;00m \u001b[39mValueError\u001b[39;00m(\u001b[39m\"\u001b[39m\u001b[39mUnrecognized keyword arguments: \u001b[39m\u001b[39m{}\u001b[39;00m\u001b[39m\"\u001b[39m\u001b[39m.\u001b[39mformat(kwargs\u001b[39m.\u001b[39mkeys()))\n\u001b[1;32m   3879\u001b[0m \u001b[39mif\u001b[39;00m until_after_sources \u001b[39mis\u001b[39;00m \u001b[39mnot\u001b[39;00m \u001b[39mNone\u001b[39;00m:\n\u001b[0;32m-> 3880\u001b[0m     \u001b[39mself\u001b[39;49m\u001b[39m.\u001b[39;49m_run_sources_until(until_after_sources, step_funcs)\n\u001b[1;32m   3881\u001b[0m \u001b[39melif\u001b[39;00m until \u001b[39mis\u001b[39;00m \u001b[39mnot\u001b[39;00m \u001b[39mNone\u001b[39;00m:\n\u001b[1;32m   3882\u001b[0m     \u001b[39mself\u001b[39m\u001b[39m.\u001b[39m_run_until(until, step_funcs)\n",
      "File \u001b[0;32m~/.conda/envs/pmp/lib/python3.10/site-packages/meep/simulation.py:2376\u001b[0m, in \u001b[0;36mSimulation._run_sources_until\u001b[0;34m(self, cond, step_funcs)\u001b[0m\n\u001b[1;32m   2373\u001b[0m             \u001b[39mreturn\u001b[39;00m cond[i](sim) \u001b[39mand\u001b[39;00m sim\u001b[39m.\u001b[39mround_time() \u001b[39m>\u001b[39m\u001b[39m=\u001b[39m ts\n\u001b[1;32m   2374\u001b[0m         new_conds\u001b[39m.\u001b[39mappend(f)\n\u001b[0;32m-> 2376\u001b[0m \u001b[39mself\u001b[39;49m\u001b[39m.\u001b[39;49m_run_until(new_conds, step_funcs)\n",
      "File \u001b[0;32m~/.conda/envs/pmp/lib/python3.10/site-packages/meep/simulation.py:2340\u001b[0m, in \u001b[0;36mSimulation._run_until\u001b[0;34m(self, cond, step_funcs)\u001b[0m\n\u001b[1;32m   2338\u001b[0m     \u001b[39mfor\u001b[39;00m func \u001b[39min\u001b[39;00m step_funcs:\n\u001b[1;32m   2339\u001b[0m         _eval_step_func(\u001b[39mself\u001b[39m, func, \u001b[39m'\u001b[39m\u001b[39mstep\u001b[39m\u001b[39m'\u001b[39m)\n\u001b[0;32m-> 2340\u001b[0m     \u001b[39mself\u001b[39;49m\u001b[39m.\u001b[39;49mfields\u001b[39m.\u001b[39;49mstep()\n\u001b[1;32m   2342\u001b[0m \u001b[39m# Translating the recursive scheme version of run-until into an iterative version\u001b[39;00m\n\u001b[1;32m   2343\u001b[0m \u001b[39m# (because python isn't tail-call-optimized) means we need one extra iteration to\u001b[39;00m\n\u001b[1;32m   2344\u001b[0m \u001b[39m# be the same as scheme.\u001b[39;00m\n\u001b[1;32m   2345\u001b[0m \u001b[39mfor\u001b[39;00m func \u001b[39min\u001b[39;00m step_funcs:\n",
      "File \u001b[0;32m~/.conda/envs/pmp/lib/python3.10/site-packages/meep/__init__.py:3066\u001b[0m, in \u001b[0;36mfields.step\u001b[0;34m(self)\u001b[0m\n\u001b[1;32m   3065\u001b[0m \u001b[39mdef\u001b[39;00m \u001b[39mstep\u001b[39m(\u001b[39mself\u001b[39m):\n\u001b[0;32m-> 3066\u001b[0m     \u001b[39mreturn\u001b[39;00m _meep\u001b[39m.\u001b[39;49mfields_step(\u001b[39mself\u001b[39;49m)\n",
      "\u001b[0;31mRuntimeError\u001b[0m: meep: simulation fields are NaN or Inf"
     ]
    }
   ],
   "source": [
    "# from playsound import playsound\n",
    "\n",
    "pt = mp.Vector3(0,0,depth/2-dpml-0.1)\n",
    "sim.run(until_after_sources=mp.stop_when_fields_decayed(50,pol,pt,0.001))\n",
    "\n",
    "# playsound('alarm.mp3')\n",
    "\n",
    "refl_flux = mp.get_fluxes(refl)\n",
    "tran_flux = mp.get_fluxes(tran)"
   ]
  },
  {
   "cell_type": "code",
   "execution_count": null,
   "metadata": {},
   "outputs": [
    {
     "name": "stdout",
     "output_type": "stream",
     "text": [
      "     block, center = (0,0,2.25)\n",
      "          size (1e+20,1e+20,4.5)\n",
      "          axes (1,0,0), (0,1,0), (0,0,1)\n",
      "          dielectric constant epsilon diagonal = (1.97655,1.97655,1.97655)\n",
      "     block, center = (0,0,-0.01)\n",
      "          size (0.32,0.32,0.02)\n",
      "          axes (1,0,0), (0,1,0), (0,0,1)\n",
      "          dielectric constant epsilon diagonal = (1,1,1)\n"
     ]
    },
    {
     "data": {
      "text/plain": [
       "<AxesSubplot:xlabel='Y', ylabel='Z'>"
      ]
     },
     "execution_count": 9,
     "metadata": {},
     "output_type": "execute_result"
    },
    {
     "data": {
      "image/png": "[encoded data removed]",
      "text/plain": [
       "<Figure size 640x480 with 1 Axes>"
      ]
     },
     "metadata": {},
     "output_type": "display_data"
    }
   ],
   "source": [
    "sim.plot2D(output_plane=mp.Volume(size=mp.Vector3(0, a, depth), center=mp.Vector3(0,0,0)), fields=pol)"
   ]
  },
  {
   "cell_type": "code",
   "execution_count": null,
   "metadata": {},
   "outputs": [],
   "source": []
  },
  {
   "cell_type": "code",
   "execution_count": null,
   "metadata": {},
   "outputs": [],
   "source": [
    "wl = []\n",
    "for i in range(nfreqs):\n",
    "    wl = np.append(wl, 1/freqs[i])"
   ]
  },
  {
   "cell_type": "markdown",
   "metadata": {},
   "source": [
    "---\n",
    "#### S parameters"
   ]
  },
  {
   "cell_type": "code",
   "execution_count": null,
   "metadata": {},
   "outputs": [
    {
     "name": "stdout",
     "output_type": "stream",
     "text": [
      "MPB solved for frequency_1(0,0,0.2) = 0.2 after 5 iters\n",
      "Dominant planewave for band 1: (0.000000,0.000000,0.200000)\n",
      "MPB solved for frequency_1(0,0,0.208081) = 0.208081 after 5 iters\n",
      "Dominant planewave for band 1: (0.000000,0.000000,0.208081)\n",
      "MPB solved for frequency_1(0,0,0.216162) = 0.216162 after 5 iters\n",
      "Dominant planewave for band 1: (0.000000,0.000000,0.216162)\n",
      "MPB solved for frequency_1(0,0,0.224242) = 0.224242 after 5 iters\n",
      "Dominant planewave for band 1: (0.000000,0.000000,0.224242)\n",
      "MPB solved for frequency_1(0,0,0.232323) = 0.232323 after 5 iters\n",
      "Dominant planewave for band 1: (0.000000,0.000000,0.232323)\n",
      "MPB solved for frequency_1(0,0,0.240404) = 0.240404 after 5 iters\n",
      "Dominant planewave for band 1: (0.000000,0.000000,0.240404)\n",
      "MPB solved for frequency_1(0,0,0.248485) = 0.248485 after 5 iters\n",
      "Dominant planewave for band 1: (0.000000,0.000000,0.248485)\n",
      "MPB solved for frequency_1(0,0,0.256566) = 0.256566 after 5 iters\n",
      "Dominant planewave for band 1: (0.000000,0.000000,0.256566)\n",
      "MPB solved for frequency_1(0,0,0.264646) = 0.264646 after 5 iters\n",
      "Dominant planewave for band 1: (0.000000,0.000000,0.264646)\n",
      "MPB solved for frequency_1(0,0,0.272727) = 0.272727 after 5 iters\n",
      "Dominant planewave for band 1: (0.000000,0.000000,0.272727)\n",
      "MPB solved for frequency_1(0,0,0.280808) = 0.280808 after 5 iters\n",
      "Dominant planewave for band 1: (0.000000,0.000000,0.280808)\n",
      "MPB solved for frequency_1(0,0,0.288889) = 0.288889 after 5 iters\n",
      "Dominant planewave for band 1: (0.000000,0.000000,0.288889)\n",
      "MPB solved for frequency_1(0,0,0.29697) = 0.29697 after 5 iters\n",
      "Dominant planewave for band 1: (0.000000,0.000000,0.296970)\n",
      "MPB solved for frequency_1(0,0,0.305051) = 0.305051 after 5 iters\n",
      "Dominant planewave for band 1: (0.000000,0.000000,0.305051)\n",
      "MPB solved for frequency_1(0,0,0.313131) = 0.313131 after 5 iters\n",
      "Dominant planewave for band 1: (0.000000,0.000000,0.313131)\n",
      "MPB solved for frequency_1(0,0,0.321212) = 0.321212 after 5 iters\n",
      "Dominant planewave for band 1: (0.000000,0.000000,0.321212)\n",
      "MPB solved for frequency_1(0,0,0.329293) = 0.329293 after 5 iters\n",
      "Dominant planewave for band 1: (0.000000,0.000000,0.329293)\n",
      "MPB solved for frequency_1(0,0,0.337374) = 0.337374 after 5 iters\n",
      "Dominant planewave for band 1: (0.000000,0.000000,0.337374)\n",
      "MPB solved for frequency_1(0,0,0.345455) = 0.345455 after 5 iters\n",
      "Dominant planewave for band 1: (0.000000,0.000000,0.345455)\n",
      "MPB solved for frequency_1(0,0,0.353535) = 0.353535 after 5 iters\n",
      "Dominant planewave for band 1: (0.000000,0.000000,0.353535)\n",
      "MPB solved for frequency_1(0,0,0.361616) = 0.361616 after 5 iters\n",
      "Dominant planewave for band 1: (0.000000,0.000000,0.361616)\n",
      "MPB solved for frequency_1(0,0,0.369697) = 0.369697 after 5 iters\n",
      "Dominant planewave for band 1: (0.000000,0.000000,0.369697)\n",
      "MPB solved for frequency_1(0,0,0.377778) = 0.377778 after 5 iters\n",
      "Dominant planewave for band 1: (0.000000,0.000000,0.377778)\n",
      "MPB solved for frequency_1(0,0,0.385859) = 0.385859 after 5 iters\n",
      "Dominant planewave for band 1: (0.000000,0.000000,0.385859)\n",
      "MPB solved for frequency_1(0,0,0.393939) = 0.393939 after 5 iters\n",
      "Dominant planewave for band 1: (0.000000,0.000000,0.393939)\n",
      "MPB solved for frequency_1(0,0,0.40202) = 0.40202 after 5 iters\n",
      "Dominant planewave for band 1: (0.000000,0.000000,0.402020)\n",
      "MPB solved for frequency_1(0,0,0.410101) = 0.410101 after 5 iters\n",
      "Dominant planewave for band 1: (0.000000,0.000000,0.410101)\n",
      "MPB solved for frequency_1(0,0,0.418182) = 0.418182 after 5 iters\n",
      "Dominant planewave for band 1: (0.000000,0.000000,0.418182)\n",
      "MPB solved for frequency_1(0,0,0.426263) = 0.426263 after 5 iters\n",
      "Dominant planewave for band 1: (0.000000,0.000000,0.426263)\n",
      "MPB solved for frequency_1(0,0,0.434343) = 0.434343 after 6 iters\n",
      "Dominant planewave for band 1: (0.000000,0.000000,0.434343)\n",
      "MPB solved for frequency_1(0,0,0.442424) = 0.442424 after 6 iters\n",
      "Dominant planewave for band 1: (0.000000,0.000000,0.442424)\n",
      "MPB solved for frequency_1(0,0,0.450505) = 0.450505 after 6 iters\n",
      "Dominant planewave for band 1: (0.000000,0.000000,0.450505)\n",
      "MPB solved for frequency_1(0,0,0.458586) = 0.458586 after 6 iters\n",
      "Dominant planewave for band 1: (0.000000,0.000000,0.458586)\n",
      "MPB solved for frequency_1(0,0,0.466667) = 0.466667 after 6 iters\n",
      "Dominant planewave for band 1: (0.000000,0.000000,0.466667)\n",
      "MPB solved for frequency_1(0,0,0.474747) = 0.474747 after 6 iters\n",
      "Dominant planewave for band 1: (0.000000,0.000000,0.474747)\n",
      "MPB solved for frequency_1(0,0,0.482828) = 0.482828 after 6 iters\n",
      "Dominant planewave for band 1: (0.000000,0.000000,0.482828)\n",
      "MPB solved for frequency_1(0,0,0.490909) = 0.490909 after 6 iters\n",
      "Dominant planewave for band 1: (0.000000,0.000000,0.490909)\n",
      "MPB solved for frequency_1(0,0,0.49899) = 0.49899 after 6 iters\n",
      "Dominant planewave for band 1: (0.000000,0.000000,0.498990)\n",
      "MPB solved for frequency_1(0,0,0.507071) = 0.507071 after 6 iters\n",
      "Dominant planewave for band 1: (0.000000,0.000000,0.507071)\n",
      "MPB solved for frequency_1(0,0,0.515152) = 0.515152 after 6 iters\n",
      "Dominant planewave for band 1: (0.000000,0.000000,0.515152)\n",
      "MPB solved for frequency_1(0,0,0.523232) = 0.523232 after 6 iters\n",
      "Dominant planewave for band 1: (0.000000,0.000000,0.523232)\n",
      "MPB solved for frequency_1(0,0,0.531313) = 0.531313 after 6 iters\n",
      "Dominant planewave for band 1: (0.000000,0.000000,0.531313)\n",
      "MPB solved for frequency_1(0,0,0.539394) = 0.539394 after 6 iters\n",
      "Dominant planewave for band 1: (0.000000,0.000000,0.539394)\n",
      "MPB solved for frequency_1(0,0,0.547475) = 0.547475 after 6 iters\n",
      "Dominant planewave for band 1: (0.000000,0.000000,0.547475)\n",
      "MPB solved for frequency_1(0,0,0.555556) = 0.555556 after 6 iters\n",
      "Dominant planewave for band 1: (0.000000,0.000000,0.555556)\n",
      "MPB solved for frequency_1(0,0,0.563636) = 0.563636 after 6 iters\n",
      "Dominant planewave for band 1: (0.000000,0.000000,0.563636)\n",
      "MPB solved for frequency_1(0,0,0.571717) = 0.571717 after 6 iters\n",
      "Dominant planewave for band 1: (0.000000,0.000000,0.571717)\n",
      "MPB solved for frequency_1(0,0,0.579798) = 0.579798 after 6 iters\n",
      "Dominant planewave for band 1: (0.000000,0.000000,0.579798)\n",
      "MPB solved for frequency_1(0,0,0.587879) = 0.587879 after 6 iters\n",
      "Dominant planewave for band 1: (0.000000,0.000000,0.587879)\n",
      "MPB solved for frequency_1(0,0,0.59596) = 0.59596 after 6 iters\n",
      "Dominant planewave for band 1: (0.000000,0.000000,0.595960)\n",
      "MPB solved for frequency_1(0,0,0.60404) = 0.60404 after 6 iters\n",
      "Dominant planewave for band 1: (0.000000,0.000000,0.604040)\n",
      "MPB solved for frequency_1(0,0,0.612121) = 0.612121 after 6 iters\n",
      "Dominant planewave for band 1: (0.000000,0.000000,0.612121)\n",
      "MPB solved for frequency_1(0,0,0.620202) = 0.620202 after 6 iters\n",
      "Dominant planewave for band 1: (0.000000,0.000000,0.620202)\n",
      "MPB solved for frequency_1(0,0,0.628283) = 0.628283 after 6 iters\n",
      "Dominant planewave for band 1: (0.000000,0.000000,0.628283)\n",
      "MPB solved for frequency_1(0,0,0.636364) = 0.636364 after 6 iters\n",
      "Dominant planewave for band 1: (0.000000,0.000000,0.636364)\n",
      "MPB solved for frequency_1(0,0,0.644444) = 0.644444 after 6 iters\n",
      "Dominant planewave for band 1: (0.000000,0.000000,0.644444)\n",
      "MPB solved for frequency_1(0,0,0.652525) = 0.652525 after 6 iters\n",
      "Dominant planewave for band 1: (0.000000,0.000000,0.652525)\n",
      "MPB solved for frequency_1(0,0,0.660606) = 0.660606 after 6 iters\n",
      "Dominant planewave for band 1: (0.000000,0.000000,0.660606)\n",
      "MPB solved for frequency_1(0,0,0.668687) = 0.668687 after 6 iters\n",
      "Dominant planewave for band 1: (0.000000,0.000000,0.668687)\n",
      "MPB solved for frequency_1(0,0,0.676768) = 0.676768 after 6 iters\n",
      "Dominant planewave for band 1: (0.000000,0.000000,0.676768)\n",
      "MPB solved for frequency_1(0,0,0.684848) = 0.684848 after 6 iters\n",
      "Dominant planewave for band 1: (0.000000,0.000000,0.684848)\n",
      "MPB solved for frequency_1(0,0,0.692929) = 0.692929 after 6 iters\n",
      "Dominant planewave for band 1: (0.000000,0.000000,0.692929)\n",
      "MPB solved for frequency_1(0,0,0.70101) = 0.70101 after 6 iters\n",
      "Dominant planewave for band 1: (0.000000,0.000000,0.701010)\n",
      "MPB solved for frequency_1(0,0,0.709091) = 0.709091 after 6 iters\n",
      "Dominant planewave for band 1: (0.000000,0.000000,0.709091)\n",
      "MPB solved for frequency_1(0,0,0.717172) = 0.717172 after 6 iters\n",
      "Dominant planewave for band 1: (0.000000,0.000000,0.717172)\n",
      "MPB solved for frequency_1(0,0,0.725253) = 0.725253 after 6 iters\n",
      "Dominant planewave for band 1: (0.000000,0.000000,0.725253)\n",
      "MPB solved for frequency_1(0,0,0.733333) = 0.733333 after 6 iters\n",
      "Dominant planewave for band 1: (0.000000,0.000000,0.733333)\n",
      "MPB solved for frequency_1(0,0,0.741414) = 0.741414 after 6 iters\n",
      "Dominant planewave for band 1: (0.000000,0.000000,0.741414)\n",
      "MPB solved for frequency_1(0,0,0.749495) = 0.749495 after 7 iters\n",
      "Dominant planewave for band 1: (0.000000,0.000000,0.749495)\n",
      "MPB solved for frequency_1(0,0,0.757576) = 0.757576 after 7 iters\n",
      "Dominant planewave for band 1: (0.000000,0.000000,0.757576)\n",
      "MPB solved for frequency_1(0,0,0.765657) = 0.765657 after 7 iters\n",
      "Dominant planewave for band 1: (0.000000,0.000000,0.765657)\n",
      "MPB solved for frequency_1(0,0,0.773737) = 0.773737 after 7 iters\n",
      "Dominant planewave for band 1: (0.000000,0.000000,0.773737)\n",
      "MPB solved for frequency_1(0,0,0.781818) = 0.781818 after 7 iters\n",
      "Dominant planewave for band 1: (0.000000,0.000000,0.781818)\n",
      "MPB solved for frequency_1(0,0,0.789899) = 0.789899 after 7 iters\n",
      "Dominant planewave for band 1: (0.000000,0.000000,0.789899)\n",
      "MPB solved for frequency_1(0,0,0.79798) = 0.79798 after 7 iters\n",
      "Dominant planewave for band 1: (0.000000,0.000000,0.797980)\n",
      "MPB solved for frequency_1(0,0,0.806061) = 0.806061 after 7 iters\n",
      "Dominant planewave for band 1: (0.000000,0.000000,0.806061)\n",
      "MPB solved for frequency_1(0,0,0.814141) = 0.814141 after 7 iters\n",
      "Dominant planewave for band 1: (0.000000,0.000000,0.814141)\n",
      "MPB solved for frequency_1(0,0,0.822222) = 0.822222 after 7 iters\n",
      "Dominant planewave for band 1: (0.000000,0.000000,0.822222)\n",
      "MPB solved for frequency_1(0,0,0.830303) = 0.830303 after 7 iters\n",
      "Dominant planewave for band 1: (0.000000,0.000000,0.830303)\n",
      "MPB solved for frequency_1(0,0,0.838384) = 0.838384 after 7 iters\n",
      "Dominant planewave for band 1: (0.000000,0.000000,0.838384)\n",
      "MPB solved for frequency_1(0,0,0.846465) = 0.846465 after 7 iters\n",
      "Dominant planewave for band 1: (0.000000,0.000000,0.846465)\n",
      "MPB solved for frequency_1(0,0,0.854545) = 0.854545 after 7 iters\n",
      "Dominant planewave for band 1: (0.000000,0.000000,0.854545)\n",
      "MPB solved for frequency_1(0,0,0.862626) = 0.862626 after 7 iters\n",
      "Dominant planewave for band 1: (0.000000,0.000000,0.862626)\n",
      "MPB solved for frequency_1(0,0,0.870707) = 0.870707 after 7 iters\n",
      "Dominant planewave for band 1: (0.000000,0.000000,0.870707)\n",
      "MPB solved for frequency_1(0,0,0.878788) = 0.878788 after 7 iters\n",
      "Dominant planewave for band 1: (0.000000,0.000000,0.878788)\n",
      "MPB solved for frequency_1(0,0,0.886869) = 0.886869 after 7 iters\n",
      "Dominant planewave for band 1: (0.000000,0.000000,0.886869)\n",
      "MPB solved for frequency_1(0,0,0.894949) = 0.894949 after 7 iters\n",
      "Dominant planewave for band 1: (0.000000,0.000000,0.894949)\n",
      "MPB solved for frequency_1(0,0,0.90303) = 0.90303 after 7 iters\n",
      "Dominant planewave for band 1: (0.000000,0.000000,0.903030)\n",
      "MPB solved for frequency_1(0,0,0.911111) = 0.911111 after 7 iters\n",
      "Dominant planewave for band 1: (0.000000,0.000000,0.911111)\n",
      "MPB solved for frequency_1(0,0,0.919192) = 0.919192 after 7 iters\n",
      "Dominant planewave for band 1: (0.000000,0.000000,0.919192)\n",
      "MPB solved for frequency_1(0,0,0.927273) = 0.927273 after 7 iters\n",
      "Dominant planewave for band 1: (0.000000,0.000000,0.927273)\n",
      "MPB solved for frequency_1(0,0,0.935354) = 0.935354 after 7 iters\n",
      "Dominant planewave for band 1: (0.000000,0.000000,0.935354)\n",
      "MPB solved for frequency_1(0,0,0.943434) = 0.943434 after 7 iters\n",
      "Dominant planewave for band 1: (0.000000,0.000000,0.943434)\n",
      "MPB solved for frequency_1(0,0,0.951515) = 0.951515 after 7 iters\n",
      "Dominant planewave for band 1: (0.000000,0.000000,0.951515)\n",
      "MPB solved for frequency_1(0,0,0.959596) = 0.959596 after 7 iters\n",
      "Dominant planewave for band 1: (0.000000,0.000000,0.959596)\n",
      "MPB solved for frequency_1(0,0,0.967677) = 0.967677 after 7 iters\n",
      "Dominant planewave for band 1: (0.000000,0.000000,0.967677)\n",
      "MPB solved for frequency_1(0,0,0.975758) = 0.975758 after 7 iters\n",
      "Dominant planewave for band 1: (0.000000,0.000000,0.975758)\n",
      "MPB solved for frequency_1(0,0,0.983838) = 0.983838 after 7 iters\n",
      "Dominant planewave for band 1: (0.000000,0.000000,0.983838)\n",
      "MPB solved for frequency_1(0,0,0.991919) = 0.991919 after 7 iters\n",
      "Dominant planewave for band 1: (0.000000,0.000000,0.991919)\n",
      "MPB solved for frequency_1(0,0,1) = 1 after 7 iters\n",
      "Dominant planewave for band 1: (0.000000,0.000000,1.000000)\n",
      "MPB solved for frequency_1(0,0,0.28118) = 0.2 after 5 iters\n",
      "Dominant planewave for band 1: (0.000000,0.000000,0.281180)\n",
      "MPB solved for frequency_1(0,0,0.292541) = 0.208081 after 5 iters\n",
      "Dominant planewave for band 1: (0.000000,0.000000,0.292541)\n",
      "MPB solved for frequency_1(0,0,0.303902) = 0.216162 after 5 iters\n",
      "Dominant planewave for band 1: (0.000000,0.000000,0.303902)\n",
      "MPB solved for frequency_1(0,0,0.315262) = 0.224242 after 5 iters\n",
      "Dominant planewave for band 1: (0.000000,0.000000,0.315262)\n",
      "MPB solved for frequency_1(0,0,0.326623) = 0.232323 after 5 iters\n",
      "Dominant planewave for band 1: (0.000000,0.000000,0.326623)\n",
      "MPB solved for frequency_1(0,0,0.337984) = 0.240404 after 5 iters\n",
      "Dominant planewave for band 1: (0.000000,0.000000,0.337984)\n",
      "MPB solved for frequency_1(0,0,0.349345) = 0.248485 after 5 iters\n",
      "Dominant planewave for band 1: (0.000000,0.000000,0.349345)\n",
      "MPB solved for frequency_1(0,0,0.360706) = 0.256566 after 5 iters\n",
      "Dominant planewave for band 1: (0.000000,0.000000,0.360706)\n",
      "MPB solved for frequency_1(0,0,0.372066) = 0.264646 after 5 iters\n",
      "Dominant planewave for band 1: (0.000000,0.000000,0.372066)\n",
      "MPB solved for frequency_1(0,0,0.383427) = 0.272727 after 5 iters\n",
      "Dominant planewave for band 1: (0.000000,0.000000,0.383427)\n",
      "MPB solved for frequency_1(0,0,0.394788) = 0.280808 after 5 iters\n",
      "Dominant planewave for band 1: (0.000000,0.000000,0.394788)\n",
      "MPB solved for frequency_1(0,0,0.406149) = 0.288889 after 5 iters\n",
      "Dominant planewave for band 1: (0.000000,0.000000,0.406149)\n",
      "MPB solved for frequency_1(0,0,0.41751) = 0.29697 after 5 iters\n",
      "Dominant planewave for band 1: (0.000000,0.000000,0.417510)\n",
      "MPB solved for frequency_1(0,0,0.428871) = 0.305051 after 5 iters\n",
      "Dominant planewave for band 1: (0.000000,0.000000,0.428871)\n",
      "MPB solved for frequency_1(0,0,0.440231) = 0.313131 after 6 iters\n",
      "Dominant planewave for band 1: (0.000000,0.000000,0.440231)\n",
      "MPB solved for frequency_1(0,0,0.451592) = 0.321212 after 6 iters\n",
      "Dominant planewave for band 1: (0.000000,0.000000,0.451592)\n",
      "MPB solved for frequency_1(0,0,0.462953) = 0.329293 after 6 iters\n",
      "Dominant planewave for band 1: (0.000000,0.000000,0.462953)\n",
      "MPB solved for frequency_1(0,0,0.474314) = 0.337374 after 6 iters\n",
      "Dominant planewave for band 1: (0.000000,0.000000,0.474314)\n",
      "MPB solved for frequency_1(0,0,0.485675) = 0.345455 after 6 iters\n",
      "Dominant planewave for band 1: (0.000000,0.000000,0.485675)\n",
      "MPB solved for frequency_1(0,0,0.497035) = 0.353535 after 6 iters\n",
      "Dominant planewave for band 1: (0.000000,0.000000,0.497035)\n",
      "MPB solved for frequency_1(0,0,0.508396) = 0.361616 after 6 iters\n",
      "Dominant planewave for band 1: (0.000000,0.000000,0.508396)\n",
      "MPB solved for frequency_1(0,0,0.519757) = 0.369697 after 6 iters\n",
      "Dominant planewave for band 1: (0.000000,0.000000,0.519757)\n",
      "MPB solved for frequency_1(0,0,0.531118) = 0.377778 after 6 iters\n",
      "Dominant planewave for band 1: (0.000000,0.000000,0.531118)\n",
      "MPB solved for frequency_1(0,0,0.542479) = 0.385859 after 6 iters\n",
      "Dominant planewave for band 1: (0.000000,0.000000,0.542479)\n",
      "MPB solved for frequency_1(0,0,0.553839) = 0.393939 after 6 iters\n",
      "Dominant planewave for band 1: (0.000000,0.000000,0.553839)\n",
      "MPB solved for frequency_1(0,0,0.5652) = 0.40202 after 6 iters\n",
      "Dominant planewave for band 1: (0.000000,0.000000,0.565200)\n",
      "MPB solved for frequency_1(0,0,0.576561) = 0.410101 after 6 iters\n",
      "Dominant planewave for band 1: (0.000000,0.000000,0.576561)\n",
      "MPB solved for frequency_1(0,0,0.587922) = 0.418182 after 6 iters\n",
      "Dominant planewave for band 1: (0.000000,0.000000,0.587922)\n",
      "MPB solved for frequency_1(0,0,0.599283) = 0.426263 after 6 iters\n",
      "Dominant planewave for band 1: (0.000000,0.000000,0.599283)\n",
      "MPB solved for frequency_1(0,0,0.610643) = 0.434343 after 6 iters\n",
      "Dominant planewave for band 1: (0.000000,0.000000,0.610643)\n",
      "MPB solved for frequency_1(0,0,0.622004) = 0.442424 after 6 iters\n",
      "Dominant planewave for band 1: (0.000000,0.000000,0.622004)\n",
      "MPB solved for frequency_1(0,0,0.633365) = 0.450505 after 6 iters\n",
      "Dominant planewave for band 1: (0.000000,0.000000,0.633365)\n",
      "MPB solved for frequency_1(0,0,0.644726) = 0.458586 after 6 iters\n",
      "Dominant planewave for band 1: (0.000000,0.000000,0.644726)\n",
      "MPB solved for frequency_1(0,0,0.656087) = 0.466667 after 6 iters\n",
      "Dominant planewave for band 1: (0.000000,0.000000,0.656087)\n",
      "MPB solved for frequency_1(0,0,0.667447) = 0.474747 after 6 iters\n",
      "Dominant planewave for band 1: (0.000000,0.000000,0.667447)\n",
      "MPB solved for frequency_1(0,0,0.678808) = 0.482828 after 6 iters\n",
      "Dominant planewave for band 1: (0.000000,0.000000,0.678808)\n",
      "MPB solved for frequency_1(0,0,0.690169) = 0.490909 after 6 iters\n",
      "Dominant planewave for band 1: (0.000000,0.000000,0.690169)\n",
      "MPB solved for frequency_1(0,0,0.70153) = 0.49899 after 6 iters\n",
      "Dominant planewave for band 1: (0.000000,0.000000,0.701530)\n",
      "MPB solved for frequency_1(0,0,0.712891) = 0.507071 after 6 iters\n",
      "Dominant planewave for band 1: (0.000000,0.000000,0.712891)\n",
      "MPB solved for frequency_1(0,0,0.724252) = 0.515152 after 6 iters\n",
      "Dominant planewave for band 1: (0.000000,0.000000,0.724252)\n",
      "MPB solved for frequency_1(0,0,0.735612) = 0.523232 after 6 iters\n",
      "Dominant planewave for band 1: (0.000000,0.000000,0.735612)\n",
      "MPB solved for frequency_1(0,0,0.746973) = 0.531313 after 7 iters\n",
      "Dominant planewave for band 1: (0.000000,0.000000,0.746973)\n",
      "MPB solved for frequency_1(0,0,0.758334) = 0.539394 after 7 iters\n",
      "Dominant planewave for band 1: (0.000000,0.000000,0.758334)\n",
      "MPB solved for frequency_1(0,0,0.769695) = 0.547475 after 7 iters\n",
      "Dominant planewave for band 1: (0.000000,0.000000,0.769695)\n",
      "MPB solved for frequency_1(0,0,0.781056) = 0.555556 after 7 iters\n",
      "Dominant planewave for band 1: (0.000000,0.000000,0.781056)\n",
      "MPB solved for frequency_1(0,0,0.792416) = 0.563636 after 7 iters\n",
      "Dominant planewave for band 1: (0.000000,0.000000,0.792416)\n",
      "MPB solved for frequency_1(0,0,0.803777) = 0.571717 after 7 iters\n",
      "Dominant planewave for band 1: (0.000000,0.000000,0.803777)\n",
      "MPB solved for frequency_1(0,0,0.815138) = 0.579798 after 7 iters\n",
      "Dominant planewave for band 1: (0.000000,0.000000,0.815138)\n",
      "MPB solved for frequency_1(0,0,0.826499) = 0.587879 after 7 iters\n",
      "Dominant planewave for band 1: (0.000000,0.000000,0.826499)\n",
      "MPB solved for frequency_1(0,0,0.83786) = 0.59596 after 7 iters\n",
      "Dominant planewave for band 1: (0.000000,0.000000,0.837860)\n",
      "MPB solved for frequency_1(0,0,0.84922) = 0.60404 after 7 iters\n",
      "Dominant planewave for band 1: (0.000000,0.000000,0.849220)\n",
      "MPB solved for frequency_1(0,0,0.860581) = 0.612121 after 7 iters\n",
      "Dominant planewave for band 1: (0.000000,0.000000,0.860581)\n",
      "MPB solved for frequency_1(0,0,0.871942) = 0.620202 after 7 iters\n",
      "Dominant planewave for band 1: (0.000000,0.000000,0.871942)\n",
      "MPB solved for frequency_1(0,0,0.883303) = 0.628283 after 7 iters\n",
      "Dominant planewave for band 1: (0.000000,0.000000,0.883303)\n",
      "MPB solved for frequency_1(0,0,0.894664) = 0.636364 after 7 iters\n",
      "Dominant planewave for band 1: (0.000000,0.000000,0.894664)\n",
      "MPB solved for frequency_1(0,0,0.906024) = 0.644444 after 7 iters\n",
      "Dominant planewave for band 1: (0.000000,0.000000,0.906024)\n",
      "MPB solved for frequency_1(0,0,0.917385) = 0.652525 after 7 iters\n",
      "Dominant planewave for band 1: (0.000000,0.000000,0.917385)\n",
      "MPB solved for frequency_1(0,0,0.928746) = 0.660606 after 7 iters\n",
      "Dominant planewave for band 1: (0.000000,0.000000,0.928746)\n",
      "MPB solved for frequency_1(0,0,0.940107) = 0.668687 after 7 iters\n",
      "Dominant planewave for band 1: (0.000000,0.000000,0.940107)\n",
      "MPB solved for frequency_1(0,0,0.951468) = 0.676768 after 7 iters\n",
      "Dominant planewave for band 1: (0.000000,0.000000,0.951468)\n",
      "MPB solved for frequency_1(0,0,0.962828) = 0.684848 after 7 iters\n",
      "Dominant planewave for band 1: (0.000000,0.000000,0.962828)\n",
      "MPB solved for frequency_1(0,0,0.974189) = 0.692929 after 7 iters\n",
      "Dominant planewave for band 1: (0.000000,0.000000,0.974189)\n",
      "MPB solved for frequency_1(0,0,0.98555) = 0.70101 after 7 iters\n",
      "Dominant planewave for band 1: (0.000000,0.000000,0.985550)\n",
      "MPB solved for frequency_1(0,0,0.996911) = 0.709091 after 7 iters\n",
      "Dominant planewave for band 1: (0.000000,0.000000,0.996911)\n",
      "MPB solved for frequency_1(0,0,1.00827) = 0.717172 after 7 iters\n",
      "Dominant planewave for band 1: (0.000000,0.000000,1.008272)\n",
      "MPB solved for frequency_1(0,0,1.01963) = 0.725253 after 7 iters\n",
      "Dominant planewave for band 1: (0.000000,0.000000,1.019633)\n",
      "MPB solved for frequency_1(0,0,1.03099) = 0.733333 after 7 iters\n",
      "Dominant planewave for band 1: (0.000000,0.000000,1.030993)\n",
      "MPB solved for frequency_1(0,0,1.04235) = 0.741414 after 8 iters\n",
      "Dominant planewave for band 1: (0.000000,0.000000,1.042354)\n",
      "MPB solved for frequency_1(0,0,1.05371) = 0.749495 after 8 iters\n",
      "Dominant planewave for band 1: (0.000000,0.000000,1.053715)\n",
      "MPB solved for frequency_1(0,0,1.06508) = 0.757576 after 8 iters\n",
      "Dominant planewave for band 1: (0.000000,0.000000,1.065076)\n",
      "MPB solved for frequency_1(0,0,1.07644) = 0.765657 after 8 iters\n",
      "Dominant planewave for band 1: (0.000000,0.000000,1.076437)\n",
      "MPB solved for frequency_1(0,0,1.0878) = 0.773737 after 8 iters\n",
      "Dominant planewave for band 1: (0.000000,0.000000,1.087797)\n",
      "MPB solved for frequency_1(0,0,1.09916) = 0.781818 after 8 iters\n",
      "Dominant planewave for band 1: (0.000000,0.000000,1.099158)\n",
      "MPB solved for frequency_1(0,0,1.11052) = 0.789899 after 8 iters\n",
      "Dominant planewave for band 1: (0.000000,0.000000,1.110519)\n",
      "MPB solved for frequency_1(0,0,1.12188) = 0.79798 after 8 iters\n",
      "Dominant planewave for band 1: (0.000000,0.000000,1.121880)\n",
      "MPB solved for frequency_1(0,0,1.13324) = 0.806061 after 8 iters\n",
      "Dominant planewave for band 1: (0.000000,0.000000,1.133241)\n",
      "MPB solved for frequency_1(0,0,1.1446) = 0.814141 after 8 iters\n",
      "Dominant planewave for band 1: (0.000000,0.000000,1.144601)\n",
      "MPB solved for frequency_1(0,0,1.15596) = 0.822222 after 8 iters\n",
      "Dominant planewave for band 1: (0.000000,0.000000,1.155962)\n",
      "MPB solved for frequency_1(0,0,1.16732) = 0.830303 after 8 iters\n",
      "Dominant planewave for band 1: (0.000000,0.000000,1.167323)\n",
      "MPB solved for frequency_1(0,0,1.17868) = 0.838384 after 8 iters\n",
      "Dominant planewave for band 1: (0.000000,0.000000,1.178684)\n",
      "MPB solved for frequency_1(0,0,1.19004) = 0.846465 after 8 iters\n",
      "Dominant planewave for band 1: (0.000000,0.000000,1.190045)\n",
      "MPB solved for frequency_1(0,0,1.20141) = 0.854545 after 8 iters\n",
      "Dominant planewave for band 1: (0.000000,0.000000,1.201405)\n",
      "MPB solved for frequency_1(0,0,1.21277) = 0.862626 after 8 iters\n",
      "Dominant planewave for band 1: (0.000000,0.000000,1.212766)\n",
      "MPB solved for frequency_1(0,0,1.22413) = 0.870707 after 8 iters\n",
      "Dominant planewave for band 1: (0.000000,0.000000,1.224127)\n",
      "MPB solved for frequency_1(0,0,1.23549) = 0.878788 after 8 iters\n",
      "Dominant planewave for band 1: (0.000000,0.000000,1.235488)\n",
      "MPB solved for frequency_1(0,0,1.24685) = 0.886869 after 8 iters\n",
      "Dominant planewave for band 1: (0.000000,0.000000,1.246849)\n",
      "MPB solved for frequency_1(0,0,1.25821) = 0.894949 after 8 iters\n",
      "Dominant planewave for band 1: (0.000000,0.000000,1.258209)\n",
      "MPB solved for frequency_1(0,0,1.26957) = 0.90303 after 8 iters\n",
      "Dominant planewave for band 1: (0.000000,0.000000,1.269570)\n",
      "MPB solved for frequency_1(0,0,1.28093) = 0.911111 after 8 iters\n",
      "Dominant planewave for band 1: (0.000000,0.000000,1.280931)\n",
      "MPB solved for frequency_1(0,0,1.29229) = 0.919192 after 8 iters\n",
      "Dominant planewave for band 1: (0.000000,0.000000,1.292292)\n",
      "MPB solved for frequency_1(0,0,1.30365) = 0.927273 after 8 iters\n",
      "Dominant planewave for band 1: (0.000000,0.000000,1.303653)\n",
      "MPB solved for frequency_1(0,0,1.31501) = 0.935354 after 8 iters\n",
      "Dominant planewave for band 1: (0.000000,0.000000,1.315014)\n",
      "MPB solved for frequency_1(0,0,1.32637) = 0.943434 after 8 iters\n",
      "Dominant planewave for band 1: (0.000000,0.000000,1.326374)\n",
      "MPB solved for frequency_1(0,0,1.33774) = 0.951515 after 8 iters\n",
      "Dominant planewave for band 1: (0.000000,0.000000,1.337735)\n",
      "MPB solved for frequency_1(0,0,1.3491) = 0.959596 after 8 iters\n",
      "Dominant planewave for band 1: (0.000000,0.000000,1.349096)\n",
      "MPB solved for frequency_1(0,0,1.36046) = 0.967677 after 8 iters\n",
      "Dominant planewave for band 1: (0.000000,0.000000,1.360457)\n",
      "MPB solved for frequency_1(0,0,1.37182) = 0.975758 after 8 iters\n",
      "Dominant planewave for band 1: (0.000000,0.000000,1.371818)\n",
      "MPB solved for frequency_1(0,0,1.38318) = 0.983838 after 8 iters\n",
      "Dominant planewave for band 1: (0.000000,0.000000,1.383178)\n",
      "MPB solved for frequency_1(0,0,1.39454) = 0.991919 after 8 iters\n",
      "Dominant planewave for band 1: (0.000000,0.000000,1.394539)\n",
      "MPB solved for frequency_1(0,0,1.4059) = 1 after 8 iters\n",
      "Dominant planewave for band 1: (0.000000,0.000000,1.405900)\n"
     ]
    }
   ],
   "source": [
    "S11 = sim.get_eigenmode_coefficients(refl, [1]).alpha[0]\n",
    "S21 = sim.get_eigenmode_coefficients(tran, [1]).alpha[0]"
   ]
  },
  {
   "cell_type": "code",
   "execution_count": null,
   "metadata": {},
   "outputs": [],
   "source": [
    "a = np.array([coef[1] for coef in S11])\n",
    "b = np.array([coef[0] for coef in S21])\n",
    "c = np.array([coef[0] for coef in S11])"
   ]
  },
  {
   "cell_type": "code",
   "execution_count": null,
   "metadata": {},
   "outputs": [
    {
     "data": {
      "text/plain": [
       "<matplotlib.legend.Legend at 0x7f3128df9090>"
      ]
     },
     "execution_count": 13,
     "metadata": {},
     "output_type": "execute_result"
    },
    {
     "data": {
      "image/png": "[encoded data removed]",
      "text/plain": [
       "<Figure size 640x480 with 1 Axes>"
      ]
     },
     "metadata": {},
     "output_type": "display_data"
    }
   ],
   "source": [
    "plt.plot(wl, np.abs(a/c)**2, label='$|S_{11}|^2$')\n",
    "plt.plot(wl, np.abs(b/c)**2, label='$|S_{21}|^2$')\n",
    "plt.legend()"
   ]
  },
  {
   "cell_type": "code",
   "execution_count": null,
   "metadata": {},
   "outputs": [
    {
     "data": {
      "text/plain": [
       "[<matplotlib.lines.Line2D at 0x7f3128db7850>]"
      ]
     },
     "execution_count": 14,
     "metadata": {},
     "output_type": "execute_result"
    },
    {
     "data": {
      "image/png": "[encoded data removed]",
      "text/plain": [
       "<Figure size 640x480 with 1 Axes>"
      ]
     },
     "metadata": {},
     "output_type": "display_data"
    }
   ],
   "source": [
    "import matplotlib.pyplot as plt\n",
    "plt.plot(freqs, np.abs(a/c)**2, 'b', label='$|S_{11}|^2$')\n",
    "plt.plot(freqs, np.abs(b/c)**2, 'r', label='$|S_{12}|^2$')"
   ]
  },
  {
   "cell_type": "markdown",
   "metadata": {},
   "source": [
    "Save S parameters to xlsx file"
   ]
  },
  {
   "cell_type": "code",
   "execution_count": null,
   "metadata": {},
   "outputs": [],
   "source": [
    "# Save S parameter data to xmls\n",
    "import pandas as pd\n",
    "\n",
    "f = np.array(freqs)\n",
    "df = pd.DataFrame(data={'f': f, 'R': a/c, 'T': b/c, 'a': a, 'b': b, 'c': c})\n",
    "df.to_excel('s_params_yy.xlsx')"
   ]
  },
  {
   "cell_type": "code",
   "execution_count": null,
   "metadata": {},
   "outputs": [
    {
     "data": {
      "text/plain": [
       "'0'"
      ]
     },
     "execution_count": 16,
     "metadata": {},
     "output_type": "execute_result"
    }
   ],
   "source": [
    "str(mp.Ex)"
   ]
  },
  {
   "cell_type": "markdown",
   "metadata": {},
   "source": [
    "---"
   ]
  },
  {
   "cell_type": "markdown",
   "metadata": {},
   "source": [
    "#### Retrieval"
   ]
  },
  {
   "cell_type": "code",
   "execution_count": null,
   "metadata": {},
   "outputs": [],
   "source": [
    "k = 2*np.pi/wl\n",
    "prepad = st-dpml-0.2-t # Distance between reflection monitor and metamaterial\n",
    "postpad = st-dpml-0.1 # Distance between metamaterial back and transmission monitor\n",
    "\n",
    "S11 = a/c * np.exp(-1j*k*(2*prepad+0.2))\n",
    "S21 = b/c * np.exp(-1j*k*(prepad+0.2)-1j*k*n_SiO2*postpad)\n",
    "\n",
    "S11 = a/c * np.exp(-1j*k*(2*prepad))\n",
    "S21 = b/c * np.exp(-1j*k*prepad-1j*k*n_SiO2*postpad)"
   ]
  },
  {
   "cell_type": "code",
   "execution_count": null,
   "metadata": {},
   "outputs": [
    {
     "ename": "OSError",
     "evalue": "Cannot save file into a non-existent directory: 'MATLAB'",
     "output_type": "error",
     "traceback": [
      "\u001b[0;31m---------------------------------------------------------------------------\u001b[0m",
      "\u001b[0;31mOSError\u001b[0m                                   Traceback (most recent call last)",
      "\u001b[1;32m/home/gridsan/mcomella/metamaterials/examples/grating.ipynb Cell 24\u001b[0m in \u001b[0;36m<cell line: 4>\u001b[0;34m()\u001b[0m\n\u001b[1;32m      <a href='vscode-notebook-cell://ssh-remote%2B7b22686f73744e616d65223a224d4954205375706572636c6f7564227d/home/gridsan/mcomella/metamaterials/examples/grating.ipynb#X32sdnNjb2RlLXJlbW90ZQ%3D%3D?line=1'>2</a>\u001b[0m \u001b[39mimport\u001b[39;00m \u001b[39mpandas\u001b[39;00m \u001b[39mas\u001b[39;00m \u001b[39mpd\u001b[39;00m\n\u001b[1;32m      <a href='vscode-notebook-cell://ssh-remote%2B7b22686f73744e616d65223a224d4954205375706572636c6f7564227d/home/gridsan/mcomella/metamaterials/examples/grating.ipynb#X32sdnNjb2RlLXJlbW90ZQ%3D%3D?line=2'>3</a>\u001b[0m df \u001b[39m=\u001b[39m pd\u001b[39m.\u001b[39mDataFrame(data\u001b[39m=\u001b[39m{\u001b[39m'\u001b[39m\u001b[39mf\u001b[39m\u001b[39m'\u001b[39m: f, \u001b[39m'\u001b[39m\u001b[39mR\u001b[39m\u001b[39m'\u001b[39m: S11, \u001b[39m'\u001b[39m\u001b[39mT\u001b[39m\u001b[39m'\u001b[39m: S21})\n\u001b[0;32m----> <a href='vscode-notebook-cell://ssh-remote%2B7b22686f73744e616d65223a224d4954205375706572636c6f7564227d/home/gridsan/mcomella/metamaterials/examples/grating.ipynb#X32sdnNjb2RlLXJlbW90ZQ%3D%3D?line=3'>4</a>\u001b[0m df\u001b[39m.\u001b[39;49mto_excel(\u001b[39m'\u001b[39;49m\u001b[39mMATLAB/new_s_params.xlsx\u001b[39;49m\u001b[39m'\u001b[39;49m, index\u001b[39m=\u001b[39;49m\u001b[39mFalse\u001b[39;49;00m)\n",
      "File \u001b[0;32m~/.local/lib/python3.10/site-packages/pandas/core/generic.py:2345\u001b[0m, in \u001b[0;36mNDFrame.to_excel\u001b[0;34m(self, excel_writer, sheet_name, na_rep, float_format, columns, header, index, index_label, startrow, startcol, engine, merge_cells, encoding, inf_rep, verbose, freeze_panes, storage_options)\u001b[0m\n\u001b[1;32m   2332\u001b[0m \u001b[39mfrom\u001b[39;00m \u001b[39mpandas\u001b[39;00m\u001b[39m.\u001b[39;00m\u001b[39mio\u001b[39;00m\u001b[39m.\u001b[39;00m\u001b[39mformats\u001b[39;00m\u001b[39m.\u001b[39;00m\u001b[39mexcel\u001b[39;00m \u001b[39mimport\u001b[39;00m ExcelFormatter\n\u001b[1;32m   2334\u001b[0m formatter \u001b[39m=\u001b[39m ExcelFormatter(\n\u001b[1;32m   2335\u001b[0m     df,\n\u001b[1;32m   2336\u001b[0m     na_rep\u001b[39m=\u001b[39mna_rep,\n\u001b[0;32m   (...)\u001b[0m\n\u001b[1;32m   2343\u001b[0m     inf_rep\u001b[39m=\u001b[39minf_rep,\n\u001b[1;32m   2344\u001b[0m )\n\u001b[0;32m-> 2345\u001b[0m formatter\u001b[39m.\u001b[39;49mwrite(\n\u001b[1;32m   2346\u001b[0m     excel_writer,\n\u001b[1;32m   2347\u001b[0m     sheet_name\u001b[39m=\u001b[39;49msheet_name,\n\u001b[1;32m   2348\u001b[0m     startrow\u001b[39m=\u001b[39;49mstartrow,\n\u001b[1;32m   2349\u001b[0m     startcol\u001b[39m=\u001b[39;49mstartcol,\n\u001b[1;32m   2350\u001b[0m     freeze_panes\u001b[39m=\u001b[39;49mfreeze_panes,\n\u001b[1;32m   2351\u001b[0m     engine\u001b[39m=\u001b[39;49mengine,\n\u001b[1;32m   2352\u001b[0m     storage_options\u001b[39m=\u001b[39;49mstorage_options,\n\u001b[1;32m   2353\u001b[0m )\n",
      "File \u001b[0;32m~/.local/lib/python3.10/site-packages/pandas/io/formats/excel.py:888\u001b[0m, in \u001b[0;36mExcelFormatter.write\u001b[0;34m(self, writer, sheet_name, startrow, startcol, freeze_panes, engine, storage_options)\u001b[0m\n\u001b[1;32m    884\u001b[0m     need_save \u001b[39m=\u001b[39m \u001b[39mFalse\u001b[39;00m\n\u001b[1;32m    885\u001b[0m \u001b[39melse\u001b[39;00m:\n\u001b[1;32m    886\u001b[0m     \u001b[39m# error: Cannot instantiate abstract class 'ExcelWriter' with abstract\u001b[39;00m\n\u001b[1;32m    887\u001b[0m     \u001b[39m# attributes 'engine', 'save', 'supported_extensions' and 'write_cells'\u001b[39;00m\n\u001b[0;32m--> 888\u001b[0m     writer \u001b[39m=\u001b[39m ExcelWriter(  \u001b[39m# type: ignore[abstract]\u001b[39;49;00m\n\u001b[1;32m    889\u001b[0m         writer, engine\u001b[39m=\u001b[39;49mengine, storage_options\u001b[39m=\u001b[39;49mstorage_options\n\u001b[1;32m    890\u001b[0m     )\n\u001b[1;32m    891\u001b[0m     need_save \u001b[39m=\u001b[39m \u001b[39mTrue\u001b[39;00m\n\u001b[1;32m    893\u001b[0m \u001b[39mtry\u001b[39;00m:\n",
      "File \u001b[0;32m~/.local/lib/python3.10/site-packages/pandas/io/excel/_openpyxl.py:53\u001b[0m, in \u001b[0;36mOpenpyxlWriter.__init__\u001b[0;34m(self, path, engine, date_format, datetime_format, mode, storage_options, if_sheet_exists, engine_kwargs, **kwargs)\u001b[0m\n\u001b[1;32m     49\u001b[0m \u001b[39mfrom\u001b[39;00m \u001b[39mopenpyxl\u001b[39;00m\u001b[39m.\u001b[39;00m\u001b[39mworkbook\u001b[39;00m \u001b[39mimport\u001b[39;00m Workbook\n\u001b[1;32m     51\u001b[0m engine_kwargs \u001b[39m=\u001b[39m combine_kwargs(engine_kwargs, kwargs)\n\u001b[0;32m---> 53\u001b[0m \u001b[39msuper\u001b[39;49m()\u001b[39m.\u001b[39;49m\u001b[39m__init__\u001b[39;49m(\n\u001b[1;32m     54\u001b[0m     path,\n\u001b[1;32m     55\u001b[0m     mode\u001b[39m=\u001b[39;49mmode,\n\u001b[1;32m     56\u001b[0m     storage_options\u001b[39m=\u001b[39;49mstorage_options,\n\u001b[1;32m     57\u001b[0m     if_sheet_exists\u001b[39m=\u001b[39;49mif_sheet_exists,\n\u001b[1;32m     58\u001b[0m     engine_kwargs\u001b[39m=\u001b[39;49mengine_kwargs,\n\u001b[1;32m     59\u001b[0m )\n\u001b[1;32m     61\u001b[0m \u001b[39m# ExcelWriter replaced \"a\" by \"r+\" to allow us to first read the excel file from\u001b[39;00m\n\u001b[1;32m     62\u001b[0m \u001b[39m# the file and later write to it\u001b[39;00m\n\u001b[1;32m     63\u001b[0m \u001b[39mif\u001b[39;00m \u001b[39m\"\u001b[39m\u001b[39mr+\u001b[39m\u001b[39m\"\u001b[39m \u001b[39min\u001b[39;00m \u001b[39mself\u001b[39m\u001b[39m.\u001b[39mmode:  \u001b[39m# Load from existing workbook\u001b[39;00m\n",
      "File \u001b[0;32m~/.local/lib/python3.10/site-packages/pandas/io/excel/_base.py:1106\u001b[0m, in \u001b[0;36mExcelWriter.__init__\u001b[0;34m(self, path, engine, date_format, datetime_format, mode, storage_options, if_sheet_exists, engine_kwargs, **kwargs)\u001b[0m\n\u001b[1;32m   1102\u001b[0m \u001b[39mself\u001b[39m\u001b[39m.\u001b[39mhandles \u001b[39m=\u001b[39m IOHandles(\n\u001b[1;32m   1103\u001b[0m     cast(IO[\u001b[39mbytes\u001b[39m], path), compression\u001b[39m=\u001b[39m{\u001b[39m\"\u001b[39m\u001b[39mcompression\u001b[39m\u001b[39m\"\u001b[39m: \u001b[39mNone\u001b[39;00m}\n\u001b[1;32m   1104\u001b[0m )\n\u001b[1;32m   1105\u001b[0m \u001b[39mif\u001b[39;00m \u001b[39mnot\u001b[39;00m \u001b[39misinstance\u001b[39m(path, ExcelWriter):\n\u001b[0;32m-> 1106\u001b[0m     \u001b[39mself\u001b[39m\u001b[39m.\u001b[39mhandles \u001b[39m=\u001b[39m get_handle(\n\u001b[1;32m   1107\u001b[0m         path, mode, storage_options\u001b[39m=\u001b[39;49mstorage_options, is_text\u001b[39m=\u001b[39;49m\u001b[39mFalse\u001b[39;49;00m\n\u001b[1;32m   1108\u001b[0m     )\n\u001b[1;32m   1109\u001b[0m \u001b[39mself\u001b[39m\u001b[39m.\u001b[39msheets: \u001b[39mdict\u001b[39m[\u001b[39mstr\u001b[39m, Any] \u001b[39m=\u001b[39m {}\n\u001b[1;32m   1110\u001b[0m \u001b[39mself\u001b[39m\u001b[39m.\u001b[39mcur_sheet \u001b[39m=\u001b[39m \u001b[39mNone\u001b[39;00m\n",
      "File \u001b[0;32m~/.local/lib/python3.10/site-packages/pandas/io/common.py:694\u001b[0m, in \u001b[0;36mget_handle\u001b[0;34m(path_or_buf, mode, encoding, compression, memory_map, is_text, errors, storage_options)\u001b[0m\n\u001b[1;32m    692\u001b[0m \u001b[39m# Only for write methods\u001b[39;00m\n\u001b[1;32m    693\u001b[0m \u001b[39mif\u001b[39;00m \u001b[39m\"\u001b[39m\u001b[39mr\u001b[39m\u001b[39m\"\u001b[39m \u001b[39mnot\u001b[39;00m \u001b[39min\u001b[39;00m mode \u001b[39mand\u001b[39;00m is_path:\n\u001b[0;32m--> 694\u001b[0m     check_parent_directory(\u001b[39mstr\u001b[39;49m(handle))\n\u001b[1;32m    696\u001b[0m \u001b[39mif\u001b[39;00m compression:\n\u001b[1;32m    697\u001b[0m     \u001b[39mif\u001b[39;00m compression \u001b[39m!=\u001b[39m \u001b[39m\"\u001b[39m\u001b[39mzstd\u001b[39m\u001b[39m\"\u001b[39m:\n\u001b[1;32m    698\u001b[0m         \u001b[39m# compression libraries do not like an explicit text-mode\u001b[39;00m\n",
      "File \u001b[0;32m~/.local/lib/python3.10/site-packages/pandas/io/common.py:568\u001b[0m, in \u001b[0;36mcheck_parent_directory\u001b[0;34m(path)\u001b[0m\n\u001b[1;32m    566\u001b[0m parent \u001b[39m=\u001b[39m Path(path)\u001b[39m.\u001b[39mparent\n\u001b[1;32m    567\u001b[0m \u001b[39mif\u001b[39;00m \u001b[39mnot\u001b[39;00m parent\u001b[39m.\u001b[39mis_dir():\n\u001b[0;32m--> 568\u001b[0m     \u001b[39mraise\u001b[39;00m \u001b[39mOSError\u001b[39;00m(\u001b[39mrf\u001b[39m\u001b[39m\"\u001b[39m\u001b[39mCannot save file into a non-existent directory: \u001b[39m\u001b[39m'\u001b[39m\u001b[39m{\u001b[39;00mparent\u001b[39m}\u001b[39;00m\u001b[39m'\u001b[39m\u001b[39m\"\u001b[39m)\n",
      "\u001b[0;31mOSError\u001b[0m: Cannot save file into a non-existent directory: 'MATLAB'"
     ]
    }
   ],
   "source": [
    "# Save S parameters\n",
    "import pandas as pd\n",
    "df = pd.DataFrame(data={'f': f, 'R': S11, 'T': S21})\n",
    "df.to_excel('MATLAB/new_s_params.xlsx', index=False)"
   ]
  },
  {
   "cell_type": "code",
   "execution_count": null,
   "metadata": {},
   "outputs": [],
   "source": [
    "def retrieve(S11, S21, branch=0):\n",
    "    z = np.sqrt(((1+S11)**2-S21**2)/((1-S11)**2-S21**2))\n",
    "    einkd = S21/(1 - S11*(z-1)/(z+1))\n",
    "    n = 1/(k*t) * (np.imag(np.log(einkd))+2*np.pi*branch - 1j*np.real(np.log(einkd)))\n",
    "\n",
    "    eps = n/z\n",
    "    mu = n*z\n",
    "\n",
    "    return [eps, mu, n, z]"
   ]
  },
  {
   "cell_type": "code",
   "execution_count": null,
   "metadata": {},
   "outputs": [],
   "source": [
    "[eps, mu, n, z] = retrieve(S11, S21, 0)\n",
    "\n",
    "plt.figure(dpi=100)\n",
    "plt.plot(freqs*c_/1e6, np.real(eps), label='$\\operatorname{Re}(\\epsilon)$')\n",
    "plt.plot(freqs*c_/1e6, 10*np.real(mu), label='$10\\operatorname{Re}(\\mu)$')\n",
    "plt.plot(freqs*c_/1e6, np.zeros(nfreqs), '--', color='black')\n",
    "plt.legend()"
   ]
  },
  {
   "cell_type": "code",
   "execution_count": null,
   "metadata": {},
   "outputs": [
    {
     "data": {
      "text/plain": [
       "[<matplotlib.lines.Line2D at 0x1408ea530>]"
      ]
     },
     "execution_count": 357,
     "metadata": {},
     "output_type": "execute_result"
    },
    {
     "data": {
      "image/png": "[encoded data removed]",
      "text/plain": [
       "<Figure size 432x288 with 1 Axes>"
      ]
     },
     "metadata": {
      "needs_background": "light"
     },
     "output_type": "display_data"
    }
   ],
   "source": [
    "plt.figure()\n",
    "plt.plot(freqs, np.real(n), 'blue')\n",
    "plt.plot(freqs, np.imag(n), 'blue', linestyle='dashed')\n",
    "plt.plot(freqs, np.zeros(nfreqs), '--', color='black')"
   ]
  },
  {
   "cell_type": "code",
   "execution_count": null,
   "metadata": {},
   "outputs": [
    {
     "data": {
      "text/plain": [
       "[<matplotlib.lines.Line2D at 0x140942080>]"
      ]
     },
     "execution_count": 358,
     "metadata": {},
     "output_type": "execute_result"
    },
    {
     "data": {
      "image/png": "[encoded data removed]",
      "text/plain": [
       "<Figure size 432x288 with 1 Axes>"
      ]
     },
     "metadata": {
      "needs_background": "light"
     },
     "output_type": "display_data"
    }
   ],
   "source": [
    "plt.figure()\n",
    "# plt.plot(freqs, np.real(n), 'blue')\n",
    "# plt.plot(freqs, np.imag(n), 'blue', linestyle='dashed')\n",
    "plt.plot(freqs, np.real(z), 'orange')\n",
    "plt.plot(freqs, np.imag(z), 'orange', linestyle='dashed')"
   ]
  },
  {
   "cell_type": "code",
   "execution_count": null,
   "metadata": {},
   "outputs": [
    {
     "data": {
      "text/plain": [
       "[<matplotlib.lines.Line2D at 0x1409b3df0>]"
      ]
     },
     "execution_count": 359,
     "metadata": {},
     "output_type": "execute_result"
    },
    {
     "data": {
      "image/png": "[encoded data removed]",
      "text/plain": [
       "<Figure size 432x288 with 1 Axes>"
      ]
     },
     "metadata": {
      "needs_background": "light"
     },
     "output_type": "display_data"
    }
   ],
   "source": [
    "plt.figure()\n",
    "plt.plot(freqs, np.real(n)*np.real(z))\n",
    "plt.plot(freqs, np.imag(n)*np.imag(z))\n",
    "plt.plot(freqs, np.zeros(nfreqs), '--', color='black')"
   ]
  },
  {
   "cell_type": "code",
   "execution_count": null,
   "metadata": {},
   "outputs": [
    {
     "data": {
      "text/plain": [
       "[<matplotlib.lines.Line2D at 0x140a17a00>]"
      ]
     },
     "execution_count": 360,
     "metadata": {},
     "output_type": "execute_result"
    },
    {
     "data": {
      "image/png": "[encoded data removed]",
      "text/plain": [
       "<Figure size 432x288 with 1 Axes>"
      ]
     },
     "metadata": {
      "needs_background": "light"
     },
     "output_type": "display_data"
    }
   ],
   "source": [
    "tmp = (np.real(n)*np.real(z)+np.imag(n)*np.imag(z))/(np.real(z)**2+np.imag(z)**2)\n",
    "plt.plot(freqs, tmp)"
   ]
  },
  {
   "cell_type": "code",
   "execution_count": null,
   "metadata": {},
   "outputs": [
    {
     "data": {
      "text/plain": [
       "[<matplotlib.lines.Line2D at 0x140a83160>]"
      ]
     },
     "execution_count": 361,
     "metadata": {},
     "output_type": "execute_result"
    },
    {
     "data": {
      "image/png": "[encoded data removed]",
      "text/plain": [
       "<Figure size 432x288 with 1 Axes>"
      ]
     },
     "metadata": {
      "needs_background": "light"
     },
     "output_type": "display_data"
    }
   ],
   "source": [
    "plt.plot(freqs, np.real(n)*np.real(z)-np.imag(n)*np.imag(z))"
   ]
  }
 ],
 "metadata": {
  "kernelspec": {
   "display_name": "Python 3.10.6 ('pmp')",
   "language": "python",
   "name": "python3"
  },
  "language_info": {
   "codemirror_mode": {
    "name": "ipython",
    "version": 3
   },
   "file_extension": ".py",
   "mimetype": "text/x-python",
   "name": "python",
   "nbconvert_exporter": "python",
   "pygments_lexer": "ipython3",
   "version": "3.10.6"
  },
  "vscode": {
   "interpreter": {
    "hash": "6d9189529467c46d6b7d7277835c1c7553c439175bd27f5d598d58373f0b02c0"
   }
  }
 },
 "nbformat": 4,
 "nbformat_minor": 2
}
