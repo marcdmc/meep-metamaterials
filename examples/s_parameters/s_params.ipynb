{
 "cells": [
  {
   "cell_type": "markdown",
   "metadata": {},
   "source": [
    "# Split ring resonators\n",
    "From _Magnetic Response of Metamaterials at 100 Terahertz_"
   ]
  },
  {
   "cell_type": "code",
   "execution_count": 1,
   "metadata": {},
   "outputs": [
    {
     "name": "stdout",
     "output_type": "stream",
     "text": [
      "Using MPI version 4.0, 1 processes\n"
     ]
    }
   ],
   "source": [
    "import meep as mp\n",
    "import numpy as np\n",
    "import matplotlib.pyplot as plt\n",
    "\n",
    "resolution = 60  # pixels/um\n",
    "\n",
    "pol = mp.Ex # Incident polarization\n",
    "\n",
    "# Dimensions in um\n",
    "l = .320\n",
    "w = .090\n",
    "a = .450 # Lattice constant\n",
    "gap = .070\n",
    "\n",
    "t = .020 # Thickness in um\n",
    "\n",
    "# Dimensions of the cell\n",
    "sep = a - l # Sepparation between resonators\n",
    "width = l + sep\n",
    "height = l + sep\n",
    "\n",
    "st = 10*a # Substrate thickness\n",
    "depth = 2*st\n",
    "\n",
    "cell = mp.Vector3(a, a, depth) # 3D cell\n",
    "\n",
    "# PML layers\n",
    "dpml = 2 # Width of the PML\n",
    "pml = mp.PML(dpml, direction=mp.Z) # PML in the non-periodic direction\n",
    "\n",
    "# Wavelengths in um\n",
    "wmin = 1 # minimum wavelength\n",
    "wmax = 5 # maximum wavelength\n",
    "wcen = (wmax-wmin)/2 + wmin # central wavelength\n",
    "\n",
    "fmin = 1/wmax # minimum frequency\n",
    "fmax = 1/wmin # maximum frequency\n",
    "fcen = (fmax-fmin)/2 + fmin # central frequency\n",
    "nfreqs = 100 # number of frequencies calculated\n",
    "\n",
    "sources = [\n",
    "    mp.Source(mp.GaussianSource(fcen, fwidth=fmax-fmin),\n",
    "              component=pol,\n",
    "              center=mp.Vector3(0,0,-depth/2+dpml),\n",
    "              size=mp.Vector3(a, a, 0)),\n",
    "]\n",
    "\n",
    "symmetries = [mp.Mirror(mp.X)]"
   ]
  },
  {
   "cell_type": "code",
   "execution_count": 3,
   "metadata": {},
   "outputs": [],
   "source": [
    "refl_fr = mp.ModeRegion(center=mp.Vector3(0,0,-depth/2+dpml+0.2), size=mp.Vector3(width, height, 0))\n",
    "tran_fr = mp.ModeRegion(center=mp.Vector3(0,0,depth/2-dpml-0.1), size=mp.Vector3(width, height, 0))"
   ]
  },
  {
   "cell_type": "code",
   "execution_count": 4,
   "metadata": {},
   "outputs": [],
   "source": [
    "c_ = 299792458\n",
    "wp = 2.175e15/(c_*1e6) # Plasma frequency\n",
    "gamma = 6.5e12/(c_*1e6) # Collision frequency\n",
    "susc = mp.DrudeSusceptibility(frequency=wp, gamma=gamma*1.65, sigma=1)\n",
    "\n",
    "Gold = mp.Medium(epsilon=1, E_susceptibilities=[susc])"
   ]
  },
  {
   "cell_type": "code",
   "execution_count": 5,
   "metadata": {},
   "outputs": [],
   "source": [
    "from meep.materials import Au, SiO2\n",
    "\n",
    "n_SiO2 = 1.4059\n",
    "\n",
    "# substrate = SiO2\n",
    "metal = Gold\n",
    "substrate = mp.Medium(index=n_SiO2)\n",
    "\n",
    "# Define the geometry\n",
    "geometry = [\n",
    "    mp.Block(size=mp.Vector3(mp.inf, mp.inf, depth/2), center=mp.Vector3(0,0,depth/4), material=substrate),\n",
    "    mp.Block(size=mp.Vector3(l, w, t), center=mp.Vector3(0, l/2-w/2, -t/2), material=metal),\n",
    "    mp.Block(size=mp.Vector3(l, w, t), center=mp.Vector3(0, -l/2+w/2, -t/2), material=metal),\n",
    "    mp.Block(size=mp.Vector3(w, l, t), center=mp.Vector3(l/2-w/2, 0, -t/2), material=metal),\n",
    "    mp.Block(size=mp.Vector3(w, l, t), center=mp.Vector3(-l/2+w/2, 0, -t/2), material=metal),\n",
    "    mp.Block(size=mp.Vector3(gap, w, t), center=mp.Vector3(0, l/2-w/2, -t/2), material=mp.Medium(epsilon=1)), # Gap\n",
    "]\n",
    "\n",
    "sim = mp.Simulation(\n",
    "    cell_size=cell,\n",
    "    boundary_layers=[pml],\n",
    "    geometry=geometry,\n",
    "    k_point=mp.Vector3(0,0,0), # Periodicity\n",
    "    sources=sources,\n",
    "    # symmetries=symmetries,\n",
    "    resolution=resolution)\n",
    "\n",
    "refl = sim.add_mode_monitor(fcen, fmax-fmin, nfreqs, refl_fr)\n",
    "tran = sim.add_mode_monitor(fcen, fmax-fmin, nfreqs, tran_fr)\n"
   ]
  },
  {
   "cell_type": "code",
   "execution_count": 6,
   "metadata": {},
   "outputs": [
    {
     "name": "stdout",
     "output_type": "stream",
     "text": [
      "-----------\n",
      "Initializing structure...\n",
      "time for choose_chunkdivision = 0.000169992 s\n",
      "Working in 3D dimensions.\n",
      "Computational cell is 0.45 x 0.45 x 9 with resolution 60\n",
      "     block, center = (0,0,2.25)\n",
      "          size (1e+20,1e+20,4.5)\n",
      "          axes (1,0,0), (0,1,0), (0,0,1)\n",
      "          dielectric constant epsilon diagonal = (1.97655,1.97655,1.97655)\n",
      "     block, center = (0,0.115,-0.01)\n",
      "          size (0.32,0.09,0.02)\n",
      "          axes (1,0,0), (0,1,0), (0,0,1)\n",
      "          dielectric constant epsilon diagonal = (1,1,1)\n",
      "     block, center = (0,-0.115,-0.01)\n",
      "          size (0.32,0.09,0.02)\n",
      "          axes (1,0,0), (0,1,0), (0,0,1)\n",
      "          dielectric constant epsilon diagonal = (1,1,1)\n",
      "     block, center = (0.115,0,-0.01)\n",
      "          size (0.09,0.32,0.02)\n",
      "          axes (1,0,0), (0,1,0), (0,0,1)\n",
      "          dielectric constant epsilon diagonal = (1,1,1)\n",
      "     block, center = (-0.115,0,-0.01)\n",
      "          size (0.09,0.32,0.02)\n",
      "          axes (1,0,0), (0,1,0), (0,0,1)\n",
      "          dielectric constant epsilon diagonal = (1,1,1)\n",
      "     block, center = (0,0.115,-0.01)\n",
      "          size (0.07,0.09,0.02)\n",
      "          axes (1,0,0), (0,1,0), (0,0,1)\n",
      "          dielectric constant epsilon diagonal = (1,1,1)\n"
     ]
    }
   ],
   "source": [
    "refl = sim.add_mode_monitor(fcen, fmax-fmin, nfreqs, refl_fr)\n",
    "tran = sim.add_mode_monitor(fcen, fmax-fmin, nfreqs, tran_fr)\n",
    "\n",
    "freqs = mp.get_flux_freqs(refl)"
   ]
  },
  {
   "cell_type": "code",
   "execution_count": null,
   "metadata": {},
   "outputs": [
    {
     "name": "stdout",
     "output_type": "stream",
     "text": [
      "     block, center = (0,0,2.25)\n",
      "          size (1e+20,1e+20,4.5)\n",
      "          axes (1,0,0), (0,1,0), (0,0,1)\n",
      "          dielectric constant epsilon diagonal = (1.97655,1.97655,1.97655)\n",
      "     block, center = (0,0.115,-0.01)\n",
      "          size (0.32,0.09,0.02)\n",
      "          axes (1,0,0), (0,1,0), (0,0,1)\n",
      "          dielectric constant epsilon diagonal = (1,1,1)\n",
      "     block, center = (0,-0.115,-0.01)\n",
      "          size (0.32,0.09,0.02)\n",
      "          axes (1,0,0), (0,1,0), (0,0,1)\n",
      "          dielectric constant epsilon diagonal = (1,1,1)\n",
      "     block, center = (0.115,0,-0.01)\n",
      "          size (0.09,0.32,0.02)\n",
      "          axes (1,0,0), (0,1,0), (0,0,1)\n",
      "          dielectric constant epsilon diagonal = (1,1,1)\n",
      "     block, center = (-0.115,0,-0.01)\n",
      "          size (0.09,0.32,0.02)\n",
      "          axes (1,0,0), (0,1,0), (0,0,1)\n",
      "          dielectric constant epsilon diagonal = (1,1,1)\n",
      "     block, center = (0,0.115,-0.01)\n",
      "          size (0.07,0.09,0.02)\n",
      "          axes (1,0,0), (0,1,0), (0,0,1)\n",
      "          dielectric constant epsilon diagonal = (1,1,1)\n"
     ]
    },
    {
     "name": "stderr",
     "output_type": "stream",
     "text": [
      "/home/gridsan/mcomella/.conda/envs/pmp/lib/python3.10/site-packages/numpy/core/getlimits.py:500: UserWarning: The value of the smallest subnormal for <class 'numpy.float64'> type is zero.\n",
      "  setattr(self, word, getattr(machar, word).flat[0])\n",
      "/home/gridsan/mcomella/.conda/envs/pmp/lib/python3.10/site-packages/numpy/core/getlimits.py:89: UserWarning: The value of the smallest subnormal for <class 'numpy.float64'> type is zero.\n",
      "  return self._float_to_str(self.smallest_subnormal)\n"
     ]
    },
    {
     "data": {
      "text/plain": [
       "<AxesSubplot:xlabel='X', ylabel='Y'>"
      ]
     },
     "execution_count": 7,
     "metadata": {},
     "output_type": "execute_result"
    },
    {
     "data": {
      "image/png": "[encoded data removed]",
      "text/plain": [
       "<Figure size 640x480 with 1 Axes>"
      ]
     },
     "metadata": {},
     "output_type": "display_data"
    }
   ],
   "source": [
    "sim.plot2D(output_plane=mp.Volume(size=mp.Vector3(width, height, 0), center=mp.Vector3(0,0,-t/2)))"
   ]
  },
  {
   "cell_type": "code",
   "execution_count": null,
   "metadata": {},
   "outputs": [
    {
     "name": "stdout",
     "output_type": "stream",
     "text": [
      "     block, center = (0,0,2.25)\n",
      "          size (1e+20,1e+20,4.5)\n",
      "          axes (1,0,0), (0,1,0), (0,0,1)\n",
      "          dielectric constant epsilon diagonal = (1.97655,1.97655,1.97655)\n",
      "     block, center = (0,0.115,-0.01)\n",
      "          size (0.32,0.09,0.02)\n",
      "          axes (1,0,0), (0,1,0), (0,0,1)\n",
      "          dielectric constant epsilon diagonal = (1,1,1)\n",
      "     block, center = (0,-0.115,-0.01)\n",
      "          size (0.32,0.09,0.02)\n",
      "          axes (1,0,0), (0,1,0), (0,0,1)\n",
      "          dielectric constant epsilon diagonal = (1,1,1)\n",
      "     block, center = (0.115,0,-0.01)\n",
      "          size (0.09,0.32,0.02)\n",
      "          axes (1,0,0), (0,1,0), (0,0,1)\n",
      "          dielectric constant epsilon diagonal = (1,1,1)\n",
      "     block, center = (-0.115,0,-0.01)\n",
      "          size (0.09,0.32,0.02)\n",
      "          axes (1,0,0), (0,1,0), (0,0,1)\n",
      "          dielectric constant epsilon diagonal = (1,1,1)\n",
      "     block, center = (0,0.115,-0.01)\n",
      "          size (0.07,0.09,0.02)\n",
      "          axes (1,0,0), (0,1,0), (0,0,1)\n",
      "          dielectric constant epsilon diagonal = (1,1,1)\n"
     ]
    },
    {
     "data": {
      "text/plain": [
       "<AxesSubplot:xlabel='X', ylabel='Z'>"
      ]
     },
     "execution_count": 8,
     "metadata": {},
     "output_type": "execute_result"
    },
    {
     "data": {
      "image/png": "[encoded data removed]",
      "text/plain": [
       "<Figure size 640x480 with 1 Axes>"
      ]
     },
     "metadata": {},
     "output_type": "display_data"
    }
   ],
   "source": [
    "sim.plot2D(output_plane=mp.Volume(size=mp.Vector3(a, 0, depth), center=mp.Vector3(0,0,0)))"
   ]
  },
  {
   "cell_type": "code",
   "execution_count": null,
   "metadata": {},
   "outputs": [
    {
     "name": "stdout",
     "output_type": "stream",
     "text": [
      "on time step 232 (time=1.93333), 0.0172698 s/step\n",
      "on time step 533 (time=4.44167), 0.0133076 s/step\n",
      "on time step 833 (time=6.94167), 0.0133363 s/step\n",
      "on time step 1135 (time=9.45833), 0.0132623 s/step\n",
      "on time step 1442 (time=12.0167), 0.0130367 s/step\n",
      "on time step 1750 (time=14.5833), 0.0130114 s/step\n",
      "on time step 2056 (time=17.1333), 0.013088 s/step\n",
      "on time step 2358 (time=19.65), 0.0132582 s/step\n",
      "on time step 2660 (time=22.1667), 0.0132609 s/step\n",
      "on time step 2961 (time=24.675), 0.0133159 s/step\n",
      "on time step 3265 (time=27.2083), 0.0131907 s/step\n",
      "on time step 3571 (time=29.7583), 0.013102 s/step\n",
      "on time step 3879 (time=32.325), 0.0129953 s/step\n",
      "on time step 4187 (time=34.8917), 0.0130093 s/step\n",
      "on time step 4494 (time=37.45), 0.0130605 s/step\n",
      "on time step 4798 (time=39.9833), 0.0131601 s/step\n",
      "on time step 5104 (time=42.5333), 0.0130964 s/step\n",
      "on time step 5409 (time=45.075), 0.013116 s/step\n",
      "on time step 5713 (time=47.6083), 0.0131654 s/step\n",
      "field decay(t = 50.00833333333333): 0.13014983416716025 / 0.13014983416716025 = 1.0\n",
      "on time step 6018 (time=50.15), 0.0131441 s/step\n",
      "on time step 6323 (time=52.6917), 0.0131356 s/step\n",
      "on time step 6626 (time=55.2167), 0.0132042 s/step\n",
      "on time step 6931 (time=57.7583), 0.0131148 s/step\n",
      "on time step 7237 (time=60.3083), 0.013088 s/step\n",
      "on time step 7542 (time=62.85), 0.0131376 s/step\n",
      "on time step 7847 (time=65.3917), 0.0131327 s/step\n",
      "on time step 8153 (time=67.9417), 0.0131049 s/step\n",
      "on time step 8458 (time=70.4833), 0.0131369 s/step\n",
      "on time step 8763 (time=73.025), 0.0131467 s/step\n",
      "on time step 9067 (time=75.5583), 0.013197 s/step\n",
      "on time step 9372 (time=78.1), 0.0131538 s/step\n",
      "on time step 9677 (time=80.6417), 0.0131531 s/step\n",
      "on time step 9982 (time=83.1833), 0.0131468 s/step\n",
      "on time step 10284 (time=85.7), 0.0132534 s/step\n",
      "on time step 10588 (time=88.2333), 0.0131945 s/step\n",
      "on time step 10889 (time=90.7417), 0.0132946 s/step\n",
      "on time step 11192 (time=93.2667), 0.013208 s/step\n",
      "on time step 11495 (time=95.7917), 0.0132251 s/step\n",
      "on time step 11799 (time=98.325), 0.0131779 s/step\n",
      "field decay(t = 100.01666666666667): 2.822212949679729e-13 / 0.13014983416716025 = 2.16843376538995e-12\n",
      "run 0 finished at t = 100.01666666666667 (12002 timesteps)\n"
     ]
    }
   ],
   "source": [
    "pt = mp.Vector3(0,0,depth/2-dpml-0.1)\n",
    "sim.run(until_after_sources=mp.stop_when_fields_decayed(50,pol,pt,0.001))\n",
    "\n",
    "refl_flux = mp.get_fluxes(refl)\n",
    "tran_flux = mp.get_fluxes(tran)"
   ]
  },
  {
   "cell_type": "code",
   "execution_count": null,
   "metadata": {},
   "outputs": [
    {
     "name": "stdout",
     "output_type": "stream",
     "text": [
      "     block, center = (0,0,2.25)\n",
      "          size (1e+20,1e+20,4.5)\n",
      "          axes (1,0,0), (0,1,0), (0,0,1)\n",
      "          dielectric constant epsilon diagonal = (1.97655,1.97655,1.97655)\n",
      "     block, center = (0,0.115,-0.01)\n",
      "          size (0.32,0.09,0.02)\n",
      "          axes (1,0,0), (0,1,0), (0,0,1)\n",
      "          dielectric constant epsilon diagonal = (1,1,1)\n",
      "     block, center = (0,-0.115,-0.01)\n",
      "          size (0.32,0.09,0.02)\n",
      "          axes (1,0,0), (0,1,0), (0,0,1)\n",
      "          dielectric constant epsilon diagonal = (1,1,1)\n",
      "     block, center = (0.115,0,-0.01)\n",
      "          size (0.09,0.32,0.02)\n",
      "          axes (1,0,0), (0,1,0), (0,0,1)\n",
      "          dielectric constant epsilon diagonal = (1,1,1)\n",
      "     block, center = (-0.115,0,-0.01)\n",
      "          size (0.09,0.32,0.02)\n",
      "          axes (1,0,0), (0,1,0), (0,0,1)\n",
      "          dielectric constant epsilon diagonal = (1,1,1)\n",
      "     block, center = (0,0.115,-0.01)\n",
      "          size (0.07,0.09,0.02)\n",
      "          axes (1,0,0), (0,1,0), (0,0,1)\n",
      "          dielectric constant epsilon diagonal = (1,1,1)\n"
     ]
    },
    {
     "data": {
      "text/plain": [
       "<AxesSubplot:xlabel='Y', ylabel='Z'>"
      ]
     },
     "execution_count": 10,
     "metadata": {},
     "output_type": "execute_result"
    },
    {
     "data": {
      "image/png": "[encoded data removed]",
      "text/plain": [
       "<Figure size 640x480 with 1 Axes>"
      ]
     },
     "metadata": {},
     "output_type": "display_data"
    }
   ],
   "source": [
    "sim.plot2D(output_plane=mp.Volume(size=mp.Vector3(0, a, depth), center=mp.Vector3(0,0,0)), fields=pol)"
   ]
  },
  {
   "cell_type": "code",
   "execution_count": null,
   "metadata": {},
   "outputs": [],
   "source": []
  },
  {
   "cell_type": "code",
   "execution_count": null,
   "metadata": {},
   "outputs": [],
   "source": [
    "wl = 1/np.array(freqs)"
   ]
  },
  {
   "cell_type": "markdown",
   "metadata": {},
   "source": [
    "---\n",
    "#### S parameters"
   ]
  },
  {
   "cell_type": "code",
   "execution_count": null,
   "metadata": {},
   "outputs": [
    {
     "name": "stdout",
     "output_type": "stream",
     "text": [
      "MPB solved for frequency_1(0,0,0.2) = 0.2 after 5 iters\n",
      "Dominant planewave for band 1: (0.000000,0.000000,0.200000)\n",
      "MPB solved for frequency_1(0,0,0.208081) = 0.208081 after 5 iters\n",
      "Dominant planewave for band 1: (0.000000,0.000000,0.208081)\n",
      "MPB solved for frequency_1(0,0,0.216162) = 0.216162 after 5 iters\n",
      "Dominant planewave for band 1: (0.000000,0.000000,0.216162)\n",
      "MPB solved for frequency_1(0,0,0.224242) = 0.224242 after 5 iters\n",
      "Dominant planewave for band 1: (0.000000,0.000000,0.224242)\n",
      "MPB solved for frequency_1(0,0,0.232323) = 0.232323 after 5 iters\n",
      "Dominant planewave for band 1: (0.000000,0.000000,0.232323)\n",
      "MPB solved for frequency_1(0,0,0.240404) = 0.240404 after 5 iters\n",
      "Dominant planewave for band 1: (0.000000,0.000000,0.240404)\n",
      "MPB solved for frequency_1(0,0,0.248485) = 0.248485 after 5 iters\n",
      "Dominant planewave for band 1: (0.000000,0.000000,0.248485)\n",
      "MPB solved for frequency_1(0,0,0.256566) = 0.256566 after 5 iters\n",
      "Dominant planewave for band 1: (0.000000,0.000000,0.256566)\n",
      "MPB solved for frequency_1(0,0,0.264646) = 0.264646 after 5 iters\n",
      "Dominant planewave for band 1: (0.000000,0.000000,0.264646)\n",
      "MPB solved for frequency_1(0,0,0.272727) = 0.272727 after 5 iters\n",
      "Dominant planewave for band 1: (0.000000,0.000000,0.272727)\n",
      "MPB solved for frequency_1(0,0,0.280808) = 0.280808 after 5 iters\n",
      "Dominant planewave for band 1: (0.000000,0.000000,0.280808)\n",
      "MPB solved for frequency_1(0,0,0.288889) = 0.288889 after 5 iters\n",
      "Dominant planewave for band 1: (0.000000,0.000000,0.288889)\n",
      "MPB solved for frequency_1(0,0,0.29697) = 0.29697 after 5 iters\n",
      "Dominant planewave for band 1: (0.000000,0.000000,0.296970)\n",
      "MPB solved for frequency_1(0,0,0.305051) = 0.305051 after 5 iters\n",
      "Dominant planewave for band 1: (0.000000,0.000000,0.305051)\n",
      "MPB solved for frequency_1(0,0,0.313131) = 0.313131 after 5 iters\n",
      "Dominant planewave for band 1: (0.000000,0.000000,0.313131)\n",
      "MPB solved for frequency_1(0,0,0.321212) = 0.321212 after 5 iters\n",
      "Dominant planewave for band 1: (0.000000,0.000000,0.321212)\n",
      "MPB solved for frequency_1(0,0,0.329293) = 0.329293 after 5 iters\n",
      "Dominant planewave for band 1: (0.000000,0.000000,0.329293)\n",
      "MPB solved for frequency_1(0,0,0.337374) = 0.337374 after 5 iters\n",
      "Dominant planewave for band 1: (0.000000,0.000000,0.337374)\n",
      "MPB solved for frequency_1(0,0,0.345455) = 0.345455 after 5 iters\n",
      "Dominant planewave for band 1: (0.000000,0.000000,0.345455)\n",
      "MPB solved for frequency_1(0,0,0.353535) = 0.353535 after 5 iters\n",
      "Dominant planewave for band 1: (0.000000,0.000000,0.353535)\n",
      "MPB solved for frequency_1(0,0,0.361616) = 0.361616 after 5 iters\n",
      "Dominant planewave for band 1: (0.000000,0.000000,0.361616)\n",
      "MPB solved for frequency_1(0,0,0.369697) = 0.369697 after 5 iters\n",
      "Dominant planewave for band 1: (0.000000,0.000000,0.369697)\n",
      "MPB solved for frequency_1(0,0,0.377778) = 0.377778 after 5 iters\n",
      "Dominant planewave for band 1: (0.000000,0.000000,0.377778)\n",
      "MPB solved for frequency_1(0,0,0.385859) = 0.385859 after 5 iters\n",
      "Dominant planewave for band 1: (0.000000,0.000000,0.385859)\n",
      "MPB solved for frequency_1(0,0,0.393939) = 0.393939 after 5 iters\n",
      "Dominant planewave for band 1: (0.000000,0.000000,0.393939)\n",
      "MPB solved for frequency_1(0,0,0.40202) = 0.40202 after 5 iters\n",
      "Dominant planewave for band 1: (0.000000,0.000000,0.402020)\n",
      "MPB solved for frequency_1(0,0,0.410101) = 0.410101 after 5 iters\n",
      "Dominant planewave for band 1: (0.000000,0.000000,0.410101)\n",
      "MPB solved for frequency_1(0,0,0.418182) = 0.418182 after 5 iters\n",
      "Dominant planewave for band 1: (0.000000,0.000000,0.418182)\n",
      "MPB solved for frequency_1(0,0,0.426263) = 0.426263 after 5 iters\n",
      "Dominant planewave for band 1: (0.000000,0.000000,0.426263)\n",
      "MPB solved for frequency_1(0,0,0.434343) = 0.434343 after 6 iters\n",
      "Dominant planewave for band 1: (0.000000,0.000000,0.434343)\n",
      "MPB solved for frequency_1(0,0,0.442424) = 0.442424 after 6 iters\n",
      "Dominant planewave for band 1: (0.000000,0.000000,0.442424)\n",
      "MPB solved for frequency_1(0,0,0.450505) = 0.450505 after 6 iters\n",
      "Dominant planewave for band 1: (0.000000,0.000000,0.450505)\n",
      "MPB solved for frequency_1(0,0,0.458586) = 0.458586 after 6 iters\n",
      "Dominant planewave for band 1: (0.000000,0.000000,0.458586)\n",
      "MPB solved for frequency_1(0,0,0.466667) = 0.466667 after 6 iters\n",
      "Dominant planewave for band 1: (0.000000,0.000000,0.466667)\n",
      "MPB solved for frequency_1(0,0,0.474747) = 0.474747 after 6 iters\n",
      "Dominant planewave for band 1: (0.000000,0.000000,0.474747)\n",
      "MPB solved for frequency_1(0,0,0.482828) = 0.482828 after 6 iters\n",
      "Dominant planewave for band 1: (0.000000,0.000000,0.482828)\n",
      "MPB solved for frequency_1(0,0,0.490909) = 0.490909 after 6 iters\n",
      "Dominant planewave for band 1: (0.000000,0.000000,0.490909)\n",
      "MPB solved for frequency_1(0,0,0.49899) = 0.49899 after 6 iters\n",
      "Dominant planewave for band 1: (0.000000,0.000000,0.498990)\n",
      "MPB solved for frequency_1(0,0,0.507071) = 0.507071 after 6 iters\n",
      "Dominant planewave for band 1: (0.000000,0.000000,0.507071)\n",
      "MPB solved for frequency_1(0,0,0.515152) = 0.515152 after 6 iters\n",
      "Dominant planewave for band 1: (0.000000,0.000000,0.515152)\n",
      "MPB solved for frequency_1(0,0,0.523232) = 0.523232 after 6 iters\n",
      "Dominant planewave for band 1: (0.000000,0.000000,0.523232)\n",
      "MPB solved for frequency_1(0,0,0.531313) = 0.531313 after 6 iters\n",
      "Dominant planewave for band 1: (0.000000,0.000000,0.531313)\n",
      "MPB solved for frequency_1(0,0,0.539394) = 0.539394 after 6 iters\n",
      "Dominant planewave for band 1: (0.000000,0.000000,0.539394)\n",
      "MPB solved for frequency_1(0,0,0.547475) = 0.547475 after 6 iters\n",
      "Dominant planewave for band 1: (0.000000,0.000000,0.547475)\n",
      "MPB solved for frequency_1(0,0,0.555556) = 0.555556 after 6 iters\n",
      "Dominant planewave for band 1: (0.000000,0.000000,0.555556)\n",
      "MPB solved for frequency_1(0,0,0.563636) = 0.563636 after 6 iters\n",
      "Dominant planewave for band 1: (0.000000,0.000000,0.563636)\n",
      "MPB solved for frequency_1(0,0,0.571717) = 0.571717 after 6 iters\n",
      "Dominant planewave for band 1: (0.000000,0.000000,0.571717)\n",
      "MPB solved for frequency_1(0,0,0.579798) = 0.579798 after 6 iters\n",
      "Dominant planewave for band 1: (0.000000,0.000000,0.579798)\n",
      "MPB solved for frequency_1(0,0,0.587879) = 0.587879 after 6 iters\n",
      "Dominant planewave for band 1: (0.000000,0.000000,0.587879)\n",
      "MPB solved for frequency_1(0,0,0.59596) = 0.59596 after 6 iters\n",
      "Dominant planewave for band 1: (0.000000,0.000000,0.595960)\n",
      "MPB solved for frequency_1(0,0,0.60404) = 0.60404 after 6 iters\n",
      "Dominant planewave for band 1: (0.000000,0.000000,0.604040)\n",
      "MPB solved for frequency_1(0,0,0.612121) = 0.612121 after 6 iters\n",
      "Dominant planewave for band 1: (0.000000,0.000000,0.612121)\n",
      "MPB solved for frequency_1(0,0,0.620202) = 0.620202 after 6 iters\n",
      "Dominant planewave for band 1: (0.000000,0.000000,0.620202)\n",
      "MPB solved for frequency_1(0,0,0.628283) = 0.628283 after 6 iters\n",
      "Dominant planewave for band 1: (0.000000,0.000000,0.628283)\n",
      "MPB solved for frequency_1(0,0,0.636364) = 0.636364 after 6 iters\n",
      "Dominant planewave for band 1: (0.000000,0.000000,0.636364)\n",
      "MPB solved for frequency_1(0,0,0.644444) = 0.644444 after 6 iters\n",
      "Dominant planewave for band 1: (0.000000,0.000000,0.644444)\n",
      "MPB solved for frequency_1(0,0,0.652525) = 0.652525 after 6 iters\n",
      "Dominant planewave for band 1: (0.000000,0.000000,0.652525)\n",
      "MPB solved for frequency_1(0,0,0.660606) = 0.660606 after 6 iters\n",
      "Dominant planewave for band 1: (0.000000,0.000000,0.660606)\n",
      "MPB solved for frequency_1(0,0,0.668687) = 0.668687 after 6 iters\n",
      "Dominant planewave for band 1: (0.000000,0.000000,0.668687)\n",
      "MPB solved for frequency_1(0,0,0.676768) = 0.676768 after 6 iters\n",
      "Dominant planewave for band 1: (0.000000,0.000000,0.676768)\n",
      "MPB solved for frequency_1(0,0,0.684848) = 0.684848 after 6 iters\n",
      "Dominant planewave for band 1: (0.000000,0.000000,0.684848)\n",
      "MPB solved for frequency_1(0,0,0.692929) = 0.692929 after 6 iters\n",
      "Dominant planewave for band 1: (0.000000,0.000000,0.692929)\n",
      "MPB solved for frequency_1(0,0,0.70101) = 0.70101 after 6 iters\n",
      "Dominant planewave for band 1: (0.000000,0.000000,0.701010)\n",
      "MPB solved for frequency_1(0,0,0.709091) = 0.709091 after 6 iters\n",
      "Dominant planewave for band 1: (0.000000,0.000000,0.709091)\n",
      "MPB solved for frequency_1(0,0,0.717172) = 0.717172 after 6 iters\n",
      "Dominant planewave for band 1: (0.000000,0.000000,0.717172)\n",
      "MPB solved for frequency_1(0,0,0.725253) = 0.725253 after 6 iters\n",
      "Dominant planewave for band 1: (0.000000,0.000000,0.725253)\n",
      "MPB solved for frequency_1(0,0,0.733333) = 0.733333 after 6 iters\n",
      "Dominant planewave for band 1: (0.000000,0.000000,0.733333)\n",
      "MPB solved for frequency_1(0,0,0.741414) = 0.741414 after 6 iters\n",
      "Dominant planewave for band 1: (0.000000,0.000000,0.741414)\n",
      "MPB solved for frequency_1(0,0,0.749495) = 0.749495 after 7 iters\n",
      "Dominant planewave for band 1: (0.000000,0.000000,0.749495)\n",
      "MPB solved for frequency_1(0,0,0.757576) = 0.757576 after 7 iters\n",
      "Dominant planewave for band 1: (0.000000,0.000000,0.757576)\n",
      "MPB solved for frequency_1(0,0,0.765657) = 0.765657 after 7 iters\n",
      "Dominant planewave for band 1: (0.000000,0.000000,0.765657)\n",
      "MPB solved for frequency_1(0,0,0.773737) = 0.773737 after 7 iters\n",
      "Dominant planewave for band 1: (0.000000,0.000000,0.773737)\n",
      "MPB solved for frequency_1(0,0,0.781818) = 0.781818 after 7 iters\n",
      "Dominant planewave for band 1: (0.000000,0.000000,0.781818)\n",
      "MPB solved for frequency_1(0,0,0.789899) = 0.789899 after 7 iters\n",
      "Dominant planewave for band 1: (0.000000,0.000000,0.789899)\n",
      "MPB solved for frequency_1(0,0,0.79798) = 0.79798 after 7 iters\n",
      "Dominant planewave for band 1: (0.000000,0.000000,0.797980)\n",
      "MPB solved for frequency_1(0,0,0.806061) = 0.806061 after 7 iters\n",
      "Dominant planewave for band 1: (0.000000,0.000000,0.806061)\n",
      "MPB solved for frequency_1(0,0,0.814141) = 0.814141 after 7 iters\n",
      "Dominant planewave for band 1: (0.000000,0.000000,0.814141)\n",
      "MPB solved for frequency_1(0,0,0.822222) = 0.822222 after 7 iters\n",
      "Dominant planewave for band 1: (0.000000,0.000000,0.822222)\n",
      "MPB solved for frequency_1(0,0,0.830303) = 0.830303 after 7 iters\n",
      "Dominant planewave for band 1: (0.000000,0.000000,0.830303)\n",
      "MPB solved for frequency_1(0,0,0.838384) = 0.838384 after 7 iters\n",
      "Dominant planewave for band 1: (0.000000,0.000000,0.838384)\n",
      "MPB solved for frequency_1(0,0,0.846465) = 0.846465 after 7 iters\n",
      "Dominant planewave for band 1: (0.000000,0.000000,0.846465)\n",
      "MPB solved for frequency_1(0,0,0.854545) = 0.854545 after 7 iters\n",
      "Dominant planewave for band 1: (0.000000,0.000000,0.854545)\n",
      "MPB solved for frequency_1(0,0,0.862626) = 0.862626 after 7 iters\n",
      "Dominant planewave for band 1: (0.000000,0.000000,0.862626)\n",
      "MPB solved for frequency_1(0,0,0.870707) = 0.870707 after 7 iters\n",
      "Dominant planewave for band 1: (0.000000,0.000000,0.870707)\n",
      "MPB solved for frequency_1(0,0,0.878788) = 0.878788 after 7 iters\n",
      "Dominant planewave for band 1: (0.000000,0.000000,0.878788)\n",
      "MPB solved for frequency_1(0,0,0.886869) = 0.886869 after 7 iters\n",
      "Dominant planewave for band 1: (0.000000,0.000000,0.886869)\n",
      "MPB solved for frequency_1(0,0,0.894949) = 0.894949 after 7 iters\n",
      "Dominant planewave for band 1: (0.000000,0.000000,0.894949)\n",
      "MPB solved for frequency_1(0,0,0.90303) = 0.90303 after 7 iters\n",
      "Dominant planewave for band 1: (0.000000,0.000000,0.903030)\n",
      "MPB solved for frequency_1(0,0,0.911111) = 0.911111 after 7 iters\n",
      "Dominant planewave for band 1: (0.000000,0.000000,0.911111)\n",
      "MPB solved for frequency_1(0,0,0.919192) = 0.919192 after 7 iters\n",
      "Dominant planewave for band 1: (0.000000,0.000000,0.919192)\n",
      "MPB solved for frequency_1(0,0,0.927273) = 0.927273 after 7 iters\n",
      "Dominant planewave for band 1: (0.000000,0.000000,0.927273)\n",
      "MPB solved for frequency_1(0,0,0.935354) = 0.935354 after 7 iters\n",
      "Dominant planewave for band 1: (0.000000,0.000000,0.935354)\n",
      "MPB solved for frequency_1(0,0,0.943434) = 0.943434 after 7 iters\n",
      "Dominant planewave for band 1: (0.000000,0.000000,0.943434)\n",
      "MPB solved for frequency_1(0,0,0.951515) = 0.951515 after 7 iters\n",
      "Dominant planewave for band 1: (0.000000,0.000000,0.951515)\n",
      "MPB solved for frequency_1(0,0,0.959596) = 0.959596 after 7 iters\n",
      "Dominant planewave for band 1: (0.000000,0.000000,0.959596)\n",
      "MPB solved for frequency_1(0,0,0.967677) = 0.967677 after 7 iters\n",
      "Dominant planewave for band 1: (0.000000,0.000000,0.967677)\n",
      "MPB solved for frequency_1(0,0,0.975758) = 0.975758 after 7 iters\n",
      "Dominant planewave for band 1: (0.000000,0.000000,0.975758)\n",
      "MPB solved for frequency_1(0,0,0.983838) = 0.983838 after 7 iters\n",
      "Dominant planewave for band 1: (0.000000,0.000000,0.983838)\n",
      "MPB solved for frequency_1(0,0,0.991919) = 0.991919 after 7 iters\n",
      "Dominant planewave for band 1: (0.000000,0.000000,0.991919)\n",
      "MPB solved for frequency_1(0,0,1) = 1 after 7 iters\n",
      "Dominant planewave for band 1: (0.000000,0.000000,1.000000)\n",
      "MPB solved for frequency_1(0,0,0.28118) = 0.2 after 5 iters\n",
      "Dominant planewave for band 1: (0.000000,0.000000,0.281180)\n",
      "MPB solved for frequency_1(0,0,0.292541) = 0.208081 after 5 iters\n",
      "Dominant planewave for band 1: (0.000000,0.000000,0.292541)\n",
      "MPB solved for frequency_1(0,0,0.303902) = 0.216162 after 5 iters\n",
      "Dominant planewave for band 1: (0.000000,0.000000,0.303902)\n",
      "MPB solved for frequency_1(0,0,0.315262) = 0.224242 after 5 iters\n",
      "Dominant planewave for band 1: (0.000000,0.000000,0.315262)\n",
      "MPB solved for frequency_1(0,0,0.326623) = 0.232323 after 5 iters\n",
      "Dominant planewave for band 1: (0.000000,0.000000,0.326623)\n",
      "MPB solved for frequency_1(0,0,0.337984) = 0.240404 after 5 iters\n",
      "Dominant planewave for band 1: (0.000000,0.000000,0.337984)\n",
      "MPB solved for frequency_1(0,0,0.349345) = 0.248485 after 5 iters\n",
      "Dominant planewave for band 1: (0.000000,0.000000,0.349345)\n",
      "MPB solved for frequency_1(0,0,0.360706) = 0.256566 after 5 iters\n",
      "Dominant planewave for band 1: (0.000000,0.000000,0.360706)\n",
      "MPB solved for frequency_1(0,0,0.372066) = 0.264646 after 5 iters\n",
      "Dominant planewave for band 1: (0.000000,0.000000,0.372066)\n",
      "MPB solved for frequency_1(0,0,0.383427) = 0.272727 after 5 iters\n",
      "Dominant planewave for band 1: (0.000000,0.000000,0.383427)\n",
      "MPB solved for frequency_1(0,0,0.394788) = 0.280808 after 5 iters\n",
      "Dominant planewave for band 1: (0.000000,0.000000,0.394788)\n",
      "MPB solved for frequency_1(0,0,0.406149) = 0.288889 after 5 iters\n",
      "Dominant planewave for band 1: (0.000000,0.000000,0.406149)\n",
      "MPB solved for frequency_1(0,0,0.41751) = 0.29697 after 5 iters\n",
      "Dominant planewave for band 1: (0.000000,0.000000,0.417510)\n",
      "MPB solved for frequency_1(0,0,0.428871) = 0.305051 after 5 iters\n",
      "Dominant planewave for band 1: (0.000000,0.000000,0.428871)\n",
      "MPB solved for frequency_1(0,0,0.440231) = 0.313131 after 6 iters\n",
      "Dominant planewave for band 1: (0.000000,0.000000,0.440231)\n",
      "MPB solved for frequency_1(0,0,0.451592) = 0.321212 after 6 iters\n",
      "Dominant planewave for band 1: (0.000000,0.000000,0.451592)\n",
      "MPB solved for frequency_1(0,0,0.462953) = 0.329293 after 6 iters\n",
      "Dominant planewave for band 1: (0.000000,0.000000,0.462953)\n",
      "MPB solved for frequency_1(0,0,0.474314) = 0.337374 after 6 iters\n",
      "Dominant planewave for band 1: (0.000000,0.000000,0.474314)\n",
      "MPB solved for frequency_1(0,0,0.485675) = 0.345455 after 6 iters\n",
      "Dominant planewave for band 1: (0.000000,0.000000,0.485675)\n",
      "MPB solved for frequency_1(0,0,0.497035) = 0.353535 after 6 iters\n",
      "Dominant planewave for band 1: (0.000000,0.000000,0.497035)\n",
      "MPB solved for frequency_1(0,0,0.508396) = 0.361616 after 6 iters\n",
      "Dominant planewave for band 1: (0.000000,0.000000,0.508396)\n",
      "MPB solved for frequency_1(0,0,0.519757) = 0.369697 after 6 iters\n",
      "Dominant planewave for band 1: (0.000000,0.000000,0.519757)\n",
      "MPB solved for frequency_1(0,0,0.531118) = 0.377778 after 6 iters\n",
      "Dominant planewave for band 1: (0.000000,0.000000,0.531118)\n",
      "MPB solved for frequency_1(0,0,0.542479) = 0.385859 after 6 iters\n",
      "Dominant planewave for band 1: (0.000000,0.000000,0.542479)\n",
      "MPB solved for frequency_1(0,0,0.553839) = 0.393939 after 6 iters\n",
      "Dominant planewave for band 1: (0.000000,0.000000,0.553839)\n",
      "MPB solved for frequency_1(0,0,0.5652) = 0.40202 after 6 iters\n",
      "Dominant planewave for band 1: (0.000000,0.000000,0.565200)\n",
      "MPB solved for frequency_1(0,0,0.576561) = 0.410101 after 6 iters\n",
      "Dominant planewave for band 1: (0.000000,0.000000,0.576561)\n",
      "MPB solved for frequency_1(0,0,0.587922) = 0.418182 after 6 iters\n",
      "Dominant planewave for band 1: (0.000000,0.000000,0.587922)\n",
      "MPB solved for frequency_1(0,0,0.599283) = 0.426263 after 6 iters\n",
      "Dominant planewave for band 1: (0.000000,0.000000,0.599283)\n",
      "MPB solved for frequency_1(0,0,0.610643) = 0.434343 after 6 iters\n",
      "Dominant planewave for band 1: (0.000000,0.000000,0.610643)\n",
      "MPB solved for frequency_1(0,0,0.622004) = 0.442424 after 6 iters\n",
      "Dominant planewave for band 1: (0.000000,0.000000,0.622004)\n",
      "MPB solved for frequency_1(0,0,0.633365) = 0.450505 after 6 iters\n",
      "Dominant planewave for band 1: (0.000000,0.000000,0.633365)\n",
      "MPB solved for frequency_1(0,0,0.644726) = 0.458586 after 6 iters\n",
      "Dominant planewave for band 1: (0.000000,0.000000,0.644726)\n",
      "MPB solved for frequency_1(0,0,0.656087) = 0.466667 after 6 iters\n",
      "Dominant planewave for band 1: (0.000000,0.000000,0.656087)\n",
      "MPB solved for frequency_1(0,0,0.667447) = 0.474747 after 6 iters\n",
      "Dominant planewave for band 1: (0.000000,0.000000,0.667447)\n",
      "MPB solved for frequency_1(0,0,0.678808) = 0.482828 after 6 iters\n",
      "Dominant planewave for band 1: (0.000000,0.000000,0.678808)\n",
      "MPB solved for frequency_1(0,0,0.690169) = 0.490909 after 6 iters\n",
      "Dominant planewave for band 1: (0.000000,0.000000,0.690169)\n",
      "MPB solved for frequency_1(0,0,0.70153) = 0.49899 after 6 iters\n",
      "Dominant planewave for band 1: (0.000000,0.000000,0.701530)\n",
      "MPB solved for frequency_1(0,0,0.712891) = 0.507071 after 6 iters\n",
      "Dominant planewave for band 1: (0.000000,0.000000,0.712891)\n",
      "MPB solved for frequency_1(0,0,0.724252) = 0.515152 after 6 iters\n",
      "Dominant planewave for band 1: (0.000000,0.000000,0.724252)\n",
      "MPB solved for frequency_1(0,0,0.735612) = 0.523232 after 6 iters\n",
      "Dominant planewave for band 1: (0.000000,0.000000,0.735612)\n",
      "MPB solved for frequency_1(0,0,0.746973) = 0.531313 after 7 iters\n",
      "Dominant planewave for band 1: (0.000000,0.000000,0.746973)\n",
      "MPB solved for frequency_1(0,0,0.758334) = 0.539394 after 7 iters\n",
      "Dominant planewave for band 1: (0.000000,0.000000,0.758334)\n",
      "MPB solved for frequency_1(0,0,0.769695) = 0.547475 after 7 iters\n",
      "Dominant planewave for band 1: (0.000000,0.000000,0.769695)\n",
      "MPB solved for frequency_1(0,0,0.781056) = 0.555556 after 7 iters\n",
      "Dominant planewave for band 1: (0.000000,0.000000,0.781056)\n",
      "MPB solved for frequency_1(0,0,0.792416) = 0.563636 after 7 iters\n",
      "Dominant planewave for band 1: (0.000000,0.000000,0.792416)\n",
      "MPB solved for frequency_1(0,0,0.803777) = 0.571717 after 7 iters\n",
      "Dominant planewave for band 1: (0.000000,0.000000,0.803777)\n",
      "MPB solved for frequency_1(0,0,0.815138) = 0.579798 after 7 iters\n",
      "Dominant planewave for band 1: (0.000000,0.000000,0.815138)\n",
      "MPB solved for frequency_1(0,0,0.826499) = 0.587879 after 7 iters\n",
      "Dominant planewave for band 1: (0.000000,0.000000,0.826499)\n",
      "MPB solved for frequency_1(0,0,0.83786) = 0.59596 after 7 iters\n",
      "Dominant planewave for band 1: (0.000000,0.000000,0.837860)\n",
      "MPB solved for frequency_1(0,0,0.84922) = 0.60404 after 7 iters\n",
      "Dominant planewave for band 1: (0.000000,0.000000,0.849220)\n",
      "MPB solved for frequency_1(0,0,0.860581) = 0.612121 after 7 iters\n",
      "Dominant planewave for band 1: (0.000000,0.000000,0.860581)\n",
      "MPB solved for frequency_1(0,0,0.871942) = 0.620202 after 7 iters\n",
      "Dominant planewave for band 1: (0.000000,0.000000,0.871942)\n",
      "MPB solved for frequency_1(0,0,0.883303) = 0.628283 after 7 iters\n",
      "Dominant planewave for band 1: (0.000000,0.000000,0.883303)\n",
      "MPB solved for frequency_1(0,0,0.894664) = 0.636364 after 7 iters\n",
      "Dominant planewave for band 1: (0.000000,0.000000,0.894664)\n",
      "MPB solved for frequency_1(0,0,0.906024) = 0.644444 after 7 iters\n",
      "Dominant planewave for band 1: (0.000000,0.000000,0.906024)\n",
      "MPB solved for frequency_1(0,0,0.917385) = 0.652525 after 7 iters\n",
      "Dominant planewave for band 1: (0.000000,0.000000,0.917385)\n",
      "MPB solved for frequency_1(0,0,0.928746) = 0.660606 after 7 iters\n",
      "Dominant planewave for band 1: (0.000000,0.000000,0.928746)\n",
      "MPB solved for frequency_1(0,0,0.940107) = 0.668687 after 7 iters\n",
      "Dominant planewave for band 1: (0.000000,0.000000,0.940107)\n",
      "MPB solved for frequency_1(0,0,0.951468) = 0.676768 after 7 iters\n",
      "Dominant planewave for band 1: (0.000000,0.000000,0.951468)\n",
      "MPB solved for frequency_1(0,0,0.962828) = 0.684848 after 7 iters\n",
      "Dominant planewave for band 1: (0.000000,0.000000,0.962828)\n",
      "MPB solved for frequency_1(0,0,0.974189) = 0.692929 after 7 iters\n",
      "Dominant planewave for band 1: (0.000000,0.000000,0.974189)\n",
      "MPB solved for frequency_1(0,0,0.98555) = 0.70101 after 7 iters\n",
      "Dominant planewave for band 1: (0.000000,0.000000,0.985550)\n",
      "MPB solved for frequency_1(0,0,0.996911) = 0.709091 after 7 iters\n",
      "Dominant planewave for band 1: (0.000000,0.000000,0.996911)\n",
      "MPB solved for frequency_1(0,0,1.00827) = 0.717172 after 7 iters\n",
      "Dominant planewave for band 1: (0.000000,0.000000,1.008272)\n",
      "MPB solved for frequency_1(0,0,1.01963) = 0.725253 after 7 iters\n",
      "Dominant planewave for band 1: (0.000000,0.000000,1.019633)\n",
      "MPB solved for frequency_1(0,0,1.03099) = 0.733333 after 7 iters\n",
      "Dominant planewave for band 1: (0.000000,0.000000,1.030993)\n",
      "MPB solved for frequency_1(0,0,1.04235) = 0.741414 after 8 iters\n",
      "Dominant planewave for band 1: (0.000000,0.000000,1.042354)\n",
      "MPB solved for frequency_1(0,0,1.05371) = 0.749495 after 8 iters\n",
      "Dominant planewave for band 1: (0.000000,0.000000,1.053715)\n",
      "MPB solved for frequency_1(0,0,1.06508) = 0.757576 after 8 iters\n",
      "Dominant planewave for band 1: (0.000000,0.000000,1.065076)\n",
      "MPB solved for frequency_1(0,0,1.07644) = 0.765657 after 8 iters\n",
      "Dominant planewave for band 1: (0.000000,0.000000,1.076437)\n",
      "MPB solved for frequency_1(0,0,1.0878) = 0.773737 after 8 iters\n",
      "Dominant planewave for band 1: (0.000000,0.000000,1.087797)\n",
      "MPB solved for frequency_1(0,0,1.09916) = 0.781818 after 8 iters\n",
      "Dominant planewave for band 1: (0.000000,0.000000,1.099158)\n",
      "MPB solved for frequency_1(0,0,1.11052) = 0.789899 after 8 iters\n",
      "Dominant planewave for band 1: (0.000000,0.000000,1.110519)\n",
      "MPB solved for frequency_1(0,0,1.12188) = 0.79798 after 8 iters\n",
      "Dominant planewave for band 1: (0.000000,0.000000,1.121880)\n",
      "MPB solved for frequency_1(0,0,1.13324) = 0.806061 after 8 iters\n",
      "Dominant planewave for band 1: (0.000000,0.000000,1.133241)\n",
      "MPB solved for frequency_1(0,0,1.1446) = 0.814141 after 8 iters\n",
      "Dominant planewave for band 1: (0.000000,0.000000,1.144601)\n",
      "MPB solved for frequency_1(0,0,1.15596) = 0.822222 after 8 iters\n",
      "Dominant planewave for band 1: (0.000000,0.000000,1.155962)\n",
      "MPB solved for frequency_1(0,0,1.16732) = 0.830303 after 8 iters\n",
      "Dominant planewave for band 1: (0.000000,0.000000,1.167323)\n",
      "MPB solved for frequency_1(0,0,1.17868) = 0.838384 after 8 iters\n",
      "Dominant planewave for band 1: (0.000000,0.000000,1.178684)\n",
      "MPB solved for frequency_1(0,0,1.19004) = 0.846465 after 8 iters\n",
      "Dominant planewave for band 1: (0.000000,0.000000,1.190045)\n",
      "MPB solved for frequency_1(0,0,1.20141) = 0.854545 after 8 iters\n",
      "Dominant planewave for band 1: (0.000000,0.000000,1.201405)\n",
      "MPB solved for frequency_1(0,0,1.21277) = 0.862626 after 8 iters\n",
      "Dominant planewave for band 1: (0.000000,0.000000,1.212766)\n",
      "MPB solved for frequency_1(0,0,1.22413) = 0.870707 after 8 iters\n",
      "Dominant planewave for band 1: (0.000000,0.000000,1.224127)\n",
      "MPB solved for frequency_1(0,0,1.23549) = 0.878788 after 8 iters\n",
      "Dominant planewave for band 1: (0.000000,0.000000,1.235488)\n",
      "MPB solved for frequency_1(0,0,1.24685) = 0.886869 after 8 iters\n",
      "Dominant planewave for band 1: (0.000000,0.000000,1.246849)\n",
      "MPB solved for frequency_1(0,0,1.25821) = 0.894949 after 8 iters\n",
      "Dominant planewave for band 1: (0.000000,0.000000,1.258209)\n",
      "MPB solved for frequency_1(0,0,1.26957) = 0.90303 after 8 iters\n",
      "Dominant planewave for band 1: (0.000000,0.000000,1.269570)\n",
      "MPB solved for frequency_1(0,0,1.28093) = 0.911111 after 8 iters\n",
      "Dominant planewave for band 1: (0.000000,0.000000,1.280931)\n",
      "MPB solved for frequency_1(0,0,1.29229) = 0.919192 after 8 iters\n",
      "Dominant planewave for band 1: (0.000000,0.000000,1.292292)\n",
      "MPB solved for frequency_1(0,0,1.30365) = 0.927273 after 8 iters\n",
      "Dominant planewave for band 1: (0.000000,0.000000,1.303653)\n",
      "MPB solved for frequency_1(0,0,1.31501) = 0.935354 after 8 iters\n",
      "Dominant planewave for band 1: (0.000000,0.000000,1.315014)\n",
      "MPB solved for frequency_1(0,0,1.32637) = 0.943434 after 8 iters\n",
      "Dominant planewave for band 1: (0.000000,0.000000,1.326374)\n",
      "MPB solved for frequency_1(0,0,1.33774) = 0.951515 after 8 iters\n",
      "Dominant planewave for band 1: (0.000000,0.000000,1.337735)\n",
      "MPB solved for frequency_1(0,0,1.3491) = 0.959596 after 8 iters\n",
      "Dominant planewave for band 1: (0.000000,0.000000,1.349096)\n",
      "MPB solved for frequency_1(0,0,1.36046) = 0.967677 after 8 iters\n",
      "Dominant planewave for band 1: (0.000000,0.000000,1.360457)\n",
      "MPB solved for frequency_1(0,0,1.37182) = 0.975758 after 8 iters\n",
      "Dominant planewave for band 1: (0.000000,0.000000,1.371818)\n",
      "MPB solved for frequency_1(0,0,1.38318) = 0.983838 after 8 iters\n",
      "Dominant planewave for band 1: (0.000000,0.000000,1.383178)\n",
      "MPB solved for frequency_1(0,0,1.39454) = 0.991919 after 8 iters\n",
      "Dominant planewave for band 1: (0.000000,0.000000,1.394539)\n",
      "MPB solved for frequency_1(0,0,1.4059) = 1 after 8 iters\n",
      "Dominant planewave for band 1: (0.000000,0.000000,1.405900)\n"
     ]
    }
   ],
   "source": [
    "S11 = sim.get_eigenmode_coefficients(refl, [1]).alpha[0]\n",
    "S21 = sim.get_eigenmode_coefficients(tran, [1]).alpha[0]"
   ]
  },
  {
   "cell_type": "code",
   "execution_count": null,
   "metadata": {},
   "outputs": [],
   "source": [
    "a = np.array([coef[1] for coef in S11])\n",
    "b = np.array([coef[0] for coef in S21])\n",
    "c = np.array([coef[0] for coef in S11])"
   ]
  },
  {
   "cell_type": "code",
   "execution_count": null,
   "metadata": {},
   "outputs": [
    {
     "data": {
      "text/plain": [
       "<matplotlib.legend.Legend at 0x7fb05f4ce500>"
      ]
     },
     "execution_count": 14,
     "metadata": {},
     "output_type": "execute_result"
    },
    {
     "data": {
      "image/png": "[encoded data removed]",
      "text/plain": [
       "<Figure size 640x480 with 1 Axes>"
      ]
     },
     "metadata": {},
     "output_type": "display_data"
    }
   ],
   "source": [
    "plt.plot(wl, np.abs(a/c)**2, label='$|S_{11}|^2$')\n",
    "plt.plot(wl, np.abs(b/c)**2, label='$|S_{21}|^2$')\n",
    "plt.legend()"
   ]
  },
  {
   "cell_type": "code",
   "execution_count": null,
   "metadata": {},
   "outputs": [
    {
     "ename": "NameError",
     "evalue": "name 'freqs' is not defined",
     "output_type": "error",
     "traceback": [
      "\u001b[0;31m---------------------------------------------------------------------------\u001b[0m",
      "\u001b[0;31mNameError\u001b[0m                                 Traceback (most recent call last)",
      "\u001b[1;32m/home/gridsan/mcomella/metamaterials/examples/s_params.ipynb Cell 17\u001b[0m in \u001b[0;36m<cell line: 2>\u001b[0;34m()\u001b[0m\n\u001b[1;32m      <a href='vscode-notebook-cell://ssh-remote%2B7b22686f73744e616d65223a224d4954205375706572636c6f7564227d/home/gridsan/mcomella/metamaterials/examples/s_params.ipynb#X22sdnNjb2RlLXJlbW90ZQ%3D%3D?line=0'>1</a>\u001b[0m \u001b[39mimport\u001b[39;00m \u001b[39mmatplotlib\u001b[39;00m\u001b[39m.\u001b[39;00m\u001b[39mpyplot\u001b[39;00m \u001b[39mas\u001b[39;00m \u001b[39mplt\u001b[39;00m\n\u001b[0;32m----> <a href='vscode-notebook-cell://ssh-remote%2B7b22686f73744e616d65223a224d4954205375706572636c6f7564227d/home/gridsan/mcomella/metamaterials/examples/s_params.ipynb#X22sdnNjb2RlLXJlbW90ZQ%3D%3D?line=1'>2</a>\u001b[0m plt\u001b[39m.\u001b[39mplot(freqs, np\u001b[39m.\u001b[39mabs(a\u001b[39m/\u001b[39mc)\u001b[39m*\u001b[39m\u001b[39m*\u001b[39m\u001b[39m2\u001b[39m, \u001b[39m'\u001b[39m\u001b[39mb\u001b[39m\u001b[39m'\u001b[39m, label\u001b[39m=\u001b[39m\u001b[39m'\u001b[39m\u001b[39m$|S_\u001b[39m\u001b[39m{11}\u001b[39;00m\u001b[39m|^2$\u001b[39m\u001b[39m'\u001b[39m)\n\u001b[1;32m      <a href='vscode-notebook-cell://ssh-remote%2B7b22686f73744e616d65223a224d4954205375706572636c6f7564227d/home/gridsan/mcomella/metamaterials/examples/s_params.ipynb#X22sdnNjb2RlLXJlbW90ZQ%3D%3D?line=2'>3</a>\u001b[0m plt\u001b[39m.\u001b[39mplot(freqs, np\u001b[39m.\u001b[39mabs(b\u001b[39m/\u001b[39mc)\u001b[39m*\u001b[39m\u001b[39m*\u001b[39m\u001b[39m2\u001b[39m, \u001b[39m'\u001b[39m\u001b[39mr\u001b[39m\u001b[39m'\u001b[39m, label\u001b[39m=\u001b[39m\u001b[39m'\u001b[39m\u001b[39m$|S_\u001b[39m\u001b[39m{12}\u001b[39;00m\u001b[39m|^2$\u001b[39m\u001b[39m'\u001b[39m)\n",
      "\u001b[0;31mNameError\u001b[0m: name 'freqs' is not defined"
     ]
    }
   ],
   "source": [
    "import matplotlib.pyplot as plt\n",
    "plt.plot(freqs, np.abs(a/c)**2, 'b', label='$|S_{11}|^2$')\n",
    "plt.plot(freqs, np.abs(b/c)**2, 'r', label='$|S_{12}|^2$')"
   ]
  },
  {
   "cell_type": "markdown",
   "metadata": {},
   "source": [
    "Save S parameters to xlsx file"
   ]
  },
  {
   "cell_type": "code",
   "execution_count": null,
   "metadata": {},
   "outputs": [],
   "source": [
    "# Save S parameter data to xmls\n",
    "import pandas as pd\n",
    "\n",
    "f = np.array(freqs)\n",
    "df = pd.DataFrame(data={'f': f, 'R': a/c, 'T': b/c, 'a': a, 'b': b, 'c': c})\n",
    "df.to_excel('s_params_yy.xlsx')"
   ]
  },
  {
   "cell_type": "code",
   "execution_count": null,
   "metadata": {},
   "outputs": [
    {
     "data": {
      "text/plain": [
       "'0'"
      ]
     },
     "execution_count": 17,
     "metadata": {},
     "output_type": "execute_result"
    }
   ],
   "source": [
    "str(mp.Ex)"
   ]
  },
  {
   "cell_type": "markdown",
   "metadata": {},
   "source": [
    "---"
   ]
  },
  {
   "cell_type": "markdown",
   "metadata": {},
   "source": [
    "#### Retrieval"
   ]
  },
  {
   "cell_type": "code",
   "execution_count": null,
   "metadata": {},
   "outputs": [],
   "source": [
    "k = 2*np.pi/wl\n",
    "prepad = st-dpml-0.2-t # Distance between reflection monitor and metamaterial\n",
    "postpad = st-dpml-0.1 # Distance between metamaterial back and transmission monitor\n",
    "\n",
    "S11 = a/c * np.exp(-1j*k*(2*prepad+0.2))\n",
    "S21 = b/c * np.exp(-1j*k*(prepad+0.2)-1j*k*n_SiO2*postpad)\n",
    "\n",
    "S11 = a/c * np.exp(-1j*k*(2*prepad))\n",
    "S21 = b/c * np.exp(-1j*k*prepad-1j*k*n_SiO2*postpad)"
   ]
  },
  {
   "cell_type": "code",
   "execution_count": null,
   "metadata": {},
   "outputs": [],
   "source": [
    "# Save S parameters\n",
    "import pandas as pd\n",
    "df = pd.DataFrame(data={'f': f, 'R': S11, 'T': S21})\n",
    "df.to_excel('MATLAB/new_s_params.xlsx', index=False)"
   ]
  },
  {
   "cell_type": "code",
   "execution_count": null,
   "metadata": {},
   "outputs": [],
   "source": [
    "def retrieve(S11, S21, branch=0):\n",
    "    z = np.sqrt(((1+S11)**2-S21**2)/((1-S11)**2-S21**2))\n",
    "    einkd = S21/(1 - S11*(z-1)/(z+1))\n",
    "    n = 1/(k*t) * (np.imag(np.log(einkd))+2*np.pi*branch - 1j*np.real(np.log(einkd)))\n",
    "\n",
    "    eps = n/z\n",
    "    mu = n*z\n",
    "\n",
    "    return [eps, mu, n, z]"
   ]
  },
  {
   "cell_type": "code",
   "execution_count": null,
   "metadata": {},
   "outputs": [],
   "source": [
    "[eps, mu, n, z] = retrieve(S11, S21, 0)\n",
    "\n",
    "plt.figure(dpi=100)\n",
    "plt.plot(freqs*c_/1e6, np.real(eps), label='$\\operatorname{Re}(\\epsilon)$')\n",
    "plt.plot(freqs*c_/1e6, 10*np.real(mu), label='$10\\operatorname{Re}(\\mu)$')\n",
    "plt.plot(freqs*c_/1e6, np.zeros(nfreqs), '--', color='black')\n",
    "plt.legend()"
   ]
  },
  {
   "cell_type": "code",
   "execution_count": null,
   "metadata": {},
   "outputs": [
    {
     "data": {
      "text/plain": [
       "[<matplotlib.lines.Line2D at 0x1408ea530>]"
      ]
     },
     "execution_count": 357,
     "metadata": {},
     "output_type": "execute_result"
    },
    {
     "data": {
      "image/png": "[encoded data removed]",
      "text/plain": [
       "<Figure size 432x288 with 1 Axes>"
      ]
     },
     "metadata": {
      "needs_background": "light"
     },
     "output_type": "display_data"
    }
   ],
   "source": [
    "plt.figure()\n",
    "plt.plot(freqs, np.real(n), 'blue')\n",
    "plt.plot(freqs, np.imag(n), 'blue', linestyle='dashed')\n",
    "plt.plot(freqs, np.zeros(nfreqs), '--', color='black')"
   ]
  },
  {
   "cell_type": "code",
   "execution_count": null,
   "metadata": {},
   "outputs": [
    {
     "data": {
      "text/plain": [
       "[<matplotlib.lines.Line2D at 0x140942080>]"
      ]
     },
     "execution_count": 358,
     "metadata": {},
     "output_type": "execute_result"
    },
    {
     "data": {
      "image/png": "[encoded data removed]",
      "text/plain": [
       "<Figure size 432x288 with 1 Axes>"
      ]
     },
     "metadata": {
      "needs_background": "light"
     },
     "output_type": "display_data"
    }
   ],
   "source": [
    "plt.figure()\n",
    "# plt.plot(freqs, np.real(n), 'blue')\n",
    "# plt.plot(freqs, np.imag(n), 'blue', linestyle='dashed')\n",
    "plt.plot(freqs, np.real(z), 'orange')\n",
    "plt.plot(freqs, np.imag(z), 'orange', linestyle='dashed')"
   ]
  },
  {
   "cell_type": "code",
   "execution_count": null,
   "metadata": {},
   "outputs": [
    {
     "data": {
      "text/plain": [
       "[<matplotlib.lines.Line2D at 0x1409b3df0>]"
      ]
     },
     "execution_count": 359,
     "metadata": {},
     "output_type": "execute_result"
    },
    {
     "data": {
      "image/png": "[encoded data removed]",
      "text/plain": [
       "<Figure size 432x288 with 1 Axes>"
      ]
     },
     "metadata": {
      "needs_background": "light"
     },
     "output_type": "display_data"
    }
   ],
   "source": [
    "plt.figure()\n",
    "plt.plot(freqs, np.real(n)*np.real(z))\n",
    "plt.plot(freqs, np.imag(n)*np.imag(z))\n",
    "plt.plot(freqs, np.zeros(nfreqs), '--', color='black')"
   ]
  },
  {
   "cell_type": "code",
   "execution_count": null,
   "metadata": {},
   "outputs": [
    {
     "data": {
      "text/plain": [
       "[<matplotlib.lines.Line2D at 0x140a17a00>]"
      ]
     },
     "execution_count": 360,
     "metadata": {},
     "output_type": "execute_result"
    },
    {
     "data": {
      "image/png": "[encoded data removed]",
      "text/plain": [
       "<Figure size 432x288 with 1 Axes>"
      ]
     },
     "metadata": {
      "needs_background": "light"
     },
     "output_type": "display_data"
    }
   ],
   "source": [
    "tmp = (np.real(n)*np.real(z)+np.imag(n)*np.imag(z))/(np.real(z)**2+np.imag(z)**2)\n",
    "plt.plot(freqs, tmp)"
   ]
  },
  {
   "cell_type": "code",
   "execution_count": null,
   "metadata": {},
   "outputs": [
    {
     "data": {
      "text/plain": [
       "[<matplotlib.lines.Line2D at 0x140a83160>]"
      ]
     },
     "execution_count": 361,
     "metadata": {},
     "output_type": "execute_result"
    },
    {
     "data": {
      "image/png": "[encoded data removed]",
      "text/plain": [
       "<Figure size 432x288 with 1 Axes>"
      ]
     },
     "metadata": {
      "needs_background": "light"
     },
     "output_type": "display_data"
    }
   ],
   "source": [
    "plt.plot(freqs, np.real(n)*np.real(z)-np.imag(n)*np.imag(z))"
   ]
  }
 ],
 "metadata": {
  "kernelspec": {
   "display_name": "Python 3.10.6 ('pmp')",
   "language": "python",
   "name": "python3"
  },
  "language_info": {
   "codemirror_mode": {
    "name": "ipython",
    "version": 3
   },
   "file_extension": ".py",
   "mimetype": "text/x-python",
   "name": "python",
   "nbconvert_exporter": "python",
   "pygments_lexer": "ipython3",
   "version": "3.10.6"
  },
  "vscode": {
   "interpreter": {
    "hash": "6d9189529467c46d6b7d7277835c1c7553c439175bd27f5d598d58373f0b02c0"
   }
  }
 },
 "nbformat": 4,
 "nbformat_minor": 2
}
